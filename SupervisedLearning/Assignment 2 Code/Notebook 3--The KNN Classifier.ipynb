{
 "cells": [
  {
   "cell_type": "code",
   "execution_count": 56,
   "metadata": {},
   "outputs": [],
   "source": [
    "import math\n",
    "import numpy as np\n",
    "import pandas as pd\n",
    "import scipy.io as sio\n",
    "import matplotlib.pyplot as plt\n",
    "import csv\n",
    "import time\n",
    "\n",
    "from sklearn.utils.extmath import weighted_mode\n",
    "from scipy.stats import mode\n",
    "from sklearn.model_selection import train_test_split\n",
    "from sklearn.model_selection import KFold\n",
    "from sklearn.metrics.pairwise import euclidean_distances, manhattan_distances\n",
    "from sklearn.metrics.pairwise import polynomial_kernel\n",
    "from numpy.linalg import inv, norm\n",
    "from mpl_toolkits.mplot3d import axes3d\n",
    "from numpy import mean\n",
    "%matplotlib inline"
   ]
  },
  {
   "cell_type": "markdown",
   "metadata": {},
   "source": [
    "### Import data from csv\n",
    "Store the data as a numpy array. \\\n",
    "Shape of the full dataset: \n",
    "9298 observations (rows), 257 cols, where column 1 corresponds to the true label of the digit, while the cols 2:257 store greyscale values.\n"
   ]
  },
  {
   "cell_type": "code",
   "execution_count": 57,
   "metadata": {},
   "outputs": [],
   "source": [
    "# Import to df\n",
    "data_df = pd.read_csv(\"zipcombo2.csv\")\n",
    "\n",
    "# Convert to array to facilitate vectorization later\n",
    "data = data_df.to_numpy()\n",
    "X = data[:, 1:]\n",
    "y = data[:, 0]"
   ]
  },
  {
   "cell_type": "code",
   "execution_count": 58,
   "metadata": {},
   "outputs": [],
   "source": [
    "X_train, X_test, y_train, y_test = train_test_split(X, y, test_size=0.2, shuffle=True)"
   ]
  },
  {
   "cell_type": "code",
   "execution_count": 59,
   "metadata": {},
   "outputs": [],
   "source": [
    "class KNN_classifier(object):\n",
    "    \n",
    "    def __init__(self, X_train, y_train, X_test, y_test, n_neighbours=3, prediction = 'mode', metric ='euclidean'):\n",
    "        self.X_train = X_train\n",
    "        self.y_train = y_train\n",
    "        self.X_test = X_test\n",
    "        self.y_test = y_test\n",
    "        self.k = n_neighbours\n",
    "        self.prediction = prediction\n",
    "        self.metric = metric\n",
    "\n",
    "        # Initialise\n",
    "        self.n_Data = self.y_train.shape[0]  \n",
    "        self.n_Data_test = self.y_test.shape[0]\n",
    "\n",
    "        # Distances\n",
    "        if metric == 'euclidean':\n",
    "            self.distances = euclidean_distances(X_train, X_train)\n",
    "            self.test_distances = euclidean_distances(X_train, X_test)\n",
    "    \n",
    "    def predict(self, neighbours, weights = None):\n",
    "       \n",
    "        if self.prediction == 'mode':\n",
    "            y_hat = mode(neighbours)[0]\n",
    "        if self.prediction == 'weighted':\n",
    "            y_hat = weighted_mode(neighbours, weights)[0][0]\n",
    "        \n",
    "        return y_hat\n",
    "    \n",
    "                              \n",
    "    def train(self):\n",
    "        self.y_hat = np.zeros(self.n_Data)\n",
    "\n",
    "        # For a given observation\n",
    "        for i in range(self.n_Data):\n",
    "\n",
    "            # Get indexes of neighbouring in increasing order\n",
    "            x_dist = np.argsort(self.distances[:,i])\n",
    "\n",
    "            # Convert to a list \n",
    "            x_dist_list = list(x_dist)\n",
    "\n",
    "            # Get the indexes of the k neighbours\n",
    "            neigh_ind = x_dist_list[:self.k]\n",
    "\n",
    "            # Get the y-values of the k_neighbours\n",
    "            neighbours = self.y_train[neigh_ind]\n",
    "\n",
    "            # Weights\n",
    "            weights = self.distances[neigh_ind, i]\n",
    "\n",
    "            # Get the prediction and save it\n",
    "            self.y_hat[i] = self.predict(neighbours, weights)\n",
    "\n",
    "        return np.sum(self.y_hat!=self.y_train)/self.n_Data*100\n",
    "\n",
    "\n",
    "    def test(self):\n",
    "        self.y_hat_test = np.zeros(self.n_Data_test)\n",
    "\n",
    "        # For a given observation\n",
    "        for i in range(self.n_Data_test):\n",
    "\n",
    "            # Get indexes of neighbouring in increasing order\n",
    "            x_dist = np.argsort(self.test_distances[:,i])\n",
    "\n",
    "            # Convert to a list \n",
    "            x_dist_list = list(x_dist)\n",
    "\n",
    "            # Get the indexes of the k neighbours\n",
    "            neigh_ind = x_dist_list[:self.k]\n",
    "\n",
    "            # Get the y-values of the k_neighbours\n",
    "            neighbours = self.y_train[neigh_ind]\n",
    "\n",
    "            # Weights\n",
    "            weights = 1/self.test_distances[neigh_ind, i]\n",
    "\n",
    "            # Get the prediction and save it\n",
    "            self.y_hat_test[i] = self.predict(neighbours, weights)\n",
    "\n",
    "        return np.sum(self.y_hat_test!=self.y_test)/self.n_Data_test*100"
   ]
  },
  {
   "cell_type": "code",
   "execution_count": 77,
   "metadata": {},
   "outputs": [],
   "source": [
    "times = []\n",
    "for i in range(20):\n",
    "    startTime = time.perf_counter()\n",
    "\n",
    "    clf = KNN_classifier(X_train, y_train, X_test, y_test, n_neighbours=3, prediction = 'mode')\n",
    "    train_error = clf.train()\n",
    "    test_error = clf.test()\n",
    "    \n",
    "    t = time.perf_counter() - startTime\n",
    "    times.append(t)"
   ]
  },
  {
   "cell_type": "code",
   "execution_count": 78,
   "metadata": {},
   "outputs": [
    {
     "name": "stdout",
     "output_type": "stream",
     "text": [
      "Mean computational time: 19.03642466000456+/-4.036722710598951 seconds\n"
     ]
    }
   ],
   "source": [
    "print(\"Mean computational time: \" + str(np.mean(times)) +\"+/-\" + str(np.std(times)) + \" seconds\")"
   ]
  },
  {
   "cell_type": "markdown",
   "metadata": {},
   "source": [
    "## Vertify our algorithm is equivalent to the library implementation"
   ]
  },
  {
   "cell_type": "code",
   "execution_count": 62,
   "metadata": {},
   "outputs": [
    {
     "name": "stdout",
     "output_type": "stream",
     "text": [
      "k = 1 Train Error : 0.0 Test Error : 3.387096774193549\n",
      "k = 2 Train Error : 1.8822264049475665 Test Error : 4.67741935483871\n",
      "k = 3 Train Error : 1.774670610379134 Test Error : 3.870967741935484\n",
      "k = 4 Train Error : 2.339338531863404 Test Error : 4.086021505376344\n",
      "k = 5 Train Error : 2.3662274805055126 Test Error : 4.193548387096775\n"
     ]
    }
   ],
   "source": [
    "for k in [1,2,3,4,5]:\n",
    "    \n",
    "    clf = KNN_classifier(X_train, y_train, X_test, y_test, n_neighbours=k, prediction = 'mode')\n",
    "    train_error = clf.train()\n",
    "    test_error = clf.test()\n",
    "    print(\"k = \" + str(k) + \" Train Error : \" + str(train_error) + \" Test Error : \" + str(test_error) )"
   ]
  },
  {
   "cell_type": "code",
   "execution_count": 63,
   "metadata": {},
   "outputs": [
    {
     "name": "stdout",
     "output_type": "stream",
     "text": [
      "k = 1 Test Error : 3.3870967741935374 Train Error : 0.0\n",
      "k = 2 Test Error : 4.677419354838705 Train Error : 1.8822264049475592\n",
      "k = 3 Test Error : 3.8709677419354875 Train Error : 1.7746706103791325\n",
      "k = 4 Test Error : 4.086021505376351 Train Error : 2.3393385318634046\n",
      "k = 5 Test Error : 4.193548387096783 Train Error : 2.366227480505515\n"
     ]
    }
   ],
   "source": [
    "for k in [1,2,3,4,5]:\n",
    "    neigh = KNeighborsClassifier(n_neighbors=k)\n",
    "    neigh.fit(X_train, y_train)\n",
    "    train_error = 100 - (neigh.score(X_train, y_train))*100\n",
    "    test_error = 100 - (neigh.score(X_test, y_test))*100\n",
    "    print(\"k = \" + str(k) + \" Test Error : \" + str(test_error) + \" Train Error : \" + str(train_error))"
   ]
  },
  {
   "cell_type": "markdown",
   "metadata": {},
   "source": [
    "## Preliminary tests to find good range of k"
   ]
  },
  {
   "cell_type": "code",
   "execution_count": 64,
   "metadata": {},
   "outputs": [
    {
     "name": "stdout",
     "output_type": "stream",
     "text": [
      "k = 1 Train Error : 0.0 Test Error : 3.387096774193549\n",
      "k = 2 Train Error : 1.8822264049475665 Test Error : 4.67741935483871\n",
      "k = 3 Train Error : 1.774670610379134 Test Error : 3.870967741935484\n",
      "k = 4 Train Error : 2.339338531863404 Test Error : 4.086021505376344\n",
      "k = 5 Train Error : 2.3662274805055126 Test Error : 4.193548387096775\n",
      "k = 10 Train Error : 3.5762301694003766 Test Error : 4.78494623655914\n",
      "k = 15 Train Error : 4.235009411132025 Test Error : 5.591397849462366\n",
      "k = 20 Train Error : 4.961011024468943 Test Error : 6.236559139784946\n"
     ]
    }
   ],
   "source": [
    "for k in [1,2,3,4,5,10,15,20]:\n",
    "    \n",
    "    clf = KNN_classifier(X_train, y_train, X_test, y_test, n_neighbours=k, prediction = 'mode')\n",
    "    train_error = clf.train()\n",
    "    test_error = clf.test()\n",
    "    print(\"k = \" + str(k) + \" Train Error : \" + str(train_error) + \" Test Error : \" + str(test_error) )"
   ]
  },
  {
   "cell_type": "code",
   "execution_count": 65,
   "metadata": {},
   "outputs": [
    {
     "name": "stdout",
     "output_type": "stream",
     "text": [
      "k = 1 Test Error : 3.3870967741935374 Train Error : 0.0\n",
      "k = 2 Test Error : 3.3870967741935374 Train Error : 0.0\n",
      "k = 3 Test Error : 3.7634408602150557 Train Error : 0.0\n",
      "k = 4 Test Error : 3.225806451612897 Train Error : 0.0\n",
      "k = 5 Test Error : 3.8709677419354875 Train Error : 0.0\n",
      "k = 6 Test Error : 3.709677419354847 Train Error : 0.0\n",
      "k = 7 Test Error : 4.247311827956992 Train Error : 0.0\n",
      "k = 8 Test Error : 4.086021505376351 Train Error : 0.0\n"
     ]
    }
   ],
   "source": [
    "for k in [1,2,3,4,5,6,7,8]:\n",
    "    neigh = KNeighborsClassifier(n_neighbors=k, weights = 'distance')\n",
    "    neigh.fit(X_train, y_train)\n",
    "    train_error = 100 - (neigh.score(X_train, y_train))*100\n",
    "    test_error = 100 - (neigh.score(X_test, y_test))*100\n",
    "    print(\"k = \" + str(k) + \" Test Error : \" + str(test_error) + \" Train Error : \" + str(train_error))"
   ]
  },
  {
   "cell_type": "markdown",
   "metadata": {},
   "source": [
    "### 1.1 Basic Results"
   ]
  },
  {
   "cell_type": "code",
   "execution_count": 66,
   "metadata": {},
   "outputs": [
    {
     "name": "stdout",
     "output_type": "stream",
     "text": [
      "k: 1 Average % train error: 0.0 Average % test error: 3.198924731182796\n",
      "k: 2 Average % train error: 1.8761763915030922 Average % test error: 4.223118279569892\n",
      "k: 3 Average % train error: 1.840548534552299 Average % test error: 3.53494623655914\n",
      "k: 4 Average % train error: 2.4005108900242 Average % test error: 3.6962365591397854\n",
      "k: 5 Average % train error: 2.5732723850497448 Average % test error: 3.7284946236559136\n",
      "k: 6 Average % train error: 2.945012100026889 Average % test error: 4.126344086021506\n",
      "k: 7 Average % train error: 3.0162678139284758 Average % test error: 4.309139784946236\n",
      "k: 8 Average % train error: 3.3759075020166707 Average % test error: 4.295698924731183\n"
     ]
    }
   ],
   "source": [
    "## 20 runs for d = {1,..,8}\n",
    "\n",
    "train_errors = []\n",
    "train_sd = []\n",
    "test_errors = []\n",
    "test_sd = []\n",
    "\n",
    "for k in range(1,9):\n",
    "    \n",
    "    run_train_errors = []\n",
    "    run_test_errors = []\n",
    "    \n",
    "    for run in range(20):\n",
    "        \n",
    "        X_train, X_test, y_train, y_test = train_test_split(X, y, test_size=0.2, shuffle=True)\n",
    "        \n",
    "        clf = KNN_classifier(X_train, y_train, X_test, y_test, n_neighbours=k, prediction = 'mode')\n",
    "        train_error = clf.train()\n",
    "        test_error = clf.test()\n",
    "        run_train_errors.append(train_error)\n",
    "        run_test_errors.append(test_error)\n",
    "        \n",
    "    train_errors.append(np.mean(run_train_errors))\n",
    "    print(\"k: \" + str(k) + \" Average % train error: \"+ str(np.mean(run_train_errors))+ \" Average % test error: \"+ str(np.mean(run_test_errors)))\n",
    "    test_errors.append(np.mean(run_test_errors))\n",
    "    test_sd.append(np.std(run_test_errors))\n",
    "    train_sd.append(np.std(run_train_errors))"
   ]
  },
  {
   "cell_type": "code",
   "execution_count": 67,
   "metadata": {},
   "outputs": [],
   "source": [
    "# Create a df to store the error results\n",
    "errors_df = pd.DataFrame()\n",
    "errors_df['d'] = np.array(range(1,9))\n",
    "errors_df['Train Error %'] = train_errors\n",
    "errors_df['+/- Train %'] = train_sd\n",
    "errors_df['Test Error %'] = test_errors\n",
    "errors_df['+/- Test %'] = test_sd"
   ]
  },
  {
   "cell_type": "code",
   "execution_count": 68,
   "metadata": {},
   "outputs": [
    {
     "data": {
      "text/html": [
       "<div>\n",
       "<style scoped>\n",
       "    .dataframe tbody tr th:only-of-type {\n",
       "        vertical-align: middle;\n",
       "    }\n",
       "\n",
       "    .dataframe tbody tr th {\n",
       "        vertical-align: top;\n",
       "    }\n",
       "\n",
       "    .dataframe thead th {\n",
       "        text-align: right;\n",
       "    }\n",
       "</style>\n",
       "<table border=\"1\" class=\"dataframe\">\n",
       "  <thead>\n",
       "    <tr style=\"text-align: right;\">\n",
       "      <th></th>\n",
       "      <th>d</th>\n",
       "      <th>Train Error %</th>\n",
       "      <th>+/- Train %</th>\n",
       "      <th>Test Error %</th>\n",
       "      <th>+/- Test %</th>\n",
       "    </tr>\n",
       "  </thead>\n",
       "  <tbody>\n",
       "    <tr>\n",
       "      <th>0</th>\n",
       "      <td>1</td>\n",
       "      <td>0.000000</td>\n",
       "      <td>0.000000</td>\n",
       "      <td>3.198925</td>\n",
       "      <td>0.478011</td>\n",
       "    </tr>\n",
       "    <tr>\n",
       "      <th>1</th>\n",
       "      <td>2</td>\n",
       "      <td>1.876176</td>\n",
       "      <td>0.066339</td>\n",
       "      <td>4.223118</td>\n",
       "      <td>0.389729</td>\n",
       "    </tr>\n",
       "    <tr>\n",
       "      <th>2</th>\n",
       "      <td>3</td>\n",
       "      <td>1.840549</td>\n",
       "      <td>0.080768</td>\n",
       "      <td>3.534946</td>\n",
       "      <td>0.396129</td>\n",
       "    </tr>\n",
       "    <tr>\n",
       "      <th>3</th>\n",
       "      <td>4</td>\n",
       "      <td>2.400511</td>\n",
       "      <td>0.094826</td>\n",
       "      <td>3.696237</td>\n",
       "      <td>0.367356</td>\n",
       "    </tr>\n",
       "    <tr>\n",
       "      <th>4</th>\n",
       "      <td>5</td>\n",
       "      <td>2.573272</td>\n",
       "      <td>0.096987</td>\n",
       "      <td>3.728495</td>\n",
       "      <td>0.431207</td>\n",
       "    </tr>\n",
       "    <tr>\n",
       "      <th>5</th>\n",
       "      <td>6</td>\n",
       "      <td>2.945012</td>\n",
       "      <td>0.118317</td>\n",
       "      <td>4.126344</td>\n",
       "      <td>0.486812</td>\n",
       "    </tr>\n",
       "    <tr>\n",
       "      <th>6</th>\n",
       "      <td>7</td>\n",
       "      <td>3.016268</td>\n",
       "      <td>0.147906</td>\n",
       "      <td>4.309140</td>\n",
       "      <td>0.470323</td>\n",
       "    </tr>\n",
       "    <tr>\n",
       "      <th>7</th>\n",
       "      <td>8</td>\n",
       "      <td>3.375908</td>\n",
       "      <td>0.129298</td>\n",
       "      <td>4.295699</td>\n",
       "      <td>0.452668</td>\n",
       "    </tr>\n",
       "  </tbody>\n",
       "</table>\n",
       "</div>"
      ],
      "text/plain": [
       "   d  Train Error %  +/- Train %  Test Error %  +/- Test %\n",
       "0  1       0.000000     0.000000      3.198925    0.478011\n",
       "1  2       1.876176     0.066339      4.223118    0.389729\n",
       "2  3       1.840549     0.080768      3.534946    0.396129\n",
       "3  4       2.400511     0.094826      3.696237    0.367356\n",
       "4  5       2.573272     0.096987      3.728495    0.431207\n",
       "5  6       2.945012     0.118317      4.126344    0.486812\n",
       "6  7       3.016268     0.147906      4.309140    0.470323\n",
       "7  8       3.375908     0.129298      4.295699    0.452668"
      ]
     },
     "execution_count": 68,
     "metadata": {},
     "output_type": "execute_result"
    }
   ],
   "source": [
    "errors_df"
   ]
  },
  {
   "cell_type": "code",
   "execution_count": 69,
   "metadata": {},
   "outputs": [],
   "source": [
    "# Export to csv\n",
    "errors_df.to_csv('KNN-errors_df.csv',index=False)"
   ]
  },
  {
   "cell_type": "markdown",
   "metadata": {},
   "source": [
    "### 1.2 Cross-Validation"
   ]
  },
  {
   "cell_type": "code",
   "execution_count": 70,
   "metadata": {},
   "outputs": [
    {
     "name": "stdout",
     "output_type": "stream",
     "text": [
      "Run: 0 Test Error: 3.1720430107526885 k*:  1\n",
      "Run: 1 Test Error: 4.46236559139785 k*:  1\n",
      "Run: 2 Test Error: 3.763440860215054 k*:  1\n",
      "Run: 3 Test Error: 2.849462365591398 k*:  1\n",
      "Run: 4 Test Error: 2.741935483870968 k*:  1\n",
      "Run: 5 Test Error: 3.2795698924731185 k*:  1\n",
      "Run: 6 Test Error: 3.1720430107526885 k*:  1\n",
      "Run: 7 Test Error: 3.7096774193548385 k*:  1\n",
      "Run: 8 Test Error: 3.064516129032258 k*:  1\n",
      "Run: 9 Test Error: 3.3333333333333335 k*:  3\n",
      "Run: 10 Test Error: 3.3333333333333335 k*:  3\n",
      "Run: 11 Test Error: 3.7096774193548385 k*:  1\n",
      "Run: 12 Test Error: 3.3333333333333335 k*:  1\n",
      "Run: 13 Test Error: 3.6021505376344085 k*:  1\n",
      "Run: 14 Test Error: 3.7096774193548385 k*:  1\n",
      "Run: 15 Test Error: 2.903225806451613 k*:  1\n",
      "Run: 16 Test Error: 3.655913978494624 k*:  1\n",
      "Run: 17 Test Error: 2.849462365591398 k*:  3\n",
      "Run: 18 Test Error: 2.5268817204301075 k*:  1\n",
      "Run: 19 Test Error: 3.118279569892473 k*:  1\n"
     ]
    }
   ],
   "source": [
    "k_stars = []\n",
    "test_errors = []\n",
    "\n",
    "for run in range(20):\n",
    "\n",
    "    # Split the data into 80% training, 20% test\n",
    "    X_train, X_test, y_train, y_test = train_test_split(X, y, test_size=0.2, shuffle=True)\n",
    "    \n",
    "    # Initialise\n",
    "    best_error = 500\n",
    "    best_k = 0\n",
    "\n",
    "    for k in range(1,9):\n",
    "       \n",
    "        error = 0 \n",
    "        \n",
    "        # Implement cross-validation\n",
    "        kfold = KFold(5, True, 1)\n",
    "\n",
    "        for train_index, test_index in kfold.split(X_train):\n",
    "            Xtrain, Xtest = X_train[train_index], X_train[test_index]\n",
    "            ytrain, ytest = y_train[train_index], y_train[test_index]\n",
    "            clf = KNN_classifier(Xtrain, ytrain, Xtest, ytest, n_neighbours=k, prediction = 'mode')\n",
    "            train_error = clf.train()\n",
    "            error += clf.test()\n",
    "        \n",
    "        if error/5 < best_error:\n",
    "            best_error = error/5\n",
    "            best_k = k\n",
    "            \n",
    "    # Once all the polynomial orders considered, retrain on full 80% using d*\n",
    "    clf = KNN_classifier(X_train, y_train, X_test, y_test, n_neighbours=best_k, prediction = 'mode')\n",
    "    train_error = clf.train()\n",
    "    test_error = clf.test()\n",
    "    print(\"Run: \" + str(run) + \" Test Error: \" + str(test_error) + \" k*:  \" + str(best_k))\n",
    "    test_errors.append(test_error)\n",
    "    k_stars.append(best_k)"
   ]
  },
  {
   "cell_type": "code",
   "execution_count": 71,
   "metadata": {},
   "outputs": [
    {
     "name": "stdout",
     "output_type": "stream",
     "text": [
      "Mean test error: 3.3145161290322585 +/- 0.4404912565707445\n",
      "Mean k*: 1.3 +/- 0.714142842854285\n"
     ]
    }
   ],
   "source": [
    "print(\"Mean test error: \" + str(np.mean(test_errors)) + \" +/- \" + str(np.std(test_errors)))\n",
    "print(\"Mean k*: \" + str(np.mean(k_stars)) + \" +/- \" + str(np.std(k_stars)))"
   ]
  }
 ],
 "metadata": {
  "celltoolbar": "Raw Cell Format",
  "kernelspec": {
   "display_name": "Python 3",
   "language": "python",
   "name": "python3"
  },
  "language_info": {
   "codemirror_mode": {
    "name": "ipython",
    "version": 3
   },
   "file_extension": ".py",
   "mimetype": "text/x-python",
   "name": "python",
   "nbconvert_exporter": "python",
   "pygments_lexer": "ipython3",
   "version": "3.7.3"
  }
 },
 "nbformat": 4,
 "nbformat_minor": 2
}
