{
  "nbformat": 4,
  "nbformat_minor": 0,
  "metadata": {
    "colab": {
      "name": "16034489_RL_hw3.ipynb",
      "provenance": [],
      "collapsed_sections": []
    },
    "kernelspec": {
      "display_name": "Python 3",
      "language": "python",
      "name": "python3"
    },
    "language_info": {
      "codemirror_mode": {
        "name": "ipython",
        "version": 3
      },
      "file_extension": ".py",
      "mimetype": "text/x-python",
      "name": "python",
      "nbconvert_exporter": "python",
      "pygments_lexer": "ipython3",
      "version": "3.6.9"
    },
    "accelerator": "GPU"
  },
  "cells": [
    {
      "cell_type": "markdown",
      "metadata": {
        "colab_type": "text",
        "id": "pYs6LMEbNqoQ"
      },
      "source": [
        "# RL homework 3\n",
        "\n",
        "-------------------------------\n",
        "\n",
        "\n",
        "**Name:** Your Name\n",
        "\n",
        "**SN:** Your Student Number\n",
        "\n",
        "-----------------------------------\n",
        "\n",
        "\n",
        "**Due date:** *May 13, 2020, 11:00 am*\n",
        "\n",
        "------------------------------------\n",
        "\n",
        "## How to Submit\n",
        "\n",
        "When you have completed the exercises and everything has finsihed running, click on 'File' in the menu-bar and then 'Download .ipynb'. This file must be submitted to Moodle named as **studentnumber_RL_hw3.ipynb** before the deadline above."
      ]
    },
    {
      "cell_type": "markdown",
      "metadata": {
        "colab_type": "text",
        "id": "rNuohp44N00i"
      },
      "source": [
        "# The Assignment\n",
        "\n",
        "### Objectives\n",
        "\n",
        "#### Part 1:\n",
        "You will implement several algorithms to investigate the role of planning in reinforcement learning.\n",
        "\n",
        "#### Part 2:\n",
        "You will be guided through the implementation of a full deep reinforcement learning agent.\n",
        "\n",
        "#### Part 3:\n",
        "You will implement a number of off-policy multi-step return estimates, and answer questions about their accuracy.\n",
        "\n"
      ]
    },
    {
      "cell_type": "markdown",
      "metadata": {
        "colab_type": "text",
        "id": "nVBcO5mAV9Ow"
      },
      "source": [
        "# Setup\n",
        "\n",
        "Run all the cells in this section, but do not modify them."
      ]
    },
    {
      "cell_type": "markdown",
      "metadata": {
        "colab_type": "text",
        "id": "Z1p0fpbxQLyn"
      },
      "source": [
        "## Imports"
      ]
    },
    {
      "cell_type": "code",
      "metadata": {
        "colab_type": "code",
        "id": "Ps5OnkPmDbMX",
        "colab": {}
      },
      "source": [
        "import functools\n",
        "import matplotlib.pyplot as plt\n",
        "import numpy as np\n",
        "from collections import namedtuple\n",
        "\n",
        "np.set_printoptions(precision=3, suppress=1)\n",
        "plt.style.use('seaborn-notebook')"
      ],
      "execution_count": 0,
      "outputs": []
    },
    {
      "cell_type": "markdown",
      "metadata": {
        "colab_type": "text",
        "id": "eFnvhnKlWN_Z"
      },
      "source": [
        "## Gridworlds"
      ]
    },
    {
      "cell_type": "code",
      "metadata": {
        "cellView": "form",
        "colab_type": "code",
        "id": "e5VkDWDTWNHE",
        "colab": {}
      },
      "source": [
        "#@title Implementation\n",
        "class Grid(object):\n",
        "\n",
        "  def __init__(self, discount=0.9):\n",
        "    # -1: wall\n",
        "    # 0: empty, episode continues\n",
        "    # other: number indicates reward, episode will terminate\n",
        "    self._layout = np.array([\n",
        "      [-1, -1, -1, -1, -1, -1, -1, -1, -1, -1],\n",
        "      [-1,  0,  0,  0,  0,  0,  0,  0,  0, -1],\n",
        "      [-1,  0,  0,  0, -1, -1,  0,  0, 10, -1],\n",
        "      [-1,  0,  0,  0, -1, -1,  0,  0,  0, -1],\n",
        "      [-1,  0,  0,  0, -1, -1,  0,  0,  0, -1],\n",
        "      [-1,  0,  0,  0,  0,  0,  0,  0,  0, -1],\n",
        "      [-1,  0,  0,  0,  0,  0,  0,  0,  0, -1],\n",
        "      [-1,  0,  0,  0,  0,  0,  0,  0,  0, -1],\n",
        "      [-1, -1, -1, -1, -1, -1, -1, -1, -1, -1]\n",
        "    ])\n",
        "    self._start_state = (2, 2)\n",
        "    self._goal_state = (8, 2)\n",
        "    self._state = self._start_state\n",
        "    self._number_of_states = np.prod(np.shape(self._layout))\n",
        "    self._discount = discount\n",
        "\n",
        "  @property\n",
        "  def number_of_states(self):\n",
        "      return self._number_of_states\n",
        "    \n",
        "  def plot_grid(self):\n",
        "    plt.figure(figsize=(3, 3))\n",
        "    plt.imshow(self._layout > -1, interpolation=\"nearest\", cmap=\"YlOrRd_r\")     \n",
        "    ax = plt.gca()\n",
        "    ax.grid(0)\n",
        "    plt.xticks([])\n",
        "    plt.yticks([])\n",
        "    plt.title(\"The grid\")\n",
        "    plt.text(\n",
        "        self._start_state[0], self._start_state[1], \n",
        "        r\"$\\mathbf{S}$\", ha='center', va='center')\n",
        "    plt.text(\n",
        "        self._goal_state[0], self._goal_state[1], \n",
        "        r\"$\\mathbf{G}$\", ha='center', va='center')\n",
        "    h, w = self._layout.shape\n",
        "    for y in range(h-3):\n",
        "      plt.plot([+0.5, w-1.5], [y+1.5, y+1.5], '-k', lw=2, alpha=0.5)\n",
        "    for x in range(w-3):\n",
        "      plt.plot([x+1.5, x+1.5], [+0.5, h-1.5], '-k', lw=2, alpha=0.5)\n",
        "\n",
        "  \n",
        "  def get_obs(self):\n",
        "    y, x = self._state\n",
        "    return y*self._layout.shape[1] + x\n",
        "  \n",
        "  def int_to_state(self, int_obs):\n",
        "    x = int_obs % self._layout.shape[1]\n",
        "    y = int_obs // self._layout.shape[1]\n",
        "    return y, x\n",
        "\n",
        "  def step(self, action):\n",
        "    y, x = self._state\n",
        "\n",
        "    if action == 0:  # up\n",
        "      new_state = (y - 1, x)\n",
        "    elif action == 1:  # right\n",
        "      new_state = (y, x + 1)\n",
        "    elif action == 2:  # down\n",
        "      new_state = (y + 1, x)\n",
        "    elif action == 3:  # left\n",
        "      new_state = (y, x - 1)\n",
        "    else:\n",
        "      raise ValueError(\"Invalid action: {} is not 0, 1, 2, or 3.\".format(action))\n",
        "\n",
        "    new_y, new_x = new_state\n",
        "    if self._layout[new_y, new_x] == -1:  # wall\n",
        "      reward = -5.\n",
        "      discount = self._discount\n",
        "      new_state = (y, x)\n",
        "    elif self._layout[new_y, new_x] == 0:  # empty cell\n",
        "      reward = 0.\n",
        "      discount = self._discount\n",
        "    else:  # a goal\n",
        "      reward = self._layout[new_y, new_x]\n",
        "      discount = 0.\n",
        "      new_state = self._start_state\n",
        "    \n",
        "    self._state = new_state\n",
        "    return reward, discount, self.get_obs()\n",
        "  \n",
        "class AltGrid(Grid):\n",
        "  \n",
        "    def __init__(self, discount=0.9):\n",
        "      # -1: wall\n",
        "      # 0: empty, episode continues\n",
        "      # other: number indicates reward, episode will terminate\n",
        "      self._layout = np.array([\n",
        "        [-1, -1, -1, -1, -1, -1, -1, -1, -1, -1],\n",
        "        [-1,  0,  0,  0,  0,  0,  0,  0,  0, -1],\n",
        "        [-1,  0,  0,  0, -1, -1,  0,  0,  0, -1],\n",
        "        [-1,  0,  0,  0, -1, -1,  0,  0,  0, -1],\n",
        "        [-1,  0,  0,  0, -1, -1,  0,  0,  0, -1],\n",
        "        [-1,  0,  0,  0,  0,  0,  0,  0,  0, -1],\n",
        "        [-1,  0,  0,  0,  0,  0,  0,  0,  0, -1],\n",
        "        [-1,  0, 10,  0,  0,  0,  0,  0,  0, -1],\n",
        "        [-1, -1, -1, -1, -1, -1, -1, -1, -1, -1]\n",
        "      ])\n",
        "      self._start_state = (2, 2)\n",
        "      self._goal_state = (2, 7)\n",
        "      self._state = self._start_state\n",
        "      self._number_of_states = np.prod(np.shape(self._layout))\n",
        "      self._discount = discount\n",
        "\n",
        "class FeatureGrid(Grid):\n",
        "  \n",
        "  def get_obs(self):\n",
        "    return self.state_to_features(self._state)\n",
        "  \n",
        "  def state_to_features(self, state):\n",
        "    y, x = state\n",
        "    x /= float(self._layout.shape[1] - 1)\n",
        "    y /= float(self._layout.shape[0] - 1)\n",
        "    markers = np.arange(0.1, 1.0, 0.1)\n",
        "    features = np.array([np.exp(-40*((x - m)**2+(y - n)**2))\n",
        "                         for m in markers\n",
        "                         for n in markers] + [1.])\n",
        "    return features / np.sum(features**2)\n",
        "  \n",
        "  def int_to_features(self, int_state):\n",
        "    return self.state_to_features(self.int_to_state(int_state))\n",
        "  \n",
        "  @property\n",
        "  def number_of_features(self):\n",
        "      return len(self.get_obs())"
      ],
      "execution_count": 0,
      "outputs": []
    },
    {
      "cell_type": "code",
      "metadata": {
        "cellView": "form",
        "colab_type": "code",
        "id": "zV0NxnIyWVtu",
        "outputId": "90beab05-2467-41ee-e2b1-18e178c1da79",
        "colab": {
          "base_uri": "https://localhost:8080/",
          "height": 732
        }
      },
      "source": [
        "#@title Show gridworlds\n",
        "\n",
        "# Plot tabular environments\n",
        "grid = Grid()\n",
        "alt_grid = AltGrid()\n",
        "print(\"A grid world\")\n",
        "grid.plot_grid()\n",
        "plt.show()\n",
        "print(\"\\nAn alternative grid world\")\n",
        "alt_grid.plot_grid()\n",
        "plt.show()\n",
        "\n",
        "# Plot features of each state for non tabular version of the environment.\n",
        "print(\n",
        "    \"\\nFeatures (visualised as 9x9 heatmaps) for different locations in the grid\"\n",
        "    \"\\n(Note: includes unreachable states that coincide with walls in this visualisation.)\"\n",
        ")\n",
        "feat_grid = FeatureGrid()\n",
        "shape = feat_grid._layout.shape\n",
        "f, axes = plt.subplots(shape[0], shape[1])\n",
        "for state_idx, ax in enumerate(axes.flatten()):\n",
        "  ax.imshow(np.reshape((feat_grid.int_to_features(state_idx)[:-1]),(9,9)),\n",
        "            interpolation='nearest',\n",
        "            cmap='plasma')\n",
        "  ax.set_xticks([])\n",
        "  ax.set_yticks([])\n",
        "plt.show()"
      ],
      "execution_count": 0,
      "outputs": [
        {
          "output_type": "stream",
          "text": [
            "A grid world\n"
          ],
          "name": "stdout"
        },
        {
          "output_type": "display_data",
          "data": {
            "image/png": "[encoded data removed]",
            "text/plain": [
              "<Figure size 216x216 with 1 Axes>"
            ]
          },
          "metadata": {
            "tags": []
          }
        },
        {
          "output_type": "stream",
          "text": [
            "\n",
            "An alternative grid world\n"
          ],
          "name": "stdout"
        },
        {
          "output_type": "display_data",
          "data": {
            "image/png": "[encoded data removed]",
            "text/plain": [
              "<Figure size 216x216 with 1 Axes>"
            ]
          },
          "metadata": {
            "tags": []
          }
        },
        {
          "output_type": "stream",
          "text": [
            "\n",
            "Features (visualised as 9x9 heatmaps) for different locations in the grid\n",
            "(Note: includes unreachable states that coincide with walls in this visualisation.)\n"
          ],
          "name": "stdout"
        },
        {
          "output_type": "display_data",
          "data": {
            "image/png": "[encoded data removed]",
            "text/plain": [
              "<Figure size 432x288 with 90 Axes>"
            ]
          },
          "metadata": {
            "tags": []
          }
        }
      ]
    },
    {
      "cell_type": "markdown",
      "metadata": {
        "colab_type": "text",
        "id": "3lpweIqAWBX3"
      },
      "source": [
        "## Helpers"
      ]
    },
    {
      "cell_type": "code",
      "metadata": {
        "cellView": "form",
        "colab_type": "code",
        "id": "95Ly2AaMWA5e",
        "colab": {}
      },
      "source": [
        "#@title helper functions (run, but don't modify this cell)\n",
        "\n",
        "def run_experiment(env, agent, number_of_steps):\n",
        "    mean_reward = 0.\n",
        "    try:\n",
        "      action = agent.initial_action()\n",
        "    except AttributeError:\n",
        "      action = 0\n",
        "    for i in range(number_of_steps):\n",
        "      reward, discount, next_state = env.step(action)\n",
        "      action = agent.step(reward, discount, next_state)\n",
        "      mean_reward += (reward - mean_reward)/(i + 1.)\n",
        "\n",
        "    return mean_reward\n",
        "  \n",
        "map_from_action_to_subplot = lambda a: (2, 6, 8, 4)[a]\n",
        "map_from_action_to_name = lambda a: (\"up\", \"right\", \"down\", \"left\")[a]\n",
        "\n",
        "def plot_rewards(xs, rewards, color):\n",
        "  mean = np.mean(rewards, axis=0)\n",
        "  p90 = np.percentile(rewards, 90, axis=0)\n",
        "  p10 = np.percentile(rewards, 10, axis=0)\n",
        "  plt.plot(xs, mean, color=color, alpha=0.6)\n",
        "  plt.fill_between(xs, p90, p10, color=color, alpha=0.3)\n",
        "\n",
        "def plot_values(values, colormap='pink', vmin=-1, vmax=10):\n",
        "  plt.imshow(values, interpolation=\"nearest\", cmap=colormap, vmin=vmin, vmax=vmax)\n",
        "  plt.yticks([])\n",
        "  plt.xticks([])\n",
        "  plt.colorbar(ticks=[vmin, vmax])\n",
        "\n",
        "def plot_state_value(action_values):\n",
        "  q = action_values\n",
        "  fig = plt.figure(figsize=(4, 4))\n",
        "  vmin = np.min(action_values)\n",
        "  vmax = np.max(action_values)\n",
        "  v = 0.9 * np.max(q, axis=-1) + 0.1 * np.mean(q, axis=-1)\n",
        "  plot_values(v, colormap='summer', vmin=vmin, vmax=vmax)\n",
        "  plt.title(\"$v(s)$\")\n",
        "\n",
        "def plot_action_values(action_values):\n",
        "  q = action_values\n",
        "  fig = plt.figure(figsize=(8, 8))\n",
        "  fig.subplots_adjust(wspace=0.3, hspace=0.3)\n",
        "  vmin = np.min(action_values)\n",
        "  vmax = np.max(action_values)\n",
        "  dif = vmax - vmin\n",
        "  for a in [0, 1, 2, 3]:\n",
        "    plt.subplot(3, 3, map_from_action_to_subplot(a))\n",
        "    \n",
        "    plot_values(q[..., a], vmin=vmin - 0.05*dif, vmax=vmax + 0.05*dif)\n",
        "    action_name = map_from_action_to_name(a)\n",
        "    plt.title(r\"$q(s, \\mathrm{\" + action_name + r\"})$\")\n",
        "    \n",
        "  plt.subplot(3, 3, 5)\n",
        "  v = 0.9 * np.max(q, axis=-1) + 0.1 * np.mean(q, axis=-1)\n",
        "  plot_values(v, colormap='summer', vmin=vmin, vmax=vmax)\n",
        "  plt.title(\"$v(s)$\")\n",
        "\n",
        "def parameter_study(parameter_values, parameter_name,\n",
        "  agent_constructor, env_constructor, color, repetitions=10, number_of_steps=int(1e4)):\n",
        "  mean_rewards = np.zeros((repetitions, len(parameter_values)))\n",
        "  greedy_rewards = np.zeros((repetitions, len(parameter_values)))\n",
        "  for rep in range(repetitions):\n",
        "    for i, p in enumerate(parameter_values):\n",
        "      env = env_constructor()\n",
        "      agent = agent_constructor()\n",
        "      if 'eps' in parameter_name:\n",
        "        agent.set_epsilon(p)\n",
        "      elif 'alpha' in parameter_name:\n",
        "        agent._step_size = p\n",
        "      else:\n",
        "        raise NameError(\"Unknown parameter_name: {}\".format(parameter_name))\n",
        "      mean_rewards[rep, i] = run_experiment(grid, agent, number_of_steps)\n",
        "      agent.set_epsilon(0.)\n",
        "      agent._step_size = 0.\n",
        "      greedy_rewards[rep, i] = run_experiment(grid, agent, number_of_steps//10)\n",
        "      del env\n",
        "      del agent\n",
        "\n",
        "  plt.subplot(1, 2, 1)\n",
        "  plot_rewards(parameter_values, mean_rewards, color)\n",
        "  plt.yticks=([0, 1], [0, 1])\n",
        "  plt.ylabel(\"Average reward over first {} steps\".format(number_of_steps), size=12)\n",
        "  plt.xlabel(parameter_name, size=12)\n",
        "\n",
        "  plt.subplot(1, 2, 2)\n",
        "  plot_rewards(parameter_values, greedy_rewards, color)\n",
        "  plt.yticks=([0, 1], [0, 1])\n",
        "  plt.ylabel(\"Final rewards, with greedy policy\".format(number_of_steps), size=12)\n",
        "  plt.xlabel(parameter_name, size=12)\n",
        "  \n",
        "def random_policy(q):\n",
        "  return np.random.randint(4)\n",
        "\n",
        "def epsilon_greedy(q_values, epsilon):\n",
        "  if epsilon < np.random.random():\n",
        "    return np.argmax(q_values)\n",
        "  else:\n",
        "    return np.random.randint(np.array(q_values).shape[-1])\n",
        "\n",
        "def plot_greedy_policy(grid, q):\n",
        "  action_names = [r\"$\\uparrow$\",r\"$\\rightarrow$\", r\"$\\downarrow$\", r\"$\\leftarrow$\"]\n",
        "  greedy_actions = np.argmax(q, axis=2)\n",
        "  grid.plot_grid()\n",
        "  for i in range(9):\n",
        "    for j in range(10):\n",
        "      action_name = action_names[greedy_actions[i,j]]\n",
        "      plt.text(j, i, action_name, ha='center', va='center')\n",
        "\n",
        "def plot_greedy_policy_v2(grid, pi):\n",
        "  action_names = [r\"$\\uparrow$\",r\"$\\rightarrow$\", r\"$\\downarrow$\", r\"$\\leftarrow$\"]\n",
        "  greedy_actions = np.argmax(pi, axis=2)\n",
        "  grid.plot_grid()\n",
        "  h, w = grid._layout.shape\n",
        "  for y in range(2, h-2):\n",
        "    for x in range(2, w-2):\n",
        "      action_name = action_names[greedy_actions[y-2, x-2]]\n",
        "      plt.text(x, y, action_name, ha='center', va='center')"
      ],
      "execution_count": 0,
      "outputs": []
    },
    {
      "cell_type": "markdown",
      "metadata": {
        "colab_type": "text",
        "id": "sC3M-IfEq2bI"
      },
      "source": [
        "# Part 1: Planning [50 marks]"
      ]
    },
    {
      "cell_type": "markdown",
      "metadata": {
        "colab_type": "text",
        "id": "nxVB3cCccYO-"
      },
      "source": [
        "## 1.1: Implement Models"
      ]
    },
    {
      "cell_type": "markdown",
      "metadata": {
        "colab_type": "text",
        "id": "j37IiBzpcdB4"
      },
      "source": [
        "### Question 1.1.1\n",
        "**[3 pts]** \n",
        "\n",
        "Implement a trainable **tabular model** of the environment.\n",
        "\n",
        "The model should implement: \n",
        "* a *next_state* method, taking a state and action and returning the next state in the environment.\n",
        "* a *reward* method, taking a state and action and returning the immediate reward associated to executing that action in that state.\n",
        "* a *discount* method, taking a state and action and returning the discount associated to executing that action in that state.\n",
        "* a *transition* method, taking a state and an action and returning both the next state and the reward associated to that transition.\n",
        "* a *update* method, taking a full transition *(state, action, reward, next_state)* and updating the model predictions.\n",
        "\n",
        "Given that the environment is deterministic and tabular the model will reduce to a simple lookup table."
      ]
    },
    {
      "cell_type": "code",
      "metadata": {
        "colab_type": "code",
        "id": "qzvPua0Sca2o",
        "colab": {}
      },
      "source": [
        "class TabularModel(object):\n",
        "\n",
        "  def __init__(self, number_of_states, number_of_actions):\n",
        "    self.S = np.zeros((number_of_states, number_of_actions), dtype='int8')\n",
        "    self.R = np.zeros((number_of_states, number_of_actions), dtype='float32')\n",
        "    self.G = np.zeros((number_of_states, number_of_actions), dtype='float32')\n",
        "\n",
        "  def next_state(self, s, a):\n",
        "      return self.S[s,a]\n",
        "  \n",
        "  def reward(self, s, a):\n",
        "    return self.R[s,a]\n",
        "\n",
        "  def discount(self, s, a):\n",
        "    return self.G[s,a]\n",
        "  \n",
        "  def transition(self, state, action):\n",
        "    return (\n",
        "        self.reward(state, action), \n",
        "        self.discount(state, action),\n",
        "        self.next_state(state, action))\n",
        "  \n",
        "  def update(self, state, action, reward, discount, next_state):\n",
        "    self.R[state, action] = reward\n",
        "    self.S[state, action] = next_state\n",
        "    self.G[state, action] = discount"
      ],
      "execution_count": 0,
      "outputs": []
    },
    {
      "cell_type": "markdown",
      "metadata": {
        "colab_type": "text",
        "id": "N6p8hNTLcyAK"
      },
      "source": [
        "### Question 1.1.2\n",
        "\n",
        "**[5 pts]** \n",
        "\n",
        "Implement a trainable **linear model** of the environment.\n",
        "\n",
        "The Model should implement: \n",
        "* a *next_state* method, taking a state and action and returning the predicted next state in the environment.\n",
        "* a *reward* method, taking a state and action and returning the predicted immediate reward associated to executing that action in that state.\n",
        "* a *discount* method, taking a state and action and returning the predicted discount associated to executing that action in that state.\n",
        "* a *transition* method, taking a state and an action and returning both the next state and the reward associated to that transition.\n",
        "* a *update* method, taking a full transition *(state, action, reward, next_state)* and updating the model (in its reward, discount and next_state component)\n",
        "\n",
        "For each selected action, the predicted reward $r'$, discount $\\gamma'$ and next state $\\mathbf{s}'$ will all be a linear function of the current state $\\mathbf{s}$.\n",
        "* $\\mathbf{s}' = \\mathbf{M}_a \\mathbf{s}$\n",
        "* $r' = (\\mathbf{m}^r_a)^{\\top} \\mathbf{s}$\n",
        "* $\\gamma' = (\\mathbf{m}^{\\gamma}_a)^{\\top} \\mathbf{s}$\n",
        "\n",
        "Where $\\mathbf{M}_a$ is a matrix of shape $(\\text{number_of_features}, \\text{number_of_features})$, $\\mathbf{m}^r_a$ and $\\mathbf{m}^{\\gamma}_a$ are vectors of shape $(\\text{number_of_features},)$\n",
        "\n",
        "The parameters of all these linear transformations must be trained by stochastic gradient descent. \n",
        "\n",
        "Write down the update to the parameters of the models and implement the update in the model below.\n"
      ]
    },
    {
      "cell_type": "code",
      "metadata": {
        "colab_type": "code",
        "id": "ab--TR-5c98N",
        "colab": {}
      },
      "source": [
        "class LinearModel(object):\n",
        "\n",
        "  def __init__(self, number_of_features, number_of_actions):\n",
        "    self.M = np.zeros((number_of_actions, number_of_features, number_of_features), dtype = 'float32')\n",
        "    self.mr = np.zeros((number_of_actions, number_of_features,), dtype = 'float32')\n",
        "    self.mg = np.zeros((number_of_actions, number_of_features,), dtype = 'float32')\n",
        "\n",
        "  def next_state(self, s, a):\n",
        "    next_state = np.matmul(self.M[a, :, :], s)\n",
        "    return next_state\n",
        "  \n",
        "  def reward(self, s, a):\n",
        "    R = np.dot(self.mr[a, :], s)\n",
        "    return R\n",
        "\n",
        "  def discount(self, s, a):\n",
        "    gamma =  np.dot(self.mg[a, :], s)\n",
        "    return gamma\n",
        "\n",
        "  def transition(self, state, action):\n",
        "    return (\n",
        "        self.reward(state, action),\n",
        "        self.discount(state, action),\n",
        "        self.next_state(state, action))\n",
        "\n",
        "  def update(self, state, action, reward, discount, next_state, step_size=0.1):\n",
        "    self.M[action, :, :] += step_size * np.matmul((next_state - self.next_state(state, action)).reshape(-1,1) , state.reshape(1,-1))\n",
        "    self.mr[action, :] += step_size * (reward - self.reward(state, action)) * state\n",
        "    self.mg[action, :] += step_size * (discount - self.discount(state, action)) * state"
      ],
      "execution_count": 0,
      "outputs": []
    },
    {
      "cell_type": "markdown",
      "metadata": {
        "colab_type": "text",
        "id": "fzpb_dGVjT0O"
      },
      "source": [
        "## 1.2: Implement Agents\n",
        "\n",
        "We are going to implement 4 agent:\n",
        "- Tabular Q-learning with Experience Replay\n",
        "- Tabular Dyna-Q with a tabular model\n",
        "- Linear Q-learning with Experience Replay\n",
        "- Linear Dyna-Q with a linear model\n",
        "\n",
        "All agents you implement in this section must share the agent interface below:\n",
        "\n",
        "#### `__init__(self, number_of_actions, number_of_states, initial_observation)`:\n",
        "The constructor will provide the agent the number of actions, number of states, and the initial observation. You can get such initial observation by instatiating an environment (e.g., `grid = Grid()`), and then calling `grid.get_obs()`.\n",
        "\n",
        "#### `step(self, reward, discount, next_observation)`:\n",
        "The step should update the internal values, and return a new action to take. When the discount is zero ($\\text{discount} = \\gamma = 0$), the `next_observation` will be the initial observation of the next episode.  One shouldn't bootstrap on the value of this state, which can simply be guaranteed when using \"$\\gamma \\cdot v(\\text{next_observation})$\" in the update, because $\\gamma = 0$.  So, the end of an episode can be seamlessly handled with the same step function. Note that to perform updates within the `step` function you typically need to store the previous state and/or action: you may set such previous action to 0 in the constructor for consumption in the first step of the first episode of the agent's lifetime.\n",
        " \n",
        "#### `q_values()`:\n",
        "For tabular agents **only**. This method must return a matrix of Q values of shape: (`number_of_states`, `number_of_actions`)\n",
        "\n",
        "#### `q_values(state)`:\n",
        "For agents with function approximation **only**. This method must return an array of Q values of shape: (`number_of_actions`)\n"
      ]
    },
    {
      "cell_type": "markdown",
      "metadata": {
        "colab_type": "text",
        "id": "omzJxb5ds0Iq"
      },
      "source": [
        "### Question 1.2.1\n",
        "\n",
        "**[5 pts]**\n",
        "\n",
        "Implement an agent that uses **Experience Replay** to learn action values, at each step:\n",
        "* select actions randomly\n",
        "* accumulate each observed transition *(s, a, r, s')* in a *replay buffer*,\n",
        "* apply an online Q-learning update with the most recently observed transition,\n",
        "* apply multiple Q-learning updates based on transitions sampled (uniformly) from the *replay buffer* (in addition to the online updates).\n",
        "\n",
        "So, the `step` function of the agent will, conceptually, look as follows:\n",
        "\n",
        "1. Append most recent observed transition $(S_t, A_t, R_{t+1}, \\gamma, S_{t+1})$ to replay buffer\n",
        "\n",
        "1. Update values: $Q(S_t, A_t)$ with Q-learning, using transition $(S_t, A_t, R_{t+1}, \\gamma, S_{t+1})$ \n",
        "\n",
        "1. Loop repeat n times:\n",
        "\n",
        "  1. Sample $S, A, R, \\gamma, S'$ from replay\n",
        "  \n",
        "  1. Update values: $Q(S, A)$ with Q-learning, using transition $(S, A, R, \\gamma, S')$ "
      ]
    },
    {
      "cell_type": "code",
      "metadata": {
        "colab_type": "code",
        "id": "TB9e_reb2pJX",
        "colab": {}
      },
      "source": [
        " class ExperienceQ(object):\n",
        "\n",
        "  def __init__(\n",
        "      self, number_of_states, number_of_actions, initial_state, \n",
        "      behaviour_policy, num_offline_updates=0, step_size=0.1):\n",
        "    \n",
        "    self._state = initial_state\n",
        "    self._action = np.random.randint(number_of_actions) # choose a random action to initalise\n",
        "    self._step_size = step_size\n",
        "    self._behaviour_policy = behaviour_policy\n",
        "    self._updates = num_offline_updates\n",
        "    self.ReplayBuffer =[]\n",
        "    self.number_of_actions = number_of_actions\n",
        "    self.Q = np.zeros((number_of_states, number_of_actions), dtype='float32') # initalise all q_values to zeros?\n",
        "\n",
        "  @property\n",
        "  def q_values(self):\n",
        "    return self.Q\n",
        "\n",
        "  def step(self, reward, discount, next_state):\n",
        "    s = self._state\n",
        "    a = self._action\n",
        "    r = reward\n",
        "    g = discount\n",
        "    next_s = next_state\n",
        "\n",
        "    # Append to ReplayBuffer\n",
        "    self.ReplayBuffer.append([s, a, r, g, next_s])\n",
        "    self.Q[s, a] += self._step_size * (r + g* np.max(self.Q[next_state, :]) - self.Q[s,a])\n",
        "    \n",
        "\n",
        "    # Sample Experiences and perform offline updates\n",
        "    index = np.random.randint(len(self.ReplayBuffer), size = self._updates) \n",
        "    for i in range(self._updates):\n",
        "      s_re, a_re, r_re, g_re, next_s_re = self.ReplayBuffer[index[i]]\n",
        "      self.Q[s_re,a_re] += self._step_size * (r_re + g_re * np.max(self.Q[next_s_re]) - self.Q[s_re,a_re])\n",
        "\n",
        "    # Choose new actions\n",
        "    self._action = self._behaviour_policy(self.Q[next_s])\n",
        "    self._state = next_s\n",
        "\n",
        "    return self._action\n"
      ],
      "execution_count": 0,
      "outputs": []
    },
    {
      "cell_type": "markdown",
      "metadata": {
        "colab_type": "text",
        "id": "MKfA7ifHvO-M"
      },
      "source": [
        "\n",
        "### Question 1.2.2\n",
        "\n",
        "**[5 pts]**\n",
        "\n",
        "Implement an agent that uses **Dyna-Q** to learn action values.\n",
        "* select actions randomly\n",
        "* accumulate all observed transitions *(s, a, r, s')* in the environment in a *replay buffer*,\n",
        "* apply an online Q-learning to Q-value\n",
        "* apply an update to the *model* based on the latest transition\n",
        "* apply multiple Q-learning updates based on transitions *(s, a, model.reward(s), model.next_state(s))* for some previous state and action pair *(s, a)*.\n",
        "\n",
        "So, the `step` function conceptually looks as follows:\n",
        "1. Append most recent observed transition $(S_t, A_t, R_{t+1}, \\gamma, S_{t+1})$ to replay buffer\n",
        "\n",
        "1. Update values: $Q(S_t, A_t)$ with Q-learning, using transition $(S_t, A_t, R_{t+1}, \\gamma, S_{t+1})$\n",
        "\n",
        "1. Update model: $M(S_t, A_t)$, using transition $(S_t, A_t, R_{t+1}, \\gamma, S_{t+1})$\n",
        "\n",
        "1. Loop repeat n times:\n",
        "\n",
        "  1. Sample $S, A$ from replay\n",
        "  \n",
        "  1. Generate $R, S' = M(S, A)$\n",
        "  \n",
        "  1. Update values: $Q(S, A)$ with Q-learning, using transition $(S, A, R, \\gamma, S')$ "
      ]
    },
    {
      "cell_type": "code",
      "metadata": {
        "colab_type": "code",
        "id": "WdJgVK6_3Q3-",
        "colab": {}
      },
      "source": [
        "class DynaQ(object):\n",
        "\n",
        "  def __init__(\n",
        "      self, number_of_states, number_of_actions, initial_state, \n",
        "      behaviour_policy, num_offline_updates=0, step_size=0.1):\n",
        "    \n",
        "    self._state = initial_state\n",
        "    self._action = np.random.randint(number_of_actions) \n",
        "    self._step_size = step_size\n",
        "    self._behaviour_policy = behaviour_policy\n",
        "    self._updates = num_offline_updates\n",
        "    self.number_of_actions = number_of_actions\n",
        "    self.Q = np.zeros((number_of_states, number_of_actions), dtype='float32') \n",
        "    self.ReplayBuffer = []\n",
        "    self.model = TabularModel(number_of_states, number_of_actions)\n",
        "\n",
        "    \n",
        "  @property\n",
        "  def q_values(self):\n",
        "    return self.Q\n",
        "\n",
        "  def step(self, reward, discount, next_state):\n",
        "    s = self._state\n",
        "    a = self._action\n",
        "    r = reward\n",
        "    g = discount\n",
        "    next_s = next_state\n",
        "\n",
        "    self.ReplayBuffer.append([s, a])\n",
        "    self.Q[s, a] += self._step_size * (r + g* np.max(self.Q[next_state, :]) - self.Q[s,a])\n",
        "\n",
        "    # Update model\n",
        "    self.model.update(s, a, r, g, next_s)\n",
        "\n",
        "    # Planning\n",
        "    index = np.random.randint(len(self.ReplayBuffer), size = self._updates) \n",
        "    for i in range(self._updates):\n",
        "\n",
        "      # Sample\n",
        "      s_re, a_re = self.ReplayBuffer[index[i]]\n",
        "\n",
        "      # Generate from Model\n",
        "      r_M, g_M, next_s_M = self.model.transition(s_re, a_re)\n",
        "\n",
        "      # Offline update\n",
        "      self.Q[s_re, a_re] += self._step_size * (r_M + g_M * np.max(self.Q[next_s_M, :]) - self.Q[s_re,a_re])\n",
        "\n",
        "\n",
        "    # Choose new actions\n",
        "    self._state = next_s\n",
        "    self._action = self._behaviour_policy(self.Q[next_s])\n",
        "\n",
        "    return self._action"
      ],
      "execution_count": 0,
      "outputs": []
    },
    {
      "cell_type": "markdown",
      "metadata": {
        "colab_type": "text",
        "id": "ra01mmV5VPgm"
      },
      "source": [
        "### Question 1.2.3\n",
        "\n",
        "**[5 pts]**\n",
        "\n",
        "Implement an agent that uses **Experience Replay** to learn action values as a **linear function approximation** over a given set of features.\n",
        "\n",
        "Learn the value estimates via online stochastic gradient descent.  The observed `state` will now be a vector of length `number_of_features`, and the value estimate will be $w_t^\\top x_t$, where $w_t$ are the current weights and $x_t$ is the observed (agent) state at time $t$."
      ]
    },
    {
      "cell_type": "code",
      "metadata": {
        "colab_type": "code",
        "id": "XOy_bpVa3j6V",
        "colab": {}
      },
      "source": [
        "class LinearExperienceQ(ExperienceQ):\n",
        "\n",
        "  def __init__(\n",
        "      self, number_of_features, number_of_actions, *args, **kwargs):\n",
        "    super(LinearExperienceQ, self).__init__(\n",
        "        number_of_actions=number_of_actions, *args, **kwargs)\n",
        "    self._number_of_features = number_of_features\n",
        "    self._number_of_actions = number_of_actions\n",
        "    self._M = np.zeros((number_of_actions,number_of_features),'float32')\n",
        "\n",
        "\n",
        "  def q(self, state):\n",
        "    return np.matmul(self._M, state)\n",
        "\n",
        "  def step(self, reward, discount, next_state):\n",
        "    s = self._state\n",
        "    a = self._action\n",
        "    r = reward\n",
        "    g = discount\n",
        "    next_s = next_state\n",
        "\n",
        "    # Append to ReplayBuffer\n",
        "    self.ReplayBuffer.append([s, a, r, g, next_s])\n",
        "    \n",
        "    # Learn the weights \n",
        "    self._M[a,:] += self._step_size * (r + g * np.max((self._M @ next_s)) - (self._M @ s)[a]) * s\n",
        "    \n",
        "    # Sample Experiences and perform offline updates\n",
        "    index = np.random.randint(len(self.ReplayBuffer), size = self._updates) \n",
        "    for i in range(self._updates):\n",
        "      s_re, a_re, r_re, g_re, next_s_re = self.ReplayBuffer[index[i]]\n",
        "      self._M[a_re,:] += self._step_size * (r_re + g_re * np.max((self._M @ next_s_re)) - (self._M @ s_re)[a_re]) * s_re\n",
        "    \n",
        "    # Choose new actions\n",
        "    self._action = self._behaviour_policy(self.q(next_s))\n",
        "    self._state = next_s\n",
        "\n",
        "    return self._action"
      ],
      "execution_count": 0,
      "outputs": []
    },
    {
      "cell_type": "markdown",
      "metadata": {
        "colab_type": "text",
        "id": "hlu3YPGAO9ss"
      },
      "source": [
        "### Question 1.2.4\n",
        "\n",
        "**[5 pts]**\n",
        "\n",
        "Implement an agent that uses **Dyna-Q** that uses a **linear function approximation** to represent values as well as for the model of the environment.\n",
        "\n",
        "Represent and learn both the **transition model** and the **reward model** as linear, action-dependent transformations of the given set of features.  The transition and reward models should be represented separately.  Implement separate models for each action (instead of, e.g., passing a one-hot identifier of the action in).\n",
        "\n",
        "Learn value estimates, transition model and reward model via online stochastic gradient descent."
      ]
    },
    {
      "cell_type": "code",
      "metadata": {
        "colab_type": "code",
        "id": "1RxFwgIU39dI",
        "colab": {}
      },
      "source": [
        "class LinearDynaQ(DynaQ):\n",
        "\n",
        "  def __init__(self, number_of_features, number_of_actions, *args, **kwargs):\n",
        "    super(LinearDynaQ, self).__init__(\n",
        "        number_of_actions=number_of_actions, *args, **kwargs)\n",
        "    self._number_of_features = number_of_features\n",
        "    self._number_of_actions = number_of_actions\n",
        "    self._M = np.zeros((number_of_actions,number_of_features),'float32')\n",
        "    self.model = LinearModel(number_of_features, number_of_actions)\n",
        "\n",
        "  def q(self, state):\n",
        "    return self._M @ state\n",
        "\n",
        "  def step(self, reward, discount, next_state):\n",
        "    s = self._state\n",
        "    a = self._action\n",
        "    r = reward\n",
        "    g = discount\n",
        "    next_s = next_state\n",
        "\n",
        "    self.ReplayBuffer.append([s, a])\n",
        "    \n",
        "     # Learn the weights \n",
        "    self._M[a,:] += self._step_size * (r + g * np.max((self._M @ next_s)) - (self._M @ s)[a]) * s\n",
        "    \n",
        "    # Update model\n",
        "    self.model.update(s, a, r, g, next_s, step_size = self._step_size)\n",
        "\n",
        "    # Planning\n",
        "    index = np.random.randint(len(self.ReplayBuffer), size = self._updates) \n",
        "    for i in range(self._updates):\n",
        "\n",
        "      # Sample\n",
        "      s_re, a_re = self.ReplayBuffer[index[i]]\n",
        "\n",
        "      # Generate from Model\n",
        "      r_M, g_M, next_s_M = self.model.transition(s_re, a_re)\n",
        "\n",
        "      # Offline update\n",
        "      self._M[a_re,:] += self._step_size * (r_M + g_M * np.max((self._M @ next_s_M)) - (self._M @ s_re)[a_re]) * s_re\n",
        "    \n",
        "    # Choose new actions\n",
        "    self._state = next_s\n",
        "    self._action = self._behaviour_policy(self.q(next_s))\n",
        "\n",
        "    return self._action\n",
        "\n"
      ],
      "execution_count": 0,
      "outputs": []
    },
    {
      "cell_type": "markdown",
      "metadata": {
        "colab_type": "text",
        "id": "1jZsPzCmDxAh"
      },
      "source": [
        "## 1.3: Analyse Results\n",
        "\n",
        "You will have to analyse experiments that evaluate each of these 5 agents in various settings, and in terms of different metrics.\n",
        "\n",
        "- Tabular learning: data efficiency\n",
        "- Tabular learning: computational efficiency\n",
        "- Linear function approximation\n",
        "- Learning in non-stationary environments"
      ]
    },
    {
      "cell_type": "markdown",
      "metadata": {
        "colab_type": "text",
        "id": "qekcmj4R5Y6J"
      },
      "source": [
        "### Run data efficiency experiments\n",
        "\n",
        "*Online Q-learning*\n",
        "\n",
        "* $\\text{number_of_steps}$ = $2000$ and $\\text{num_offline_updates}$ = $0$\n",
        "\n",
        "*Experience Replay*\n",
        "\n",
        "* $\\text{number_of_steps}$ = $2000$ and $\\text{num_offline_updates}$ = $30$\n",
        "\n",
        "*DynaQ*\n",
        "\n",
        "* $\\text{number_of_steps}$ = $2000$ and $\\text{num_offline_updates}$ = $30$"
      ]
    },
    {
      "cell_type": "code",
      "metadata": {
        "colab_type": "code",
        "id": "Iix-yw-MKS4Y",
        "outputId": "62366a4d-d812-4bf6-b102-c0f1e1db0231",
        "colab": {
          "base_uri": "https://localhost:8080/",
          "height": 476
        }
      },
      "source": [
        "# Online Q\n",
        "grid = Grid()\n",
        "agent = ExperienceQ(\n",
        "  grid._layout.size, 4, grid.get_obs(),\n",
        "  random_policy, num_offline_updates=0, step_size=0.1)\n",
        "run_experiment(grid, agent, int(2e3))\n",
        "q = agent.q_values.reshape(grid._layout.shape + (4,))\n",
        "plot_action_values(q)"
      ],
      "execution_count": 0,
      "outputs": [
        {
          "output_type": "display_data",
          "data": {
            "image/png": "[encoded data removed]",
            "text/plain": [
              "<Figure size 576x576 with 10 Axes>"
            ]
          },
          "metadata": {
            "tags": [],
            "needs_background": "light"
          }
        }
      ]
    },
    {
      "cell_type": "code",
      "metadata": {
        "colab_type": "code",
        "id": "ASml5uAeIl4A",
        "outputId": "97f1b312-b21c-4738-ecf7-97b032d8c397",
        "colab": {
          "base_uri": "https://localhost:8080/",
          "height": 476
        }
      },
      "source": [
        "# Experience Replay\n",
        "grid = Grid()\n",
        "agent = ExperienceQ(\n",
        "  grid._layout.size, 4, grid.get_obs(),\n",
        "  random_policy, num_offline_updates=30, step_size=0.1)\n",
        "run_experiment(grid, agent, int(2e3))\n",
        "q = agent.q_values.reshape(grid._layout.shape + (4,))\n",
        "plot_action_values(q)"
      ],
      "execution_count": 0,
      "outputs": [
        {
          "output_type": "display_data",
          "data": {
            "image/png": "[encoded data removed]",
            "text/plain": [
              "<Figure size 576x576 with 10 Axes>"
            ]
          },
          "metadata": {
            "tags": [],
            "needs_background": "light"
          }
        }
      ]
    },
    {
      "cell_type": "code",
      "metadata": {
        "colab_type": "code",
        "id": "YG-_cjw-wRzm",
        "outputId": "3215886c-b5d4-4869-8d51-e53dab6f376d",
        "colab": {
          "base_uri": "https://localhost:8080/",
          "height": 476
        }
      },
      "source": [
        "# DynaQ\n",
        "grid = Grid()\n",
        "agent = DynaQ(\n",
        "  grid._layout.size, 4, grid.get_obs(),\n",
        "  random_policy, num_offline_updates=30, step_size=0.1)\n",
        "run_experiment(grid, agent, int(2e3))\n",
        "q = agent.q_values.reshape(grid._layout.shape + (4,))\n",
        "plot_action_values(q)"
      ],
      "execution_count": 0,
      "outputs": [
        {
          "output_type": "display_data",
          "data": {
            "image/png": "[encoded data removed]",
            "text/plain": [
              "<Figure size 576x576 with 10 Axes>"
            ]
          },
          "metadata": {
            "tags": [],
            "needs_background": "light"
          }
        }
      ]
    },
    {
      "cell_type": "markdown",
      "metadata": {
        "colab_type": "text",
        "id": "teXnSHqjGfoT"
      },
      "source": [
        "### Question 1.3.1\n",
        "\n",
        "**[3 pts]**\n",
        "\n",
        "In the experiments above, how do the learnt value estimates differ between the online Q-learning, ExperienceReplay, and Dyna Q agents?\n",
        "\n",
        "Explain meaningful differences in at most 5 sentences.\n",
        "\n",
        "\n",
        "> - Comparing Online Q-learning with DynaQ and Experience Replay: The value estimates computed by the online Q-learning agent are still far from converging, as even the values of states along the edge as stochastic, as opposed to eg. the values estimates along the bottom of the grid for both experience replay and dyna-Q, with the values increasing from left to right. The agents making use of offline updates ie. ExperienceReplay and Dyna Q agents make a significantly more efficient use of the data as each step of experience could be used many times in value function updates - this is especially useful in cases where sampling from real experience is costly. Although all 3 agents have access to the same amount of data, online Q-learning only learns distinctive  q-values for the states right next to the edges and for the states adjacent to the goal, while assigning equivalent q-values to all the intermediate states, meanwhile the q-values for ExperienceReplay and DynaQ converge faster due to multiple passes throught the data. This is because Online Q-learning only makes 2k updates, while the planning models make 60k updates, thus making a much more efficient use of the data available.\n",
        "\n",
        "> - While there are many similarities between experience replay and Dyna-Q in the tabular setting, there are some differences (dyna-Q is fully converged, Experience Replay is nearly converged) due to the fact that experience replay is model-free, while Dyna-Q is model-based: in experience replay, we uniformly sample random full transitions from the entire history of the agent, while in Dyna-Q in the tabular setting we sample the state-action pair randomly while  the reward and next state correspond to the last experiences reward and next state observed for this (s,a) pair. Thus, for Dyna-Q we always use most recent experience, while Experience Replay samples uniformly from the entire trajectory thus seen.\n",
        "\n",
        ">- We assume that all of the samples are iid, but that is usually not the case, as the updates are all time-correlated with each other. It is worthwhile to note that in offline updates the samples are randomized and this decorrelated the updates, thus making this assumption more plausible and reducing variance of the updates, as opposed to standard Q-learning."
      ]
    },
    {
      "cell_type": "markdown",
      "metadata": {
        "colab_type": "text",
        "id": "ujZNsXFY52fi"
      },
      "source": [
        "### Run experiments matching computational cost\n",
        "\n",
        "*Online Q-learning*\n",
        "\n",
        "* $\\text{number_of_steps}$ = $62,000$ and $\\text{num_offline_updates}$ = $0$\n",
        "\n",
        "*ExperienceReplay*\n",
        "\n",
        "* $\\text{number_of_steps}$ = $2000$ and $\\text{num_offline_updates}$ = $30$\n",
        "\n",
        "*DynaQ*\n",
        "\n",
        "* $\\text{number_of_steps}$ = $2000$ and $\\text{num_offline_updates}$ = $30$"
      ]
    },
    {
      "cell_type": "code",
      "metadata": {
        "colab_type": "code",
        "id": "OVVWtGoUwiAe",
        "outputId": "1f076a38-de7f-4c44-aac6-d653c423cb4f",
        "colab": {
          "base_uri": "https://localhost:8080/",
          "height": 476
        }
      },
      "source": [
        "# OnlineQ\n",
        "grid = Grid()\n",
        "agent = ExperienceQ(\n",
        "  grid._layout.size, 4, grid.get_obs(),\n",
        "  random_policy, num_offline_updates=0, step_size=0.1)\n",
        "run_experiment(grid, agent, int(62e3))\n",
        "q = agent.q_values.reshape(grid._layout.shape + (4,))\n",
        "plot_action_values(q)"
      ],
      "execution_count": 0,
      "outputs": [
        {
          "output_type": "display_data",
          "data": {
            "image/png": "[encoded data removed]",
            "text/plain": [
              "<Figure size 576x576 with 10 Axes>"
            ]
          },
          "metadata": {
            "tags": [],
            "needs_background": "light"
          }
        }
      ]
    },
    {
      "cell_type": "code",
      "metadata": {
        "colab_type": "code",
        "id": "PuoUs8xVxady",
        "outputId": "4d634357-ecbe-4bff-8a0a-c010e5b36e29",
        "colab": {
          "base_uri": "https://localhost:8080/",
          "height": 476
        }
      },
      "source": [
        "# Experience Replay\n",
        "grid = Grid()\n",
        "agent = ExperienceQ(\n",
        "  grid._layout.size, 4, grid.get_obs(),\n",
        "  random_policy, num_offline_updates=30, step_size=0.1)\n",
        "run_experiment(grid, agent, int(2e3))\n",
        "q = agent.q_values.reshape(grid._layout.shape + (4,))\n",
        "plot_action_values(q)"
      ],
      "execution_count": 0,
      "outputs": [
        {
          "output_type": "display_data",
          "data": {
            "image/png": "[encoded data removed]",
            "text/plain": [
              "<Figure size 576x576 with 10 Axes>"
            ]
          },
          "metadata": {
            "tags": [],
            "needs_background": "light"
          }
        }
      ]
    },
    {
      "cell_type": "code",
      "metadata": {
        "colab_type": "code",
        "id": "hDOW4dd221L6",
        "outputId": "32007190-abe2-4ae8-81ea-9cba8f7b25f5",
        "colab": {
          "base_uri": "https://localhost:8080/",
          "height": 476
        }
      },
      "source": [
        "# DynaQ\n",
        "grid = Grid()\n",
        "agent = DynaQ(\n",
        "  grid._layout.size, 4, grid.get_obs(),\n",
        "  random_policy, num_offline_updates=30, step_size=0.1)\n",
        "run_experiment(grid, agent, int(2e3))\n",
        "q = agent.q_values.reshape(grid._layout.shape + (4,))\n",
        "plot_action_values(q)"
      ],
      "execution_count": 0,
      "outputs": [
        {
          "output_type": "display_data",
          "data": {
            "image/png": "[encoded data removed]",
            "text/plain": [
              "<Figure size 576x576 with 10 Axes>"
            ]
          },
          "metadata": {
            "tags": [],
            "needs_background": "light"
          }
        }
      ]
    },
    {
      "cell_type": "markdown",
      "metadata": {
        "colab_type": "text",
        "id": "nlFwZeKjLFEq"
      },
      "source": [
        "What if sampling from the environment is cheap and we don't care about data efficiency but only care about the amount of computation we use? \n",
        "\n",
        "The experiments directly above are the same as those above question 1.3.1, except that we ran the experiments for the same number of **total updates**, rather than the same number of **steps in the environment**, therefore using more data for the online Q-learning algorithm which *only* updates from real data.\n",
        "\n",
        "### Question 1.3.2\n",
        "\n",
        "**[3 pts]**\n",
        "\n",
        "How do the learnt values, and the relative performances, change, compared to the experiment above question 1.3.1?  Explain in at most 5 sentences.\n",
        "\n",
        "\n",
        ">- Using the same number of steps, we see that the value estimates learnt by the Online Q-Learning has converged, whereas both agents which make offline updates have still not converged.\n",
        "- This is because in Online Q-learning with each step we recieve new information, whereas the experience replay and Dyna-Q agents re-use some of older experiences. In the case of experience replay, as we are sampling entire transitions, this may lead to a bias. And even in the case of Dyna-Q we can expect some bias in the initial stages as planning is restricted only to the limited experience was thus leading to some bias and hence learning a sub-optimal policy in the limited number of steps.\n",
        "- Hence, we can conclude that when sampling from the environment is cheap and we are only concerned with the amount of computation, rather than with data efficiency, in that case learning from the environment is much more efficient and thus preferred. \n",
        "- However, when it is expensive to sample from experience and we are concerned with data efficiency then planning can still be very useful: here, as in the previous question, we see that Dyna-Q outperforms Experience Replay. This is due to bias which arises in Experience Replay as a result of sampling entire transitions. "
      ]
    },
    {
      "cell_type": "markdown",
      "metadata": {
        "colab_type": "text",
        "id": "GBLluo2AXMsH"
      },
      "source": [
        "### Run experiments with linear function approximation\n",
        "\n",
        "We will now use the $\\text{FeatureGrid}$ domain, and consider the same 3 algorithms in the context of linear function approximation.\n",
        "\n",
        "*Online Q-learning*\n",
        "\n",
        "* $\\text{number_of_steps}$ = $100,000$ and $\\text{num_offline_updates}$ = $0$\n",
        "\n",
        "*ExperienceReplay*\n",
        "\n",
        "* $\\text{number_of_steps}$ = $100,000$ and $\\text{num_offline_updates}$ = $10$\n",
        "\n",
        "*DynaQ*\n",
        "\n",
        "* $\\text{number_of_steps}$ = $100,000$ and $\\text{num_offline_updates}$ = $10$"
      ]
    },
    {
      "cell_type": "code",
      "metadata": {
        "colab_type": "code",
        "id": "zwlRPm1uXMyv",
        "outputId": "5a487b30-e354-4ea6-d97d-b89b2c087c82",
        "colab": {
          "base_uri": "https://localhost:8080/",
          "height": 660
        }
      },
      "source": [
        "# OnlineQ\n",
        "grid = FeatureGrid()\n",
        "\n",
        "agent = LinearExperienceQ(\n",
        "  number_of_features=grid.number_of_features, number_of_actions=4,\n",
        "  number_of_states=grid._layout.size, initial_state=grid.get_obs(),\n",
        "  num_offline_updates=0, step_size=0.01, behaviour_policy=random_policy)\n",
        "run_experiment(grid, agent, int(1e5))\n",
        "q = np.reshape(\n",
        "    np.array([agent.q(grid.int_to_features(i))\n",
        "              for i in range(grid.number_of_states)]),\n",
        "    [grid._layout.shape[0], grid._layout.shape[1], 4])\n",
        "plot_action_values(q)\n",
        "plot_greedy_policy(grid, q)"
      ],
      "execution_count": 0,
      "outputs": [
        {
          "output_type": "display_data",
          "data": {
            "image/png": "[encoded data removed]",
            "text/plain": [
              "<Figure size 576x576 with 10 Axes>"
            ]
          },
          "metadata": {
            "tags": [],
            "needs_background": "light"
          }
        },
        {
          "output_type": "display_data",
          "data": {
            "image/png": "[encoded data removed]",
            "text/plain": [
              "<Figure size 216x216 with 1 Axes>"
            ]
          },
          "metadata": {
            "tags": []
          }
        }
      ]
    },
    {
      "cell_type": "code",
      "metadata": {
        "colab_type": "code",
        "id": "Wb6XeKzXcIsi",
        "outputId": "045bd67f-5bc8-4767-fb3d-43af8461007f",
        "colab": {
          "base_uri": "https://localhost:8080/",
          "height": 660
        }
      },
      "source": [
        "# Experience Replay\n",
        "grid = FeatureGrid()\n",
        "\n",
        "agent = LinearExperienceQ(\n",
        "  number_of_features=grid.number_of_features, number_of_actions=4,\n",
        "  number_of_states=grid._layout.size, initial_state=grid.get_obs(),\n",
        "  num_offline_updates=10, step_size=0.01, behaviour_policy=random_policy)\n",
        "run_experiment(grid, agent, int(1e5))\n",
        "q = np.reshape(\n",
        "    np.array([agent.q(grid.int_to_features(i))\n",
        "              for i in range(grid.number_of_states)]),\n",
        "    [grid._layout.shape[0], grid._layout.shape[1], 4])\n",
        "plot_action_values(q)\n",
        "plot_greedy_policy(grid, q)"
      ],
      "execution_count": 0,
      "outputs": [
        {
          "output_type": "display_data",
          "data": {
            "image/png": "[encoded data removed]",
            "text/plain": [
              "<Figure size 576x576 with 10 Axes>"
            ]
          },
          "metadata": {
            "tags": [],
            "needs_background": "light"
          }
        },
        {
          "output_type": "display_data",
          "data": {
            "image/png": "[encoded data removed]",
            "text/plain": [
              "<Figure size 216x216 with 1 Axes>"
            ]
          },
          "metadata": {
            "tags": []
          }
        }
      ]
    },
    {
      "cell_type": "code",
      "metadata": {
        "colab_type": "code",
        "id": "DVDRVknH1MXw",
        "outputId": "5a481b3e-da65-42d4-d819-17c94243da19",
        "colab": {
          "base_uri": "https://localhost:8080/",
          "height": 660
        }
      },
      "source": [
        "# DynaQ\n",
        "grid = FeatureGrid()\n",
        "\n",
        "agent = LinearDynaQ(\n",
        "  number_of_features=grid.number_of_features, \n",
        "  number_of_actions=4,\n",
        "  number_of_states=grid._layout.size, \n",
        "  initial_state=grid.get_obs(),\n",
        "  num_offline_updates=10, \n",
        "  step_size=0.01,\n",
        "  behaviour_policy=random_policy)\n",
        "\n",
        "run_experiment(grid, agent, int(1e5))\n",
        "q = np.reshape(\n",
        "    np.array([agent.q(grid.int_to_features(i))\n",
        "              for i in range(grid.number_of_states)]),\n",
        "    [grid._layout.shape[0], grid._layout.shape[1], 4])\n",
        "plot_action_values(q)\n",
        "plot_greedy_policy(grid, q)"
      ],
      "execution_count": 0,
      "outputs": [
        {
          "output_type": "display_data",
          "data": {
            "image/png": "[encoded data removed]",
            "text/plain": [
              "<Figure size 576x576 with 10 Axes>"
            ]
          },
          "metadata": {
            "tags": [],
            "needs_background": "light"
          }
        },
        {
          "output_type": "display_data",
          "data": {
            "image/png": "[encoded data removed]",
            "text/plain": [
              "<Figure size 216x216 with 1 Axes>"
            ]
          },
          "metadata": {
            "tags": []
          }
        }
      ]
    },
    {
      "cell_type": "markdown",
      "metadata": {
        "colab_type": "text",
        "id": "1ese1lc0yNFU"
      },
      "source": [
        "### Question 1.3.3\n",
        "\n",
        "**[3 pts]**\n",
        "\n",
        "How do the value estimates learnt with function approximation differ from those learnt in the tabular setting, as in the experiment above question 2.2.1?\n",
        "\n",
        "Explain the results in at most 5 sentences.\n",
        "\n",
        "> - When using function approximation, we find that the value estimates are a lot more continuous and `blurry', despite many more training steps and interactions with the environment - this is because in function approximation, when performing an update for a single state, we update the weights which in turn means that we update our values for all of the states. Meanwhile in the tabular setting, when updating a single q(s,a) value, all the others are unaffected, we only update the target for other q-values. Thus here, the values of states adjacent to each other tend to be much more similar and change gradually.\n",
        "- Moreover, interestingly enough in tabular learning we do not make any estimates for the walls, since we never encounter them. However with value function approximation we also create estimates for those states. \n",
        "- In general, we can see that here the value estimates for all 3 of the agents are poorer when using function approximation than when using tabular learning: we can assume that this is the case since the number of states here is relatively small and we can easily explore all of them and learn in a tabular way, thus making fewer approximations. However, if we were in a significantly larger state-space, we would expect value function to have a marked advantage over tabular learning.\n",
        "- We notice, somewhat surprisingly, that the online q-learning and dyna-q have surpsingly high value estimates around the start state.\n",
        "\n",
        "### Question 1.3.4\n",
        "\n",
        "**[3 pts]**\n",
        "\n",
        "Inspect the policies derived by training agents with linear function approximation on `FeatureGrid'. \n",
        "\n",
        "How do they compare to the optimal policy?\n",
        "\n",
        "> - We note that none of the 3 algorithms have converged to the optimum policy, despite a lot more training steps and interactions with the environment.\n",
        "- In the policies, we observe a lot of random inconsistencies, for instace we notice that all 3 agents have developed a preference for heading towards the Start state in its proximity. This is somewhat surprising, but perhaps can be justified when we consider that there are no explicit updates for the start state, hence its value can be seen as '0', while the values of the neighbouring states become negative can the agent encouters walls etc. We also notice that at times arrows in adjacent states point at each other, which would cause the agent to get stuck and able to escape only using the $\\epsilon$-greedy random action. Also, we notice that some of the states adjacent to the goal do not point to it.\n",
        "- All of these inconsistencies arise due to the fact that we are using linear function approximation and thus the values of states are computed via generalising, thus there is a loss of accuracy.\n",
        "- As mentioned above, the tabular agents perform much better, given the deterministic nature of the environment and very small state-space, but we would expect to observe the benefits of function approximation in an environment that is more stochastic and with a large number of states.\n",
        "- An important consideration here is the fact Linear Dyna-Q uses a linear model thus it can in fact learn an incorrect model by failing to correctly generalise, in which case it would be likely to learn a suboptimal policy. Meanwhile Experience Replay uses real experiences for offline updates thus it is not exposed to the threat of using an incorrect model to simulate experiences. In other words, Linear Dyna-Q attempts to learn and approximate the Markov Decision Process, and subsequently sample from it, while Experience Replay uses samples from the true MDP. Thus we would expect Experience Replay to eventually converge to the optimum policy, but we cannot guarantee what this would also happen with Linear Dyna-Q."
      ]
    },
    {
      "cell_type": "markdown",
      "metadata": {
        "colab_type": "text",
        "id": "arP0Nf0XUGrB"
      },
      "source": [
        "### Run experiments in a non stationary environments\n",
        "\n",
        "We now consider a non-stationary setting where after `pretrain_steps` in the environment, the goal is moved to a new location (from the top-right of the grid to the bottom-left). The agent is allowed to continue training for a (shorter) amount of time in this new setting, and then we evaluate the value estimates.\n",
        "\n",
        "*Online Q-learning*\n",
        "\n",
        "* $\\text{pretrain_steps}$ = $20,000$,  $\\text{num_steps}$ = $666$, and $\\text{num_offline_updates}$ = $0$\n",
        "\n",
        "*ExperienceReplay*\n",
        "\n",
        "* $\\text{pretrain_steps}$ = $20,000$,  $\\text{num_steps}$ = $666$ and $\\text{num_offline_updates}$ = $10$\n",
        "\n",
        "*DynaQ*\n",
        "\n",
        "* $\\text{pretrain_steps}$ = $20,000$,  $\\text{num_steps}$ = $666$ and $\\text{num_offline_updates}$ = $10$"
      ]
    },
    {
      "cell_type": "code",
      "metadata": {
        "colab_type": "code",
        "id": "6P9lC323X7uH",
        "outputId": "9bcb1474-ed40-4eb6-d43b-4ac7cc54934b",
        "colab": {
          "base_uri": "https://localhost:8080/",
          "height": 258
        }
      },
      "source": [
        "# Online Q\n",
        "\n",
        "# Train on first environment\n",
        "pretrain_steps = 2e4\n",
        "grid = Grid()\n",
        "agent = ExperienceQ(\n",
        "  grid._layout.size, 4, grid.get_obs(),\n",
        "  random_policy, num_offline_updates=0, step_size=0.1)\n",
        "run_experiment(grid, agent, int(pretrain_steps))\n",
        "q = agent.q_values.reshape(grid._layout.shape + (4,))\n",
        "\n",
        "# Change goal location\n",
        "alt_grid = AltGrid()\n",
        "run_experiment(alt_grid, agent, int(pretrain_steps / 30))\n",
        "alt_q = agent.q_values.reshape(alt_grid._layout.shape + (4,))\n",
        "plot_state_value(alt_q)"
      ],
      "execution_count": 0,
      "outputs": [
        {
          "output_type": "display_data",
          "data": {
            "image/png": "[encoded data removed]",
            "text/plain": [
              "<Figure size 288x288 with 2 Axes>"
            ]
          },
          "metadata": {
            "tags": [],
            "needs_background": "light"
          }
        }
      ]
    },
    {
      "cell_type": "code",
      "metadata": {
        "colab_type": "code",
        "id": "bq5msw1iY-Q5",
        "outputId": "db75d743-c029-4318-a304-e2a50482f94e",
        "colab": {
          "base_uri": "https://localhost:8080/",
          "height": 258
        }
      },
      "source": [
        "# Experience Replay\n",
        "\n",
        "# Train on first environment\n",
        "pretrain_steps = 2e4\n",
        "grid = Grid()\n",
        "agent = ExperienceQ(\n",
        "  grid._layout.size, 4, grid.get_obs(),\n",
        "  random_policy, num_offline_updates=30, step_size=0.1)\n",
        "run_experiment(grid, agent, int(pretrain_steps))\n",
        "q = agent.q_values.reshape(grid._layout.shape + (4,))\n",
        "\n",
        "# Change goal location\n",
        "alt_grid = AltGrid()\n",
        "run_experiment(alt_grid, agent, int(pretrain_steps / 30))\n",
        "alt_q = agent.q_values.reshape(alt_grid._layout.shape + (4,))\n",
        "plot_state_value(alt_q)"
      ],
      "execution_count": 0,
      "outputs": [
        {
          "output_type": "display_data",
          "data": {
            "image/png": "[encoded data removed]",
            "text/plain": [
              "<Figure size 288x288 with 2 Axes>"
            ]
          },
          "metadata": {
            "tags": [],
            "needs_background": "light"
          }
        }
      ]
    },
    {
      "cell_type": "code",
      "metadata": {
        "colab_type": "code",
        "id": "AwztU4EbUXe0",
        "outputId": "a50a229b-1551-422c-b14a-f31b575dd68c",
        "colab": {
          "base_uri": "https://localhost:8080/",
          "height": 258
        }
      },
      "source": [
        "# DynaQ\n",
        "\n",
        "# Train on first environment\n",
        "pretrain_steps = 2e4\n",
        "grid = Grid()\n",
        "agent = DynaQ(\n",
        "  grid._layout.size, 4, grid.get_obs(),\n",
        "  random_policy, num_offline_updates=30, step_size=0.1)\n",
        "run_experiment(grid, agent, int(pretrain_steps))\n",
        "q = agent.q_values.reshape(grid._layout.shape + (4,))\n",
        "\n",
        "# Change goal location\n",
        "alt_grid = AltGrid()\n",
        "run_experiment(alt_grid, agent, int(pretrain_steps / 30))\n",
        "alt_q = agent.q_values.reshape(alt_grid._layout.shape + (4,))\n",
        "plot_state_value(alt_q)"
      ],
      "execution_count": 0,
      "outputs": [
        {
          "output_type": "display_data",
          "data": {
            "image/png": "[encoded data removed]",
            "text/plain": [
              "<Figure size 288x288 with 2 Axes>"
            ]
          },
          "metadata": {
            "tags": [],
            "needs_background": "light"
          }
        }
      ]
    },
    {
      "cell_type": "markdown",
      "metadata": {
        "colab_type": "text",
        "id": "lc8tJPpXyNM7"
      },
      "source": [
        "### Question 1.3.5\n",
        "\n",
        "**[5 pts]**\n",
        "\n",
        "Compare the value estimates of online Q-learning and Dyna-Q, after training also on the new goal location.\n",
        "\n",
        "Explain what you see in at most 5 sentences. \n",
        "\n",
        "> - Online Q-learning has just started to notice that there has been a change in values - a single square in bottom left corner is now slightly higher in value, however it will take it still many iterations to learn the new value estimates for the entire grid.\n",
        "- Meanwhile Dyna-Q, using the same amount of experience, has assigned lower value estimates to the top right and higher to bottom left. This indiates that it has fully learnt the new location of the goal and updated the values of the entire grid. This is because Dyna-Q makes more efficient use of the data available using planning: it is re-using the most recent experience multiple times to make to updates thus the changes in value estimates are reinforced and learned much faster. \n",
        "\n",
        "\n",
        "### Question 1.3.6\n",
        "\n",
        "**[5 pts]**\n",
        "\n",
        "Compare the value estimates of online Experience Replay and Dyna-Q, after training also on the new goal location, explain what you see.\n",
        "\n",
        "> - Experience replay continues to assign high values to top right of the grid and low values to bottom left of the grid. Thus, it still has not learned the new values and is far from doing so.\n",
        "- One of the reasons for this is in that experience replay uses full transitions, which stretch back through the entire history of the agent. There is no priority given to the transitions which have occured more recently, hence updates are made using old data, which was sampled from experience before the goal location changed.\n",
        "- Here we are using the tabular model for DynaQ hence the offline updates for a randomly selected (s,a) using DynaQ correspond to the most recently seen reward and next state for this (s,a). This allows for better reaction to change and enables the agent to learn much quicker. In DynaQ we always use the most recent experience to update, which is not the case with Experience Replay.\n"
      ]
    },
    {
      "cell_type": "markdown",
      "metadata": {
        "colab_type": "text",
        "id": "7TYEJzjdBD8s"
      },
      "source": [
        "# Part 2: Deep RL [25 marks]"
      ]
    },
    {
      "cell_type": "markdown",
      "metadata": {
        "colab_type": "text",
        "id": "iIRC73HLq6VH"
      },
      "source": [
        "### Actor-critics\n",
        "\n",
        "You are going to implement an Actor-critic agent that updates a policy parametrised as a deep neural network.\n",
        "\n",
        "The agent learns online from a single stream of experience, updating the parametes of its policy after each transition in the environment."
      ]
    },
    {
      "cell_type": "markdown",
      "metadata": {
        "colab_type": "text",
        "id": "KV03Q3MpveUM"
      },
      "source": [
        "### Install packages"
      ]
    },
    {
      "cell_type": "code",
      "metadata": {
        "colab_type": "code",
        "id": "wc-kqp3tveUT",
        "outputId": "101a327b-a109-435c-a89e-3435f143df0a",
        "colab": {
          "base_uri": "https://localhost:8080/",
          "height": 1000
        }
      },
      "source": [
        "!git clone https://github.com/deepmind/bsuite.git\n",
        "!pip install bsuite/\n",
        "!pip install dm-haiku"
      ],
      "execution_count": 1,
      "outputs": [
        {
          "output_type": "stream",
          "text": [
            "Cloning into 'bsuite'...\n",
            "remote: Enumerating objects: 878, done.\u001b[K\n",
            "remote: Counting objects:   0% (1/878)\u001b[K\rremote: Counting objects:   1% (9/878)\u001b[K\rremote: Counting objects:   2% (18/878)\u001b[K\rremote: Counting objects:   3% (27/878)\u001b[K\rremote: Counting objects:   4% (36/878)\u001b[K\rremote: Counting objects:   5% (44/878)\u001b[K\rremote: Counting objects:   6% (53/878)\u001b[K\rremote: Counting objects:   7% (62/878)\u001b[K\rremote: Counting objects:   8% (71/878)\u001b[K\rremote: Counting objects:   9% (80/878)\u001b[K\rremote: Counting objects:  10% (88/878)\u001b[K\rremote: Counting objects:  11% (97/878)\u001b[K\rremote: Counting objects:  12% (106/878)\u001b[K\rremote: Counting objects:  13% (115/878)\u001b[K\rremote: Counting objects:  14% (123/878)\u001b[K\rremote: Counting objects:  15% (132/878)\u001b[K\rremote: Counting objects:  16% (141/878)\u001b[K\rremote: Counting objects:  17% (150/878)\u001b[K\rremote: Counting objects:  18% (159/878)\u001b[K\rremote: Counting objects:  19% (167/878)\u001b[K\rremote: Counting objects:  20% (176/878)\u001b[K\rremote: Counting objects:  21% (185/878)\u001b[K\rremote: Counting objects:  22% (194/878)\u001b[K\rremote: Counting objects:  23% (202/878)\u001b[K\rremote: Counting objects:  24% (211/878)\u001b[K\rremote: Counting objects:  25% (220/878)\u001b[K\rremote: Counting objects:  26% (229/878)\u001b[K\rremote: Counting objects:  27% (238/878)\u001b[K\rremote: Counting objects:  28% (246/878)\u001b[K\rremote: Counting objects:  29% (255/878)\u001b[K\rremote: Counting objects:  30% (264/878)\u001b[K\rremote: Counting objects:  31% (273/878)\u001b[K\rremote: Counting objects:  32% (281/878)\u001b[K\rremote: Counting objects:  33% (290/878)\u001b[K\rremote: Counting objects:  34% (299/878)\u001b[K\rremote: Counting objects:  35% (308/878)\u001b[K\rremote: Counting objects:  36% (317/878)\u001b[K\rremote: Counting objects:  37% (325/878)\u001b[K\rremote: Counting objects:  38% (334/878)\u001b[K\rremote: Counting objects:  39% (343/878)\u001b[K\rremote: Counting objects:  40% (352/878)\u001b[K\rremote: Counting objects:  41% (360/878)\u001b[K\rremote: Counting objects:  42% (369/878)\u001b[K\rremote: Counting objects:  43% (378/878)\u001b[K\rremote: Counting objects:  44% (387/878)\u001b[K\rremote: Counting objects:  45% (396/878)\u001b[K\rremote: Counting objects:  46% (404/878)\u001b[K\rremote: Counting objects:  47% (413/878)\u001b[K\rremote: Counting objects:  48% (422/878)\u001b[K\rremote: Counting objects:  49% (431/878)\u001b[K\rremote: Counting objects:  50% (439/878)\u001b[K\rremote: Counting objects:  51% (448/878)\u001b[K\rremote: Counting objects:  52% (457/878)\u001b[K\rremote: Counting objects:  53% (466/878)\u001b[K\rremote: Counting objects:  54% (475/878)\u001b[K\rremote: Counting objects:  55% (483/878)\u001b[K\rremote: Counting objects:  56% (492/878)\u001b[K\rremote: Counting objects:  57% (501/878)\u001b[K\rremote: Counting objects:  58% (510/878)\u001b[K\rremote: Counting objects:  59% (519/878)\u001b[K\rremote: Counting objects:  60% (527/878)\u001b[K\rremote: Counting objects:  61% (536/878)\u001b[K\rremote: Counting objects:  62% (545/878)\u001b[K\rremote: Counting objects:  63% (554/878)\u001b[K\rremote: Counting objects:  64% (562/878)\u001b[K\rremote: Counting objects:  65% (571/878)\u001b[K\rremote: Counting objects:  66% (580/878)\u001b[K\rremote: Counting objects:  67% (589/878)\u001b[K\rremote: Counting objects:  68% (598/878)\u001b[K\rremote: Counting objects:  69% (606/878)\u001b[K\rremote: Counting objects:  70% (615/878)\u001b[K\rremote: Counting objects:  71% (624/878)\u001b[K\rremote: Counting objects:  72% (633/878)\u001b[K\rremote: Counting objects:  73% (641/878)\u001b[K\rremote: Counting objects:  74% (650/878)\u001b[K\rremote: Counting objects:  75% (659/878)\u001b[K\rremote: Counting objects:  76% (668/878)\u001b[K\rremote: Counting objects:  77% (677/878)\u001b[K\rremote: Counting objects:  78% (685/878)\u001b[K\rremote: Counting objects:  79% (694/878)\u001b[K\rremote: Counting objects:  80% (703/878)\u001b[K\rremote: Counting objects:  81% (712/878)\u001b[K\rremote: Counting objects:  82% (720/878)\u001b[K\rremote: Counting objects:  83% (729/878)\u001b[K\rremote: Counting objects:  84% (738/878)\u001b[K\rremote: Counting objects:  85% (747/878)\u001b[K\rremote: Counting objects:  86% (756/878)\u001b[K\rremote: Counting objects:  87% (764/878)\u001b[K\rremote: Counting objects:  88% (773/878)\u001b[K\rremote: Counting objects:  89% (782/878)\u001b[K\rremote: Counting objects:  90% (791/878)\u001b[K\rremote: Counting objects:  91% (799/878)\u001b[K\rremote: Counting objects:  92% (808/878)\u001b[K\rremote: Counting objects:  93% (817/878)\u001b[K\rremote: Counting objects:  94% (826/878)\u001b[K\rremote: Counting objects:  95% (835/878)\u001b[K\rremote: Counting objects:  96% (843/878)\u001b[K\rremote: Counting objects:  97% (852/878)\u001b[K\rremote: Counting objects:  98% (861/878)\u001b[K\rremote: Counting objects:  99% (870/878)\u001b[K\rremote: Counting objects: 100% (878/878)\u001b[K\rremote: Counting objects: 100% (878/878), done.\u001b[K\n",
            "remote: Compressing objects:   0% (1/410)\u001b[K\rremote: Compressing objects:   1% (5/410)\u001b[K\rremote: Compressing objects:   2% (9/410)\u001b[K\rremote: Compressing objects:   3% (13/410)\u001b[K\rremote: Compressing objects:   4% (17/410)\u001b[K\rremote: Compressing objects:   5% (21/410)\u001b[K\rremote: Compressing objects:   6% (25/410)\u001b[K\rremote: Compressing objects:   7% (29/410)\u001b[K\rremote: Compressing objects:   8% (33/410)\u001b[K\rremote: Compressing objects:   9% (37/410)\u001b[K\rremote: Compressing objects:  10% (41/410)\u001b[K\rremote: Compressing objects:  11% (46/410)\u001b[K\rremote: Compressing objects:  12% (50/410)\u001b[K\rremote: Compressing objects:  13% (54/410)\u001b[K\rremote: Compressing objects:  14% (58/410)\u001b[K\rremote: Compressing objects:  15% (62/410)\u001b[K\rremote: Compressing objects:  16% (66/410)\u001b[K\rremote: Compressing objects:  17% (70/410)\u001b[K\rremote: Compressing objects:  18% (74/410)\u001b[K\rremote: Compressing objects:  19% (78/410)\u001b[K\rremote: Compressing objects:  20% (82/410)\u001b[K\rremote: Compressing objects:  21% (87/410)\u001b[K\rremote: Compressing objects:  22% (91/410)\u001b[K\rremote: Compressing objects:  23% (95/410)\u001b[K\rremote: Compressing objects:  24% (99/410)\u001b[K\rremote: Compressing objects:  25% (103/410)\u001b[K\rremote: Compressing objects:  26% (107/410)\u001b[K\rremote: Compressing objects:  27% (111/410)\u001b[K\rremote: Compressing objects:  28% (115/410)\u001b[K\rremote: Compressing objects:  29% (119/410)\u001b[K\rremote: Compressing objects:  30% (123/410)\u001b[K\rremote: Compressing objects:  31% (128/410)\u001b[K\rremote: Compressing objects:  32% (132/410)\u001b[K\rremote: Compressing objects:  33% (136/410)\u001b[K\rremote: Compressing objects:  34% (140/410)\u001b[K\rremote: Compressing objects:  35% (144/410)\u001b[K\rremote: Compressing objects:  36% (148/410)\u001b[K\rremote: Compressing objects:  37% (152/410)\u001b[K\rremote: Compressing objects:  38% (156/410)\u001b[K\rremote: Compressing objects:  39% (160/410)\u001b[K\rremote: Compressing objects:  40% (164/410)\u001b[K\rremote: Compressing objects:  41% (169/410)\u001b[K\rremote: Compressing objects:  42% (173/410)\u001b[K\rremote: Compressing objects:  43% (177/410)\u001b[K\rremote: Compressing objects:  44% (181/410)\u001b[K\rremote: Compressing objects:  45% (185/410)\u001b[K\rremote: Compressing objects:  46% (189/410)\u001b[K\rremote: Compressing objects:  47% (193/410)\u001b[K\rremote: Compressing objects:  48% (197/410)\u001b[K\rremote: Compressing objects:  49% (201/410)\u001b[K\rremote: Compressing objects:  50% (205/410)\u001b[K\rremote: Compressing objects:  51% (210/410)\u001b[K\rremote: Compressing objects:  52% (214/410)\u001b[K\rremote: Compressing objects:  53% (218/410)\u001b[K\rremote: Compressing objects:  54% (222/410)\u001b[K\rremote: Compressing objects:  55% (226/410)\u001b[K\rremote: Compressing objects:  56% (230/410)\u001b[K\rremote: Compressing objects:  57% (234/410)\u001b[K\rremote: Compressing objects:  58% (238/410)\u001b[K\rremote: Compressing objects:  59% (242/410)\u001b[K\rremote: Compressing objects:  60% (246/410)\u001b[K\rremote: Compressing objects:  61% (251/410)\u001b[K\rremote: Compressing objects:  62% (255/410)\u001b[K\rremote: Compressing objects:  63% (259/410)\u001b[K\rremote: Compressing objects:  64% (263/410)\u001b[K\rremote: Compressing objects:  65% (267/410)\u001b[K\rremote: Compressing objects:  66% (271/410)\u001b[K\rremote: Compressing objects:  67% (275/410)\u001b[K\rremote: Compressing objects:  68% (279/410)\u001b[K\rremote: Compressing objects:  69% (283/410)\u001b[K\rremote: Compressing objects:  70% (287/410)\u001b[K\rremote: Compressing objects:  71% (292/410)\u001b[K\rremote: Compressing objects:  72% (296/410)\u001b[K\rremote: Compressing objects:  73% (300/410)\u001b[K\rremote: Compressing objects:  74% (304/410)\u001b[K\rremote: Compressing objects:  75% (308/410)\u001b[K\rremote: Compressing objects:  76% (312/410)\u001b[K\rremote: Compressing objects:  77% (316/410)\u001b[K\rremote: Compressing objects:  78% (320/410)\u001b[K\rremote: Compressing objects:  79% (324/410)\u001b[K\rremote: Compressing objects:  80% (328/410)\u001b[K\rremote: Compressing objects:  81% (333/410)\u001b[K\rremote: Compressing objects:  82% (337/410)\u001b[K\rremote: Compressing objects:  83% (341/410)\u001b[K\rremote: Compressing objects:  84% (345/410)\u001b[K\rremote: Compressing objects:  85% (349/410)\u001b[K\rremote: Compressing objects:  86% (353/410)\u001b[K\rremote: Compressing objects:  87% (357/410)\u001b[K\rremote: Compressing objects:  88% (361/410)\u001b[K\rremote: Compressing objects:  89% (365/410)\u001b[K\rremote: Compressing objects:  90% (369/410)\u001b[K\rremote: Compressing objects:  91% (374/410)\u001b[K\rremote: Compressing objects:  92% (378/410)\u001b[K\rremote: Compressing objects:  93% (382/410)\u001b[K\rremote: Compressing objects:  94% (386/410)\u001b[K\rremote: Compressing objects:  95% (390/410)\u001b[K\rremote: Compressing objects:  96% (394/410)\u001b[K\rremote: Compressing objects:  97% (398/410)\u001b[K\rremote: Compressing objects:  98% (402/410)\u001b[K\rremote: Compressing objects:  99% (406/410)\u001b[K\rremote: Compressing objects: 100% (410/410)\u001b[K\rremote: Compressing objects: 100% (410/410), done.\u001b[K\n",
            "Receiving objects:   0% (1/1362)   \rReceiving objects:   1% (14/1362)   \rReceiving objects:   2% (28/1362)   \rReceiving objects:   3% (41/1362)   \rReceiving objects:   4% (55/1362)   \rReceiving objects:   5% (69/1362)   \rReceiving objects:   6% (82/1362)   \rReceiving objects:   7% (96/1362)   \rReceiving objects:   8% (109/1362)   \rReceiving objects:   9% (123/1362)   \rReceiving objects:  10% (137/1362)   \rReceiving objects:  11% (150/1362)   \rReceiving objects:  12% (164/1362)   \rReceiving objects:  13% (178/1362)   \rReceiving objects:  14% (191/1362)   \rReceiving objects:  15% (205/1362)   \rReceiving objects:  16% (218/1362)   \rReceiving objects:  17% (232/1362)   \rReceiving objects:  18% (246/1362)   \rReceiving objects:  19% (259/1362)   \rReceiving objects:  20% (273/1362)   \rReceiving objects:  21% (287/1362)   \rReceiving objects:  22% (300/1362)   \rReceiving objects:  23% (314/1362)   \rReceiving objects:  24% (327/1362)   \rReceiving objects:  25% (341/1362)   \rReceiving objects:  26% (355/1362)   \rReceiving objects:  27% (368/1362)   \rReceiving objects:  28% (382/1362)   \rReceiving objects:  29% (395/1362)   \rReceiving objects:  30% (409/1362)   \rReceiving objects:  31% (423/1362)   \rReceiving objects:  32% (436/1362)   \rReceiving objects:  33% (450/1362)   \rReceiving objects:  34% (464/1362)   \rReceiving objects:  35% (477/1362)   \rReceiving objects:  36% (491/1362)   \rReceiving objects:  37% (504/1362)   \rReceiving objects:  38% (518/1362)   \rReceiving objects:  39% (532/1362)   \rReceiving objects:  40% (545/1362)   \rReceiving objects:  41% (559/1362)   \rReceiving objects:  42% (573/1362)   \rReceiving objects:  43% (586/1362)   \rReceiving objects:  44% (600/1362)   \rReceiving objects:  45% (613/1362)   \rReceiving objects:  46% (627/1362)   \rReceiving objects:  47% (641/1362)   \rReceiving objects:  48% (654/1362)   \rReceiving objects:  49% (668/1362)   \rReceiving objects:  50% (681/1362)   \rReceiving objects:  51% (695/1362)   \rReceiving objects:  52% (709/1362)   \rReceiving objects:  53% (722/1362)   \rReceiving objects:  54% (736/1362)   \rReceiving objects:  55% (750/1362)   \rReceiving objects:  56% (763/1362)   \rReceiving objects:  57% (777/1362)   \rReceiving objects:  58% (790/1362)   \rReceiving objects:  59% (804/1362)   \rReceiving objects:  60% (818/1362)   \rReceiving objects:  61% (831/1362)   \rReceiving objects:  62% (845/1362)   \rReceiving objects:  63% (859/1362)   \rReceiving objects:  64% (872/1362)   \rReceiving objects:  65% (886/1362)   \rReceiving objects:  66% (899/1362)   \rReceiving objects:  67% (913/1362)   \rReceiving objects:  68% (927/1362)   \rReceiving objects:  69% (940/1362)   \rReceiving objects:  70% (954/1362)   \rReceiving objects:  71% (968/1362)   \rReceiving objects:  72% (981/1362)   \rReceiving objects:  73% (995/1362)   \rReceiving objects:  74% (1008/1362)   \rReceiving objects:  75% (1022/1362)   \rReceiving objects:  76% (1036/1362)   \rReceiving objects:  77% (1049/1362)   \rReceiving objects:  78% (1063/1362)   \rReceiving objects:  79% (1076/1362)   \rReceiving objects:  80% (1090/1362)   \rReceiving objects:  81% (1104/1362)   \rReceiving objects:  82% (1117/1362)   \rReceiving objects:  83% (1131/1362)   \rReceiving objects:  84% (1145/1362)   \rReceiving objects:  85% (1158/1362)   \rReceiving objects:  86% (1172/1362)   \rReceiving objects:  87% (1185/1362)   \rReceiving objects:  88% (1199/1362)   \rReceiving objects:  89% (1213/1362)   \rReceiving objects:  90% (1226/1362)   \rReceiving objects:  91% (1240/1362)   \rReceiving objects:  92% (1254/1362)   \rReceiving objects:  93% (1267/1362)   \rReceiving objects:  94% (1281/1362)   \rReceiving objects:  95% (1294/1362)   \rremote: Total 1362 (delta 628), reused 683 (delta 462), pack-reused 484\u001b[K\n",
            "Receiving objects:  96% (1308/1362)   \rReceiving objects:  97% (1322/1362)   \rReceiving objects:  98% (1335/1362)   \rReceiving objects:  99% (1349/1362)   \rReceiving objects: 100% (1362/1362)   \rReceiving objects: 100% (1362/1362), 681.06 KiB | 10.01 MiB/s, done.\n",
            "Resolving deltas:   0% (0/949)   \rResolving deltas:   1% (11/949)   \rResolving deltas:   3% (35/949)   \rResolving deltas:   4% (39/949)   \rResolving deltas:   5% (48/949)   \rResolving deltas:   6% (59/949)   \rResolving deltas:   7% (69/949)   \rResolving deltas:   9% (87/949)   \rResolving deltas:  14% (134/949)   \rResolving deltas:  18% (176/949)   \rResolving deltas:  19% (187/949)   \rResolving deltas:  20% (190/949)   \rResolving deltas:  21% (200/949)   \rResolving deltas:  22% (210/949)   \rResolving deltas:  23% (219/949)   \rResolving deltas:  24% (229/949)   \rResolving deltas:  25% (239/949)   \rResolving deltas:  26% (250/949)   \rResolving deltas:  27% (263/949)   \rResolving deltas:  30% (290/949)   \rResolving deltas:  31% (303/949)   \rResolving deltas:  32% (305/949)   \rResolving deltas:  33% (316/949)   \rResolving deltas:  34% (323/949)   \rResolving deltas:  35% (336/949)   \rResolving deltas:  36% (345/949)   \rResolving deltas:  37% (353/949)   \rResolving deltas:  38% (364/949)   \rResolving deltas:  39% (373/949)   \rResolving deltas:  40% (380/949)   \rResolving deltas:  43% (410/949)   \rResolving deltas:  44% (419/949)   \rResolving deltas:  45% (428/949)   \rResolving deltas:  46% (438/949)   \rResolving deltas:  47% (448/949)   \rResolving deltas:  48% (456/949)   \rResolving deltas:  49% (470/949)   \rResolving deltas:  50% (475/949)   \rResolving deltas:  51% (484/949)   \rResolving deltas:  53% (506/949)   \rResolving deltas:  54% (514/949)   \rResolving deltas:  55% (530/949)   \rResolving deltas:  56% (532/949)   \rResolving deltas:  59% (560/949)   \rResolving deltas:  60% (571/949)   \rResolving deltas:  61% (585/949)   \rResolving deltas:  63% (598/949)   \rResolving deltas:  65% (622/949)   \rResolving deltas:  66% (627/949)   \rResolving deltas:  69% (656/949)   \rResolving deltas:  74% (707/949)   \rResolving deltas:  75% (717/949)   \rResolving deltas:  77% (736/949)   \rResolving deltas:  78% (747/949)   \rResolving deltas:  79% (751/949)   \rResolving deltas:  84% (800/949)   \rResolving deltas:  86% (820/949)   \rResolving deltas:  88% (837/949)   \rResolving deltas:  92% (878/949)   \rResolving deltas:  93% (885/949)   \rResolving deltas:  94% (897/949)   \rResolving deltas:  95% (902/949)   \rResolving deltas:  96% (913/949)   \rResolving deltas:  97% (924/949)   \rResolving deltas:  98% (931/949)   \rResolving deltas:  99% (944/949)   \rResolving deltas: 100% (949/949)   \rResolving deltas: 100% (949/949), done.\n",
            "Processing ./bsuite\n",
            "Requirement already satisfied: absl-py in /usr/local/lib/python3.6/dist-packages (from bsuite==0.0.0) (0.9.0)\n",
            "Collecting dm_env\n",
            "  Downloading https://files.pythonhosted.org/packages/91/9a/52419cf918d62768a53165d349434cd8b1a0bb71127c3b71d3b019dbffcc/dm_env-1.2-py3-none-any.whl\n",
            "Collecting frozendict\n",
            "  Downloading https://files.pythonhosted.org/packages/4e/55/a12ded2c426a4d2bee73f88304c9c08ebbdbadb82569ebdd6a0c007cfd08/frozendict-1.2.tar.gz\n",
            "Requirement already satisfied: matplotlib in /usr/local/lib/python3.6/dist-packages (from bsuite==0.0.0) (3.2.1)\n",
            "Requirement already satisfied: numpy in /usr/local/lib/python3.6/dist-packages (from bsuite==0.0.0) (1.18.4)\n",
            "Requirement already satisfied: pandas in /usr/local/lib/python3.6/dist-packages (from bsuite==0.0.0) (1.0.3)\n",
            "Requirement already satisfied: plotnine in /usr/local/lib/python3.6/dist-packages (from bsuite==0.0.0) (0.6.0)\n",
            "Requirement already satisfied: scipy in /usr/local/lib/python3.6/dist-packages (from bsuite==0.0.0) (1.4.1)\n",
            "Requirement already satisfied: scikit-image in /usr/local/lib/python3.6/dist-packages (from bsuite==0.0.0) (0.16.2)\n",
            "Requirement already satisfied: six in /usr/local/lib/python3.6/dist-packages (from bsuite==0.0.0) (1.12.0)\n",
            "Requirement already satisfied: termcolor in /usr/local/lib/python3.6/dist-packages (from bsuite==0.0.0) (1.1.0)\n",
            "Collecting dm-tree\n",
            "\u001b[?25l  Downloading https://files.pythonhosted.org/packages/16/48/10fb721334810081b7e6eebeba0d12e12126c76993e8c243062d2f56a89f/dm_tree-0.1.5-cp36-cp36m-manylinux1_x86_64.whl (294kB)\n",
            "\u001b[K     |████████████████████████████████| 296kB 5.4MB/s \n",
            "\u001b[?25hRequirement already satisfied: kiwisolver>=1.0.1 in /usr/local/lib/python3.6/dist-packages (from matplotlib->bsuite==0.0.0) (1.2.0)\n",
            "Requirement already satisfied: cycler>=0.10 in /usr/local/lib/python3.6/dist-packages (from matplotlib->bsuite==0.0.0) (0.10.0)\n",
            "Requirement already satisfied: pyparsing!=2.0.4,!=2.1.2,!=2.1.6,>=2.0.1 in /usr/local/lib/python3.6/dist-packages (from matplotlib->bsuite==0.0.0) (2.4.7)\n",
            "Requirement already satisfied: python-dateutil>=2.1 in /usr/local/lib/python3.6/dist-packages (from matplotlib->bsuite==0.0.0) (2.8.1)\n",
            "Requirement already satisfied: pytz>=2017.2 in /usr/local/lib/python3.6/dist-packages (from pandas->bsuite==0.0.0) (2018.9)\n",
            "Requirement already satisfied: statsmodels>=0.9.0 in /usr/local/lib/python3.6/dist-packages (from plotnine->bsuite==0.0.0) (0.10.2)\n",
            "Requirement already satisfied: mizani>=0.6.0 in /usr/local/lib/python3.6/dist-packages (from plotnine->bsuite==0.0.0) (0.6.0)\n",
            "Requirement already satisfied: patsy>=0.4.1 in /usr/local/lib/python3.6/dist-packages (from plotnine->bsuite==0.0.0) (0.5.1)\n",
            "Requirement already satisfied: descartes>=1.1.0 in /usr/local/lib/python3.6/dist-packages (from plotnine->bsuite==0.0.0) (1.1.0)\n",
            "Requirement already satisfied: imageio>=2.3.0 in /usr/local/lib/python3.6/dist-packages (from scikit-image->bsuite==0.0.0) (2.4.1)\n",
            "Requirement already satisfied: networkx>=2.0 in /usr/local/lib/python3.6/dist-packages (from scikit-image->bsuite==0.0.0) (2.4)\n",
            "Requirement already satisfied: PyWavelets>=0.4.0 in /usr/local/lib/python3.6/dist-packages (from scikit-image->bsuite==0.0.0) (1.1.1)\n",
            "Requirement already satisfied: pillow>=4.3.0 in /usr/local/lib/python3.6/dist-packages (from scikit-image->bsuite==0.0.0) (7.0.0)\n",
            "Requirement already satisfied: palettable in /usr/local/lib/python3.6/dist-packages (from mizani>=0.6.0->plotnine->bsuite==0.0.0) (3.3.0)\n",
            "Requirement already satisfied: decorator>=4.3.0 in /usr/local/lib/python3.6/dist-packages (from networkx>=2.0->scikit-image->bsuite==0.0.0) (4.4.2)\n",
            "Building wheels for collected packages: bsuite, frozendict\n",
            "  Building wheel for bsuite (setup.py) ... \u001b[?25l\u001b[?25hdone\n",
            "  Created wheel for bsuite: filename=bsuite-0.0.0-cp36-none-any.whl size=245994 sha256=2c6cc0d60fcf4fa794a36db30d324e07f8c0fdc457e15a263083907f341f39fa\n",
            "  Stored in directory: /tmp/pip-ephem-wheel-cache-d3mw3ze_/wheels/a8/39/ce/aa00d5f213ee4ff8bb4faf9d6ff36b510dd9ecd0faa819baa1\n",
            "  Building wheel for frozendict (setup.py) ... \u001b[?25l\u001b[?25hdone\n",
            "  Created wheel for frozendict: filename=frozendict-1.2-cp36-none-any.whl size=3149 sha256=5cfe1664fc381886edb44dd7128868c086ac32825f357e7b6f2ad8a07a0eb97b\n",
            "  Stored in directory: /root/.cache/pip/wheels/6c/6c/e9/534386165bd12cf1885582c75eb6d0ffcb321b65c23fe0f834\n",
            "Successfully built bsuite frozendict\n",
            "Installing collected packages: dm-tree, dm-env, frozendict, bsuite\n",
            "Successfully installed bsuite-0.0.0 dm-env-1.2 dm-tree-0.1.5 frozendict-1.2\n",
            "Collecting dm-haiku\n",
            "\u001b[?25l  Downloading https://files.pythonhosted.org/packages/ed/da/53e83e19c447d64da8f420104b1340f35e5213842abe81fee3860b0bc619/dm_haiku-0.0.1b0-py3-none-any.whl (193kB)\n",
            "\u001b[K     |████████████████████████████████| 194kB 5.0MB/s \n",
            "\u001b[?25hRequirement already satisfied: dm-tree>=0.1.1 in /usr/local/lib/python3.6/dist-packages (from dm-haiku) (0.1.5)\n",
            "Requirement already satisfied: wrapt>=1.11.1 in /usr/local/lib/python3.6/dist-packages (from dm-haiku) (1.12.1)\n",
            "Requirement already satisfied: tabulate>=0.7.5 in /usr/local/lib/python3.6/dist-packages (from dm-haiku) (0.8.7)\n",
            "Requirement already satisfied: absl-py>=0.7.1 in /usr/local/lib/python3.6/dist-packages (from dm-haiku) (0.9.0)\n",
            "Requirement already satisfied: six>=1.12.0 in /usr/local/lib/python3.6/dist-packages (from dm-haiku) (1.12.0)\n",
            "Requirement already satisfied: numpy>=1.18.0 in /usr/local/lib/python3.6/dist-packages (from dm-haiku) (1.18.4)\n",
            "Installing collected packages: dm-haiku\n",
            "Successfully installed dm-haiku-0.0.1b0\n"
          ],
          "name": "stdout"
        }
      ]
    },
    {
      "cell_type": "markdown",
      "metadata": {
        "colab_type": "text",
        "id": "r_pTfi5dSFX5"
      },
      "source": [
        "### Imports"
      ]
    },
    {
      "cell_type": "code",
      "metadata": {
        "colab_type": "code",
        "id": "huyKrYpvSHSu",
        "colab": {}
      },
      "source": [
        "from bsuite.experiments.catch import catch\n",
        "\n",
        "import jax\n",
        "import jax.numpy as jnp\n",
        "import haiku as hk\n",
        "\n",
        "import numpy as np\n",
        "import matplotlib.pyplot as plt"
      ],
      "execution_count": 0,
      "outputs": []
    },
    {
      "cell_type": "markdown",
      "metadata": {
        "colab_type": "text",
        "id": "Xtlrr5d2p7cS"
      },
      "source": [
        "### Neural networks\n",
        "\n",
        "You will now use JAX to define a network parametrising:\n",
        "\n",
        "* The values of each state $v_{\\pi}(s)$.\n",
        "* The action preferences in each state $\\{p_i(s)\\}_{i\\in\\{1, ..., |A|\\}}$ (you can think of and implement the preferences $\\mathbf{p}(s)$ as a vector output with $|A|$ elements).\n",
        "\n",
        "You will use `Haiku` (https://github.com/deepmind/dm-haiku) to define the network. You will need to:\n",
        "* define the forward pass of the network as some function `fn`\n",
        "* Use `hk.transform(fn)` to convert this in a pair of functions (`init_net`, and `apply_net`):\n",
        "\n",
        "The `init` function has signature `parameters = init_net(key, obs)`. \n",
        "  * takes a `jax.random.PRNGKey` and an `observation`\n",
        "  * returns randomly sampled weights for the neural network.\n",
        "\n",
        "The `apply_net` functions have signature `v, p = apply_net(parameters, obs)` \n",
        "  * takes the current set of `parameters` and an `observation`\n",
        "  * returns a scalar value `v` and a vector of preferences `p`"
      ]
    },
    {
      "cell_type": "markdown",
      "metadata": {
        "colab_type": "text",
        "id": "Gj1nsUYuOoe1"
      },
      "source": [
        "### Q 3.1 [5 marks]\n",
        "\n",
        "Define the forward pass of the neural network. The network must:\n",
        "\n",
        "* take an `observation` as input\n",
        "* reshape the observation into a flat vector `flat_obs`\n",
        "* compute a hidden representation `h = Relu(W.dot(flat_obs) + b)`\n",
        "* compute a vector of action preferences as a linear function of `h`\n",
        "* compute a scalar state value as a linear function of `h`\n",
        "* return the scalar value and vector preferences.\n",
        "\n",
        "Note:\n",
        "* The hidden layer should have 50 units\n",
        "* the action preferences should be a vector of 3 elements (one per each available action),\n",
        "* the value should be a scalar (not a vector with one element).\n"
      ]
    },
    {
      "cell_type": "code",
      "metadata": {
        "colab_type": "code",
        "id": "vRBP0xjtQvTi",
        "colab": {}
      },
      "source": [
        "def forward_pass(observation):\n",
        "  flatten_fnc = lambda x: jnp.reshape(x, (-1,))\n",
        "  network = hk.Sequential([\n",
        "      flatten_fnc,\n",
        "      hk.Linear(50),\n",
        "      jax.nn.relu, \n",
        "  ])\n",
        "  h = network(observation)\n",
        "  action_preferences = hk.Linear(3)(h)\n",
        "  state_value =  hk.Linear(1)(h)\n",
        "  state_value = jnp.squeeze(state_value, axis = -1)\n",
        "\n",
        "  return state_value, action_preferences\n",
        "\n",
        "\n",
        "init_net, apply_net = hk.transform(forward_pass)"
      ],
      "execution_count": 0,
      "outputs": []
    },
    {
      "cell_type": "markdown",
      "metadata": {
        "colab_type": "text",
        "id": "9ImJUgzFosvD"
      },
      "source": [
        "### Choosing actions\n",
        "\n",
        "A critical component of an actor-critic agent is a (stochastic) policy, mapping `observations` to `actions`. \n",
        "\n",
        "In deep RL, this mapping is conventionally parametrised by a deep neural network."
      ]
    },
    {
      "cell_type": "markdown",
      "metadata": {
        "colab_type": "text",
        "id": "1MVXNWwlYW24"
      },
      "source": [
        "### Q 3.2 [5 marks]\n",
        "\n",
        "Implement a softmax policy parametrised by the neural network above.\n",
        "\n",
        "The function has signature `action = policy(net_params, key, obs)`,\n",
        "* Taking the current network parameters `net_params`, a JAX random `key` and the current `observation`\n",
        "* Returning an `action` sampled from a softmax distribution (with temperature 1.) over the set of preferences output by the neural network.\n",
        "\n",
        "Functions to perform random sampling in JAX (e.g. those in `jax.random`) take a random key as input, and they are deterministic function of such a key. In general, in a JAX program you will therefore need to use the `split` function to generate a new random key before every new sampling. The run loop that runs the experiment later on takes care of this for you: you can assume that a new random `key` is provided to you on each call to the `policy`, and you do not need to split the key yourself within the function.\n",
        "\n"
      ]
    },
    {
      "cell_type": "code",
      "metadata": {
        "colab_type": "code",
        "id": "x-FSOYNOYnUx",
        "colab": {}
      },
      "source": [
        "@jax.jit\n",
        "def policy(net_params, key, obs):\n",
        "  \"\"\"Sample action from a softmax policy.\"\"\"\n",
        "  v, p = apply_net(net_params, obs)\n",
        "  a = jax.random.categorical(key, p)\n",
        "\n",
        "  return a"
      ],
      "execution_count": 0,
      "outputs": []
    },
    {
      "cell_type": "markdown",
      "metadata": {
        "colab_type": "text",
        "id": "iMYcb7Y9krnT"
      },
      "source": [
        "### Learning values and policies\n",
        "\n",
        "An actor-critic agent requires to update the parameters of the network so as to simultaneously improve the value predictions and the policy.\n",
        "\n",
        "In the next section you will define the gradient updates for each of these two components."
      ]
    },
    {
      "cell_type": "markdown",
      "metadata": {
        "colab_type": "text",
        "id": "GsIlpmNEk5fv"
      },
      "source": [
        "### Q 3.3 [5 marks]\n",
        "\n",
        "Implement a function to compute a stochastic estimate of the policy gradient from a 1 step transition in the environment.\n",
        "\n",
        "* You will use $R_{t+1} + \\gamma v(S_{t+1})$ as an estimate of $q_{\\pi}(S_t, A_t)$\n",
        "* You will use $v(S_{t})$ as a baseline to reduce the variance of the updates.\n",
        "\n",
        "The function must have signature `grads = policy_gradient(net_params, obs_tm1, a_tm1, r_t, discount_t, obs_t)`.\n",
        "* Where the inputs are:\n",
        "  * the parameters `net_params` of the network,\n",
        "  * an observation `obs_tm1`\n",
        "  * the action `a_tm1` selected after observing `obs_tm1`,\n",
        "  * the resulting reward `r_t` and environment discount `discount_t` \n",
        "  * and the following observation `obs_t`\n",
        "* Returns a stochastic estimate of the policy gradient.\n",
        "  * `grads` has the same structure as `net_params`\n",
        "  * as it contains an estimate of the gradient of the expected episodic return wrt to each parameter "
      ]
    },
    {
      "cell_type": "code",
      "metadata": {
        "colab_type": "code",
        "id": "AHLGjy8he6vh",
        "colab": {}
      },
      "source": [
        "def policy_gradient(net_params, obs_tm1, a_tm1, r_t, discount_t, obs_t):\n",
        "\n",
        "  def log_policy(net_params, obs_tm1, a_tm1, r_t, discount_t, obs_t):\n",
        "    v_tm1, p_tm1 = apply_net(net_params, obs_tm1)\n",
        "    v_t, p_t = apply_net(net_params, obs_t)\n",
        "    return jax.lax.stop_gradient(r_t + discount_t * v_t - v_tm1) * jax.numpy.log(jax.nn.softmax(p_tm1)[a_tm1])\n",
        "\n",
        "  policy_grad = jax.grad(log_policy)(net_params, obs_tm1, a_tm1, r_t, discount_t, obs_t)\n",
        "\n",
        "  return policy_grad\n"
      ],
      "execution_count": 0,
      "outputs": []
    },
    {
      "cell_type": "markdown",
      "metadata": {
        "colab_type": "text",
        "id": "5XgjefrBlIGN"
      },
      "source": [
        "### Q 3.4 [5 marks]\n",
        "\n",
        "Implement a function to compute a stochastic estimate of the negative gradient of the value loss:   $ L(\\theta) = E_{s \\sim \\pi}[(v_{\\theta}(s) - v_{\\pi}(s))^2]$\n",
        "\n",
        "As for the policy gradient, this must be computed from a 1 step transition in the environment, so using bootstrapping after one step.\n",
        "\n",
        "It must have signature `neg_grads = neg_value_loss_gradient(net_params, obs_tm1, a_tm1, r_t, discount_t, obs_t)`.\n",
        "* Where the inputs are:\n",
        "  * the current parameters `net_params` of the network,\n",
        "  * an observation `obs_tm1`\n",
        "  * the action `a_tm1` selected after observing `obs_tm1`,\n",
        "  * the resulting reward `r_t` and environment discount `discount_t` \n",
        "  * and the following observation `obs_t`\n",
        "* Returns a stochastic estimate of the policy gradient.\n",
        "  * `neg_grads` has the same structure as `net_params`\n",
        "  * as it contains a stochastic estimate of the negative gradient of the expected value prediction loss "
      ]
    },
    {
      "cell_type": "code",
      "metadata": {
        "colab_type": "code",
        "id": "GTgSjuK0Jyid",
        "colab": {}
      },
      "source": [
        "def neg_value_loss_gradient(net_params, obs_tm1, a_tm1, r_t, discount_t, obs_t):\n",
        "\n",
        "  def loss_comp(net_params, obs_tm1, a_tm1, r_t, discount_t, obs_t):\n",
        "    v_tm1, p_tm1 = apply_net(net_params, obs_tm1)\n",
        "    v_t, p_t = apply_net(net_params, obs_t)\n",
        "\n",
        "    loss = -0.5 * (v_tm1 - jax.lax.stop_gradient(r_t + discount_t * v_t)) ** 2\n",
        "    \n",
        "    return loss\n",
        "\n",
        "  neg_g = jax.grad(loss_comp)\n",
        "  neg_grad = neg_g(net_params, obs_tm1, a_tm1, r_t, discount_t, obs_t)\n",
        "\n",
        "  return neg_grad"
      ],
      "execution_count": 0,
      "outputs": []
    },
    {
      "cell_type": "markdown",
      "metadata": {
        "colab_type": "text",
        "id": "jAXgLZg8mfMd"
      },
      "source": [
        "### Updating shared parameters\n",
        "\n",
        "The policy gradient identifies the direction of change in the parameters that most steeply improve the policy.\n",
        "The negative gradient of the value loss identifies the direction of change in the parameters that most steeply improves the value predictions.\n",
        "\n",
        "However, note that the value and policy share some of the parameters of the network.  How do we combine the two gradient updates?\n",
        "\n",
        "In this assignment, we will simply sum the policy and value components.\n",
        "The function that combines the two gradients is implemented for you in the cell below."
      ]
    },
    {
      "cell_type": "code",
      "metadata": {
        "colab_type": "code",
        "id": "uhKCLe8jjkdZ",
        "colab": {}
      },
      "source": [
        "@jax.jit\n",
        "def compute_gradient(net_params, obs_tm1, a_tm1, r_t, discount_t, obs_t):\n",
        "  pgrads = policy_gradient(net_params, obs_tm1, a_tm1, r_t, discount_t, obs_t)\n",
        "  vgrads = neg_value_loss_gradient(net_params, obs_tm1, a_tm1, r_t, discount_t, obs_t)\n",
        "  return jax.tree_multimap(lambda pg, vg: pg + vg, pgrads, vgrads)"
      ],
      "execution_count": 0,
      "outputs": []
    },
    {
      "cell_type": "markdown",
      "metadata": {
        "colab_type": "text",
        "id": "tYaVb6GcpCRe"
      },
      "source": [
        "### Optimisation\n",
        "\n",
        "The gradient updates are typically rescaled to avoid taking too large a step on a single update.\n",
        "For instance given a candidate gradient update $\\nabla$ we may update our parameters $\\theta$ by;\n",
        "$$\\Delta \\theta = \\theta + \\alpha * \\nabla\\,,$$\n",
        "where $\\alpha$ is a small number between 0 and 1 (e.g., $\\alpha=0.01$ or $\\alpha=0.001$), referred to as `step_size` or `learning_rate`\n",
        "\n",
        "The gradients with respect to each weight of a neural network may however have very different magnitudes. This can make it hard to set a suitable learning rate $\\alpha$.\n",
        "\n",
        "In deep learning, and deep RL, we typically use adaptive learning rates, for instance by, rescaling each component of the gradient using statistics tracking the typical size of the updates to that weight. Then the entire update is rescaled using a global `learning_rate` $\\alpha$\n"
      ]
    },
    {
      "cell_type": "markdown",
      "metadata": {
        "colab_type": "text",
        "id": "hbFePWfApaMU"
      },
      "source": [
        "### Q 3.5 [5 marks]\n",
        "\n",
        "A popular approach to adaptive gradient rescaling was introduced by the `Adam` algorithm.\n",
        "* See [Kingma et al, 2014](https://arxiv.org/abs/1412.6980) for references.\n",
        "\n",
        "This algorithm implements the following procedure before applying each update:\n",
        "* Increase an update counter $k \\gets k+1$ (starting at k=0 before any updates),\n",
        "* Update the first moment of each gradient component $\\mu \\gets (1 - \\eta) g + \\eta \\mu$ where $g$ is the latest stochastic gradient.\n",
        "* Update the second moment of each gradient component $\\nu_i = (1 - \\eta) g_i ^ 2 + \\eta \\nu_i $ where $g$ is the latest gradient update.\n",
        "* Use the following update to update the weights:\n",
        "$$\\Delta w = \\alpha \\frac{\\mu / (1 - \\beta_1 ^ {k})}{\\epsilon + \\sqrt{\\nu / (1 - \\beta_1 ^ {k})}}$$\n",
        "* $\\alpha$ is a global `learning rate`\n",
        "* $\\beta_1$ and $\\beta_2$ define a soft horizon for the per-weight statistics.\n",
        "* $\\epsilon$ makes the rescaling more robust to numerical issues.\n",
        "\n",
        "In the next cell define a pair of functions (`opt_init`, and `opt_update`), where:\n",
        "\n",
        "The `opt_init` function has signature `state = opt_init(params)`.\n",
        "* Takes the network parameters as inputs\n",
        "* Initialises an `optimiser state` holding the per weight statistics.\n",
        "\n",
        "The `opt_update` function has signature `updates, state = opt_update(grads, state)`.\n",
        "* Takes a `gradient` and an `optimisers state`,\n",
        "* and returns the transformed gradient and the updated `optimiser state`.\n",
        "\n",
        "Set the algorrithm's hyper-parameters to:\n",
        "* $\\beta_1=.9$ and $\\beta_2=.999$, $\\epsilon=1e-8$."
      ]
    },
    {
      "cell_type": "code",
      "metadata": {
        "id": "f8XPtagCIyq8",
        "colab_type": "code",
        "colab": {}
      },
      "source": [
        "\n",
        "def adam(alpha = 3e-3, b1 = 0.9, b2 = 0.999, eps = 1e-8):\n",
        "    \n",
        "    def opt_init(params):\n",
        "      state = {}\n",
        "      state['b1'] = b1\n",
        "      state['b2'] = b2\n",
        "      state['e'] = eps\n",
        "      state['alpha'] = alpha\n",
        "      state['m'] = jax.tree_multimap(jax.np.zeros_like, params)\n",
        "      state['v'] = jax.tree_multimap(jax.np.zeros_like, params)\n",
        "      state['k'] = 0 \n",
        "      return state\n",
        "\n",
        "    def opt_update(grads, state):       \n",
        "      state['k'] += 1\n",
        "\n",
        "      # load states\n",
        "      b1 = state['b1']\n",
        "      b2 = state['b2']\n",
        "      e = state['e']\n",
        "      m = state['m'] \n",
        "      v = state['v']\n",
        "      alpha = state['alpha'] \n",
        "      k = state['k']\n",
        "\n",
        "      # compute updates\n",
        "      m = jax.tree_multimap(lambda m, g: (1 - b1) * g + b1 * m, m, grads)\n",
        "      v = jax.tree_multimap(lambda m, g: (1 - b2) * (g ** 2) + b2 * m, v, grads)\n",
        "      numerator = jax.tree_multimap(lambda mu: mu / (1 - b1 ** k), m)\n",
        "      denominator = jax.tree_map(lambda nu: e + jnp.sqrt(nu / (1 - b2 ** k)), v)\n",
        "      updates = jax.tree_multimap(lambda num, denom: alpha * num / denom, numerator, denominator)\n",
        "\n",
        "      # update the states\n",
        "      state['m'] = m \n",
        "      state['v'] = v\n",
        "\n",
        "      return updates, state\n",
        "    \n",
        "    return opt_init, opt_update\n",
        "\n",
        "opt_init, opt_update = adam(3e-3, b1 = 0.9, b2 = 0.999, eps = 1e-8)\n"
      ],
      "execution_count": 0,
      "outputs": []
    },
    {
      "cell_type": "markdown",
      "metadata": {
        "colab_type": "text",
        "id": "DczWvZfNSnTj"
      },
      "source": [
        "### Run experiments\n",
        "\n",
        "Run the cell below to show the performance of the resulting agent.\n",
        "\n",
        "You may also use this section for debugging your implementations.\n",
        "\n",
        "Note however, that most functions are `jitted` for performance,\n",
        "* either using the `@jax.jit` decorator in the function definition\n",
        "* or calling explicitely `fn = jax.jit(fn)`\n",
        "\n",
        "When jitting, the code is compiled on the first time the function is executed\n",
        "* and execution is much faster on seubsequent calls.\n",
        "* a notable side effect is that print statements in a jitted function will only execute on the first execution of the function.\n",
        "* to drop into a debugger or print on each function execution you will have to disable the `@jax.jit` annotations and jax.jit calls."
      ]
    },
    {
      "cell_type": "code",
      "metadata": {
        "id": "78zTVHT3MuIN",
        "colab_type": "code",
        "colab": {}
      },
      "source": [
        "from bsuite.environments import catch\n",
        "from jax.experimental import optix"
      ],
      "execution_count": 0,
      "outputs": []
    },
    {
      "cell_type": "code",
      "metadata": {
        "colab_type": "code",
        "id": "Fz837XTkLxE8",
        "outputId": "3be83634-caca-4a90-84f8-998dad57d1d0",
        "colab": {
          "base_uri": "https://localhost:8080/",
          "height": 35
        }
      },
      "source": [
        "# DO NOT CHANGE THIS CELL\n",
        "\n",
        "# Experiment configs.\n",
        "train_episodes = 1500\n",
        "discount_factor = .99\n",
        "\n",
        "# Create environment.\n",
        "env = catch.Catch(seed=42)\n",
        "\n",
        "# Build and initialize network.\n",
        "rng = hk.PRNGSequence(jax.random.PRNGKey(42))\n",
        "sample_input = env.observation_spec().generate_value()\n",
        "net_params = init_net(next(rng), sample_input)\n",
        "\n",
        "# Initialize optimizer state.\n",
        "opt_state = opt_init(net_params)\n",
        "\n",
        "# Jit.\n",
        "opt_update = jax.jit(opt_update)\n",
        "apply_updates = jax.jit(optix.apply_updates)\n",
        "\n",
        "print(f\"Training agent for {train_episodes} episodes...\")\n",
        "all_episode_returns = []\n",
        "\n",
        "for _ in range(train_episodes):\n",
        "  episode_return = 0.\n",
        "  timestep = env.reset()\n",
        "  obs_tm1 = timestep.observation\n",
        "\n",
        "  # Sample initial action.\n",
        "  a_tm1 = policy(net_params, next(rng), obs_tm1)\n",
        "\n",
        "  while not timestep.last():\n",
        "    # Step environment.\n",
        "    new_timestep = env.step(int(a_tm1))\n",
        "\n",
        "    # Sample action from agent policy.\n",
        "    a_t = policy(net_params, next(rng), new_timestep.observation)\n",
        "\n",
        "    # Update params.\n",
        "    r_t = new_timestep.reward\n",
        "    discount_t = discount_factor * new_timestep.discount\n",
        "    dJ_dtheta = compute_gradient(\n",
        "        net_params, obs_tm1, a_tm1, r_t, discount_t, new_timestep.observation)\n",
        "    updates, opt_state = opt_update(dJ_dtheta, opt_state)\n",
        "    net_params = apply_updates(net_params, updates)\n",
        "\n",
        "    # Within episode book-keeping.\n",
        "    episode_return += new_timestep.reward\n",
        "    timestep = new_timestep\n",
        "    obs_tm1 = new_timestep.observation\n",
        "    a_tm1 = a_t\n",
        "\n",
        "  # Experiment results tracking.\n",
        "  all_episode_returns.append(episode_return)"
      ],
      "execution_count": 69,
      "outputs": [
        {
          "output_type": "stream",
          "text": [
            "Training agent for 1500 episodes...\n"
          ],
          "name": "stdout"
        }
      ]
    },
    {
      "cell_type": "code",
      "metadata": {
        "colab_type": "code",
        "id": "diKy01y1C0fz",
        "outputId": "87d92edf-a4ba-4399-c48e-b1c78b98061b",
        "colab": {
          "base_uri": "https://localhost:8080/",
          "height": 334
        }
      },
      "source": [
        "plt.figure(figsize=(7, 5))\n",
        "\n",
        "def moving_average(x, w):\n",
        "    return np.convolve(x, np.ones(w), 'valid') / w\n",
        "\n",
        "smoothed_returns = moving_average(all_episode_returns, 30)\n",
        "plt.plot(smoothed_returns)\n",
        "\n",
        "plt.xlabel('Average episode returns')\n",
        "plt.xlabel('Number of episodes')\n",
        "\n",
        "ax = plt.gca()\n",
        "ax.spines['left'].set_visible(True)\n",
        "ax.spines['bottom'].set_visible(True)\n",
        "ax.spines['right'].set_visible(False)\n",
        "ax.spines['top'].set_visible(False)\n",
        "ax.xaxis.set_ticks_position('bottom')\n",
        "ax.yaxis.set_ticks_position('left')"
      ],
      "execution_count": 70,
      "outputs": [
        {
          "output_type": "display_data",
          "data": {
            "image/png": "[encoded data removed]",
            "text/plain": [
              "<Figure size 504x360 with 1 Axes>"
            ]
          },
          "metadata": {
            "tags": [],
            "needs_background": "light"
          }
        }
      ]
    },
    {
      "cell_type": "markdown",
      "metadata": {
        "colab_type": "text",
        "id": "mh918hc0_iQ9"
      },
      "source": [
        "# Part 3: Off-policy multi-step learning [25 marks]"
      ]
    },
    {
      "cell_type": "markdown",
      "metadata": {
        "colab_type": "text",
        "id": "thswfgXU_p05"
      },
      "source": [
        "For many concrete algorithms, we need to combine multi-step updates with off-policy corrections.  The multi-step updates are necesary for efficient learning, while the off-policy corrections are necessary to learn about multiple things at once, or to correct for a distribution mismatch (e.g., when trying to perform a policy-gradient update from logged data).\n",
        "\n",
        "In this section, you will implement various different returns with off-policy corrections.  The next cell has two examples *without* corrections.  These examples compute equivalent returns, but compute those returns in different ways.  These are provided as reference implementations to help you.\n",
        "\n",
        "Note that the implementations both allow for immediate bootstrapping on the current state value. This is unconventional (most literature only allows the first bootstrapping to happen after the first step), but we will use this convention in all implementations below for consistency. "
      ]
    },
    {
      "cell_type": "code",
      "metadata": {
        "id": "GDs-hxAqcHtJ",
        "colab_type": "code",
        "colab": {}
      },
      "source": [
        "import numpy as np\n",
        "import matplotlib.pyplot as plt"
      ],
      "execution_count": 0,
      "outputs": []
    },
    {
      "cell_type": "code",
      "metadata": {
        "colab_type": "code",
        "id": "KHNH35SZYHBu",
        "colab": {}
      },
      "source": [
        "#@title On-policy return computations\n",
        "\n",
        "def on_policy(observations, actions, pi, mu, rewards, discounts,\n",
        "              trace_parameter, v_fn):\n",
        "  \"\"\"Compute on-policy return recursively.\"\"\"\n",
        "  del mu  # The policy probabilities are ignored by this function\n",
        "  T = len(rewards)  # number of transitions\n",
        "  r = rewards\n",
        "  d = discounts\n",
        "  l = trace_parameter\n",
        "  v = np.array([v_fn(o) for o in observations])\n",
        "  G = np.zeros((T,))\n",
        "  # recurse backwards to calculate returns\n",
        "  for t in reversed(range(T)):\n",
        "    # There are T+1 observations, but only T rewards, and the indexing here\n",
        "    # for the rewards is off by one compared to the indexing in the slides\n",
        "    # and in Sutton & Barto.  In other words, r[t] == R_{t+1}.\n",
        "    if t == T - 1:\n",
        "      G[t] = r[t] + d[t]*v[t + 1]\n",
        "    else:\n",
        "      G[t] = r[t] + d[t]*((1 - l)*v[t + 1] + l*G[t + 1])\n",
        "  v = v[:-1]  # Remove (T+1)th observation before calculating the returns\n",
        "  return (1 - l)*v + l*G\n",
        "\n",
        "def on_policy_error_recursion(observations, actions, pi, mu, rewards, discounts,\n",
        "                              trace_parameter, v_fn):\n",
        "  del pi  # The target policy probabilities are ignored by this function\n",
        "  del mu  # The behaviour policy probabilities are ignored by this function\n",
        "  T = len(rewards)  # number of transitions\n",
        "  r = rewards\n",
        "  d = discounts\n",
        "  l = trace_parameter\n",
        "  v = np.array([v_fn(o) for o in observations])\n",
        "  errors = np.zeros((T,))\n",
        "  error = 0.\n",
        "  # recurse backwards to calculate errors\n",
        "  for t in reversed(range(T)):\n",
        "    error = r[t] + d[t]*v[t + 1] - v[t] + d[t]*l*error\n",
        "    errors[t] = error\n",
        "  v = v[:-1]  # Remove (T+1)th observation before calculating the returns\n",
        "  return v + l*errors"
      ],
      "execution_count": 0,
      "outputs": []
    },
    {
      "cell_type": "markdown",
      "metadata": {
        "colab_type": "text",
        "id": "UNXhobrYHeiy"
      },
      "source": [
        "### Q 4.1 [15 marks]\n",
        "Implement the return functions below and run the cells below that."
      ]
    },
    {
      "cell_type": "code",
      "metadata": {
        "colab_type": "code",
        "id": "7g6FOZLfA_su",
        "colab": {}
      },
      "source": [
        "def full_importance_sampling(observations, actions, pi, mu, rewards, discounts, trace_parameter, v_fn):\n",
        "  \"\"\"\n",
        "  Compute off-policy return with full importance-sampling corrections, so that\n",
        "  the return G_t is corrected with the full importance-sampling correction of\n",
        "  the rest of the trajectory.\n",
        "  \"\"\"\n",
        "  T = len(rewards)  # number of transitions\n",
        "  r = rewards\n",
        "  d = discounts\n",
        "  l = trace_parameter\n",
        "  v = np.array([v_fn(o) for o in observations])\n",
        "  G = np.zeros((T,))\n",
        "  rhos = np.zeros((T,))\n",
        "\n",
        "  # recurse backwards to calculate returns\n",
        "  for t in reversed(range(T)):\n",
        "\n",
        "    pis = np.prod(pi[t:])\n",
        "    mus = np.prod(mu[t:])\n",
        "    rho = pis/mus\n",
        "    rhos[t] = rho\n",
        "    \n",
        "    if t == T - 1:\n",
        "      G[t] = r[t] + d[t]*v[t + 1]\n",
        "    else:\n",
        "      G[t] = r[t] + d[t] * ((1 - l)*v[t + 1] + l*G[t + 1]) \n",
        "    \n",
        "  G = np.multiply(G, rhos )\n",
        "  v = v[:-1]  # Remove (T+1)th observation before calculating the returns\n",
        "  return (1 - l)*v + l*G\n",
        "\n",
        "\n",
        "\n",
        "def per_decision(observations, actions, pi, mu, rewards, discounts, trace_parameter, v_fn):\n",
        "  \"\"\"\n",
        "  Compute off-policy return with per-decision importance-sampling corrections.\n",
        "  \"\"\"\n",
        "  T = len(rewards)  # number of transitions\n",
        "  r = rewards\n",
        "  d = discounts\n",
        "  l = trace_parameter\n",
        "  v = np.array([v_fn(o) for o in observations])\n",
        "  G = np.zeros((T,))\n",
        "\n",
        "  # recurse backwards to calculate returns\n",
        "  for t in reversed(range(T)):\n",
        "    rho = pi[t]/mu[t]\n",
        "    \n",
        "    if t == T - 1:\n",
        "      G[t] = rho * (r[t] + d[t] * v[t + 1])\n",
        "    else:\n",
        "      G[t] = rho * (r[t] + d[t] * ((1 - l)*v[t + 1] + l*G[t + 1]))\n",
        "\n",
        "  v = v[:-1]  # Remove (T+1)th observation before calculating the returns\n",
        "  \n",
        "  return (1 - l)*v + l*G\n",
        "\n",
        "\n",
        "def control_variates(observations, actions, pi, mu, rewards, discounts, trace_parameter, v_fn):\n",
        "  \"\"\"\n",
        "  Compute off-policy return with \n",
        "  1. per-decision importance-sampling corrections, and\n",
        "  2. control variates\n",
        "  \"\"\"\n",
        "  \n",
        "  T = len(rewards)  # number of transitions\n",
        "  r = rewards\n",
        "  d = discounts\n",
        "  l = trace_parameter\n",
        "  v = np.array([v_fn(o) for o in observations])\n",
        "  errors = np.zeros((T,))\n",
        "  error = 0.\n",
        "\n",
        "  # recurse backwards to calculate errors\n",
        "  for t in reversed(range(T)):\n",
        "    rho = pi[t]/mu[t]\n",
        "    error = rho*(r[t] + d[t]*v[t + 1] - v[t] + d[t]*l*error)\n",
        "    errors[t] = error\n",
        "  v = v[:-1]  # Remove (T+1)th observation before calculating the returns\n",
        "  return v + l*errors\n",
        "\n",
        "def adaptive_bootstrapping(observations, actions, pi, mu, rewards, discounts, trace_parameter, v_fn):\n",
        "  \"\"\"\n",
        "  Compute off-policy return with \n",
        "  1. per-decision importance-sampling corrections, and\n",
        "  2. control variates, and\n",
        "  3. adaptive bootstrapping.\n",
        "\n",
        "  Implement the adaptive bootstrapping with an *additional* trace parameter\n",
        "  lambda, such that lambda_t = lambda * min(1, 1/rho_t).\n",
        "  \"\"\"\n",
        "\n",
        "  T = len(rewards)  # number of transitions\n",
        "  r = rewards\n",
        "  d = discounts\n",
        "  l = trace_parameter\n",
        "  v = np.array([v_fn(o) for o in observations])\n",
        "  errors = np.zeros((T,))\n",
        "  error = 0.\n",
        "\n",
        "  # recurse backwards to calculate errors\n",
        "  for t in reversed(range(T)):\n",
        "    rho = pi[t]/mu[t]\n",
        "    l_t = min(1, 1/rho)\n",
        "    error = l_t * rho * (r[t] + d[t]*v[t + 1] - v[t] + d[t]*l*error)\n",
        "    errors[t] = error\n",
        "  v = v[:-1]  # Remove (T+1)th observation before calculating the returns\n",
        "\n",
        "  return v + l*errors"
      ],
      "execution_count": 0,
      "outputs": []
    },
    {
      "cell_type": "code",
      "metadata": {
        "cellView": "both",
        "colab_type": "code",
        "id": "7EEHYK89ANIA",
        "colab": {}
      },
      "source": [
        "\n",
        "#@title (Run, don't modify) Functions to generate experience, compute values\n",
        "MU_RIGHT = 0.5\n",
        "PI_RIGHT = 0.9\n",
        "NUMBER_OF_STEPS = 5\n",
        "DISCOUNT = 0.99\n",
        "\n",
        "def generate_experience():\n",
        "  r\"\"\"Generate experience trajectories from a tabular tree MDP.\n",
        "\n",
        "  This function will start in state 0, and will then generate actions according\n",
        "  to a uniformly random behaviour policy.  When A_t == 0, the action will be to\n",
        "  the left, with A_t==1, it will be to the right.  The states are nunmbered as\n",
        "  depicted below:\n",
        "          0\n",
        "         / \\\n",
        "        1   2\n",
        "       / \\ / \\\n",
        "      3   4   5\n",
        "         ...\n",
        "  \n",
        "  Args:\n",
        "      number_of_steps: the number of total steps.\n",
        "      p_right: probability of the behaviour to go right.\n",
        "\n",
        "  Returns:\n",
        "      A dictionary with elements:\n",
        "        * observations (number_of_steps + 1 integers): the\n",
        "          observations are just the actual (integer) states\n",
        "        * actions (number_of_steps integers): actions per step\n",
        "        * rewards (number_of_steps scalars): rewards per step\n",
        "        * discounts (number_of_steps scalars): currently always 0.9,\n",
        "          except the last one which is zero\n",
        "        * mu (number_of_steps scalars): probability of selecting each\n",
        "          action according to the behavious policy\n",
        "        * pi (number_of_steps scalars): probability of selecting each\n",
        "          action according to the target policy (here p(1) = 0.9 and\n",
        "          p(0) = 0.1, where a==1 implies we go 'right')\n",
        "  \"\"\"\n",
        "  # generate actions\n",
        "  actions = np.array(np.random.random(NUMBER_OF_STEPS,) < MU_RIGHT,\n",
        "                     dtype=np.int)\n",
        "  s = 0\n",
        "  # compute resulting states\n",
        "  states = np.cumsum(np.arange(1, NUMBER_OF_STEPS + 1) + actions)\n",
        "  states = np.array([0] + list(states))  # add start state\n",
        "  # in this case, observations are just the real states\n",
        "  observations = states\n",
        "  # generate rewards\n",
        "  rewards = 2.*actions - 1. # -1 for left, +1 for right, \n",
        "  rewards[-1] = np.sum(actions)  # extra final reward for going right\n",
        "  # compute discounts\n",
        "  discounts = DISCOUNT * np.ones_like(rewards)\n",
        "  discounts[-1] = 0.  # final transition is terminal, has discount=0\n",
        "  # determine target and behaviour probabilities for the selected actions\n",
        "  pi = np.array([1. - PI_RIGHT, PI_RIGHT])[actions] # Target probabilities\n",
        "  mu = np.array([1. - MU_RIGHT, MU_RIGHT])[actions] # Behaviour probabilities\n",
        "  return dict(observations=observations,\n",
        "              actions=actions,\n",
        "              pi=pi,\n",
        "              mu=mu,\n",
        "              rewards=rewards,\n",
        "              discounts=discounts)\n",
        "\n",
        "def true_v(s, pi, number_of_steps):\n",
        "  \"\"\"Compute true state value recursively.\"\"\"\n",
        "  depth = int(np.floor((np.sqrt(1 + 8*s) - 1)/2))\n",
        "  position = int(s - depth*(depth+1)/2)\n",
        "  remaining_steps = number_of_steps - depth\n",
        "  final_reward = DISCOUNT**(remaining_steps-1)*(position + pi*remaining_steps)\n",
        "  reward_per_step = pi*(+1) + (1 - pi)*(-1)\n",
        "  discounted_steps = (1 - DISCOUNT**(remaining_steps - 1))/(1 - DISCOUNT)\n",
        "  reward_along_the_way = reward_per_step * discounted_steps\n",
        "  return reward_along_the_way + final_reward\n",
        "\n"
      ],
      "execution_count": 0,
      "outputs": []
    },
    {
      "cell_type": "code",
      "metadata": {
        "cellView": "both",
        "colab_type": "code",
        "id": "CCFMUmOfRTqZ",
        "outputId": "5a48542b-de08-492f-f074-0553b4b5fbcb",
        "colab": {
          "base_uri": "https://localhost:8080/",
          "height": 683
        }
      },
      "source": [
        "#@title Run experiment (don't modify)\n",
        "algs = ['on_policy', 'full_importance_sampling', 'per_decision',\n",
        "        'control_variates', 'adaptive_bootstrapping']\n",
        "\n",
        "# Precompute state values (for efficiency)\n",
        "N = NUMBER_OF_STEPS\n",
        "true_vs = [true_v(s, PI_RIGHT, N) for s in range((N+1)*(N+2)//2)]\n",
        "\n",
        "def random_v(iteration, s):\n",
        "  rng = np.random.RandomState(seed=s + iteration*10000)\n",
        "  return true_vs[s] + rng.normal(loc=0, scale=1.)  # Add fixed random noise \n",
        "\n",
        "def plot_errors(ax, errors):\n",
        "  errors = np.array(errors)\n",
        "  ax.violinplot(np.log10(errors), showextrema=False)\n",
        "  ax.plot(range(1, len(algs)+1), np.log10(errors).T,\n",
        "          '.', color='#667799', ms=7, alpha=0.2)\n",
        "  ax.plot(range(1, len(algs)+1), np.log10(np.mean(errors, axis=0)),\n",
        "          '.', color='#000000', ms=20)\n",
        "  ax.set_yticks(np.arange(-2, 5))\n",
        "  ax.set_yticklabels(10.**np.arange(-2, 5), fontsize=13)\n",
        "  ax.set_ylabel(\"Value error $(v(s_0) - v_{\\\\pi}(s_0))^2$\", fontsize=15)\n",
        "  ax.set_xticks(range(1, len(algs)+1))\n",
        "  ax.set_xticklabels(algs, fontsize=15, rotation=70)\n",
        "  ax.set_ylim(-1, 4)\n",
        "\n",
        "fig = plt.figure(figsize=(12, 8))\n",
        "\n",
        "errors = []\n",
        "estimates = []\n",
        "v0 = true_vs[0]\n",
        "for iteration in range(1000):\n",
        "  errors.append([])\n",
        "  estimates.append([])\n",
        "  trajectory = generate_experience()\n",
        "  for alg in algs:\n",
        "    estimate = eval(alg)(**trajectory,\n",
        "                        v_fn=lambda s: random_v(iteration, s),\n",
        "                        trace_parameter=0.9)\n",
        "    errors[-1].append((estimate[0] - v0)**2)\n",
        "print(np.mean(errors, axis=0))\n",
        "plot_errors(plt.gca(), errors)"
      ],
      "execution_count": 0,
      "outputs": [
        {
          "output_type": "stream",
          "text": [
            "[ 19.9528968  600.74725561 183.50067599   5.97789382   0.77094649]\n"
          ],
          "name": "stdout"
        },
        {
          "output_type": "display_data",
          "data": {
            "image/png": "[encoded data removed]",
            "text/plain": [
              "<Figure size 864x576 with 1 Axes>"
            ]
          },
          "metadata": {
            "tags": [],
            "needs_background": "light"
          }
        }
      ]
    },
    {
      "cell_type": "markdown",
      "metadata": {
        "colab_type": "text",
        "id": "7hlc4jctHHqv"
      },
      "source": [
        "Above, the distributions of mean squared value errors are shown, with the mean as a big black dot and the (1,000) individual return samples as small black dots.\n",
        "\n",
        "### Q 4.2 [5 marks]\n",
        "Explain the ranking in terms of value error of the different return estimates.\n",
        "\n",
        "> Ranking the algorithms according to their mean squared value error, from best to worst, we have:\n",
        "1. Adaptive Bootstrapping\n",
        "2. Control Variates\n",
        "3. On Policy\n",
        "4. Per Decision\n",
        "5. Full importance sampling\n",
        "\n",
        "> Adaptive Bootstrapping achieves the lowest mean squared value error, thus it is the best, while full importance sampling has the highest mean squared error, thus it peforms worst. \n",
        "\n",
        "> The mean squared error is the second moment of the error hence it encompasses both, the variance and the bias of the estimator. It is worth noticing that for an unbiased estimator MSE becomes just a measure of variance. \n",
        "\n",
        "> In general the estimates obtained using off-policy algorithms, eg. Per Decision, Full Importance Sampling etc. tend to have higher variance than those obtained on-policy - this is because in off-policy the data obtained using a behaviour policy is used to obtain value estimated for some target policy.\n",
        "\n",
        "> However, we do notice that for the reduction in variance is possible for off-policy methods - it is achieved by introducing further variance-reducing techniques with each algorithm, which build on top of each other, thus leading to a constant decrease in variance. In fact, we could even say that each of the off-policy techniques generalises the one which comes before it in the ranking.\n",
        "\n",
        "> Full importance sampling suffers from the highest mean squared error (denoted using a black dot). The very high mean is the caused by few extreme outliers, ie. events which are considered to be rare by the importance ratio. Thus, just as expected, importance sampling suffers from high variance. Mathematically, this is due to the fact that all the returns are weighted at the very end ie. we do not scale the returns which are used to compute the $G_t$. Meanwhile, Per-Decision achieves slightly lower variance since we start applying the weight $\\rho_t$ to every reward, utilising the fact that earlier rewards cannot depend on later decisions - this allows us to eliminate some of the unnecessary weighting terms and thus reduce variance.\n",
        "\n",
        "> Control Variates builds on top of per-decision, also utilisig the per-decision correction but it also introduces the weighting term on the error term, not only on the reward term. In this way, we utilise the knowledge about errors in known quantities to reduce the error in the estimate of an unknown quantitity. Thus, the control variate can correlate with the target, and like the previous alogorithms it is an unbiased estimator, hence it further reduces the variance.\n",
        "\n",
        "> Lastly, we observe that adaptive bootstrapping achieves lowest mean squared error - it does so by introducing an adaptive trace parameter $\\lambda_t$, which controls the degree of boostrapping. For  $\\lambda_t$ less than 1  we truncate the return ie. include fewer importance sampling ratios thus further reducing the variance.\n",
        "\n",
        "\n",
        "\n",
        "### Q 4.3 [5 marks]\n",
        "Could there be a reason to **not** choose the best return according to this ranking when learning off-policy?  Explain your answer.\n",
        "\n",
        "> - Using the above ranking, the best return is achieved when using adaptive bootstrapping, as it achieves the lowest value error.\n",
        "> - Usually, given a significantly-large state space, we will be using function approximation. However, we then find ourselves using the combination of off-policy learning, function approximation and bootstrapping. This places us in the deadly triad ie. we face the possibility of divergence when combining these 3. We cannot escape from using function approximation when the state space is too large to learn using the tabular methods thus we need to generalise. Of course, even when using all 3 we are not guaranteed to diverge, but the likelihood of this possibility increases with increasing degree of bootstrapping.\n",
        "> -  Here, the degree of bootstrapping is controlled by the trace decay parameter $\\lambda_t$, which is  defined as $\\lambda_t = min(1, \\frac{1}{\\rho_t})$. \n",
        "A $\\lambda_t$ parameter of 1 corresponds to no bootstrapping, whereas a $\\lambda_t <1$ corresponds to boostrapping.  $\\lambda_t$ is large, ie. near 1, when $\\rho_t$ is small, ie. when the probabilities of the current action is small under the target policy and large under the behaviour policy, and $\\lambda_t$ is small when $\\rho_t$ is large, ie. when the probabilities of the current action being taken is large under the target and and small under the behaviour policy. This ensures a large reduction in variance, as we would expect to have very large variance when the action taken is very likely under the target but very unlikely under the behaviour. However, in this case, ie. when $\\lambda_t$ is very small, we boostrap a lot thus increase the changes of diverging and falling into the deadly triad. Thus,if we want to at all costs avoid the possibility of diverging, we could use another approach instead such as control variates, where we can manually set the parameter $\\lambda$ to be sufficiently high at all times and thus ensure we are never boostrapping too much and reduce the risk of falling into the deadly triad. \n",
        "> - Moreover, it is worth noting that any use of boostrapping necessarily introduces a certain degree of bias, since we are boostrapping on estimates which are not yet perfect. Thus, the more we boostrap, we further reduce variance but we also lead to an increase in bias. Thus, when considering the bias-variance trade-off, we need to consider whether we want to boostrap at all and trade-off a reduction in variance for an increase in bias.\n",
        "\n"
      ]
    }
  ]
}