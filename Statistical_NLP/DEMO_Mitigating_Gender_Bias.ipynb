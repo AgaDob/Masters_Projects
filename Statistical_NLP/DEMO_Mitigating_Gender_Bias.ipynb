{
  "nbformat": 4,
  "nbformat_minor": 0,
  "metadata": {
    "accelerator": "GPU",
    "colab": {
      "name": "Demo.ipynb",
      "provenance": [],
      "collapsed_sections": [],
      "toc_visible": true,
      "machine_shape": "hm"
    },
    "kernelspec": {
      "display_name": "Python 3",
      "language": "python",
      "name": "python3"
    },
    "language_info": {
      "codemirror_mode": {
        "name": "ipython",
        "version": 3
      },
      "file_extension": ".py",
      "mimetype": "text/x-python",
      "name": "python",
      "nbconvert_exporter": "python",
      "pygments_lexer": "ipython3",
      "version": "3.7.3"
    }
  },
  "cells": [
    {
      "cell_type": "markdown",
      "metadata": {
        "colab_type": "text",
        "id": "Tw945AuED_9h"
      },
      "source": [
        "# Contents"
      ]
    },
    {
      "cell_type": "markdown",
      "metadata": {
        "colab_type": "text",
        "id": "pZh64VtiEGaq"
      },
      "source": [
        "\n",
        "\n",
        "1. Imports\n",
        "    - import packages <br>\n",
        "2. Data\n",
        "    - define directory path<br>\n",
        "    - read raw data csv files into pandas for both original and reduced datasets from directory<br>\n",
        "    - create summary statistic table with length of training and test sets and number of occupation labels<br>\n",
        "    - create occupation frequency chart for original data set<br>\n",
        "3. Utility Functions\n",
        "    - define some utility functions<br>\n",
        "4. Graphs\n",
        "    - clean original test dataset by removing words that are not included in the training vocabulary<br>\n",
        "    - build feature vectors and one hot labels for original test data<br>\n",
        "    - load feature vectors, one hot labels and adjacency matrix for original training data from directory<br>\n",
        "5. Model\n",
        "    - define intialisation functions<br>\n",
        "    - define layers<br>\n",
        "    - define training metrics<br>\n",
        "    - define model<br>\n",
        "6. Prediction\n",
        "    - load GCN trained with original dataset with gender indicators<br>\n",
        "    - predict occupation labels for original dataset<br>\n",
        "7. Analyses\n",
        "    - calculate TPR, TPR gender gap and $\\pi_{g,y}$ for the gender \"female\"<br>\n",
        "    - plot for $\\text{Gap}_{female,y}$ and $\\pi_{female,y}$ and compute correlation <br>\n",
        "    - compute gender imbalance and compounding factor<br>\n",
        "    - load predictions on scrubbed test dataset<br>\n",
        "    - TPR, TPR gender gap and correlation between TPR gender gap and $\\pi_{female,y}$ on scrubbed dataset<br>\n",
        "    - plot of $\\text{Gap}_{female,y}$ and $\\pi_{female,y}$ for original compared to scrubbed test dataset<br>\n",
        "    - proportion of compounding factors pulled towards 1 after scrubbing"
      ]
    },
    {
      "cell_type": "markdown",
      "metadata": {
        "colab_type": "text",
        "id": "8GjtmTumIrHZ"
      },
      "source": [
        "# Imports"
      ]
    },
    {
      "cell_type": "code",
      "metadata": {
        "id": "OdHQ5TDoEjvD",
        "colab_type": "code",
        "colab": {
          "base_uri": "https://localhost:8080/",
          "height": 34
        },
        "outputId": "7e9b6ce7-2bcd-4a7b-81e6-49ff6a2f1c4b"
      },
      "source": [
        "import pickle\n",
        "import csv\n",
        "import random\n",
        "from sklearn import preprocessing\n",
        "import pandas as pd \n",
        "import numpy as np\n",
        "from google.colab import drive\n",
        "from nltk.corpus import stopwords\n",
        "import nltk\n",
        "from nltk.wsd import lesk\n",
        "from nltk.corpus import wordnet as wn\n",
        "import sys\n",
        "import pickle as pkl\n",
        "import networkx as nx\n",
        "import scipy.sparse as sp\n",
        "from scipy.sparse.linalg.eigen.arpack import eigsh\n",
        "import re\n",
        "import os\n",
        "from math import log\n",
        "from sklearn import svm\n",
        "from nltk.corpus import wordnet as wn\n",
        "from sklearn.feature_extraction.text import TfidfVectorizer\n",
        "from scipy.spatial.distance import cosine\n",
        "# colab will be updated to tensorflow 2.x soon\n",
        "%tensorflow_version 1.x \n",
        "import tensorflow as tf\n",
        "from __future__ import division\n",
        "from __future__ import print_function\n",
        "import time\n",
        "from sklearn import metrics\n",
        "import matplotlib.pyplot as plt\n",
        "import timeit"
      ],
      "execution_count": null,
      "outputs": [
        {
          "output_type": "stream",
          "text": [
            "TensorFlow 1.x selected.\n"
          ],
          "name": "stdout"
        }
      ]
    },
    {
      "cell_type": "markdown",
      "metadata": {
        "colab_type": "text",
        "id": "h0GoUYmVI8BS"
      },
      "source": [
        "# Data"
      ]
    },
    {
      "cell_type": "markdown",
      "metadata": {
        "colab_type": "text",
        "id": "5HR3dKjTJDXn"
      },
      "source": [
        "## Load Data"
      ]
    },
    {
      "cell_type": "markdown",
      "metadata": {
        "colab_type": "text",
        "id": "ldG0EZNUzUvW"
      },
      "source": [
        "Choose whether you would like to perform data cleaning which takes an additional 8 mins (True) or load cleaned data to save time (False)"
      ]
    },
    {
      "cell_type": "code",
      "metadata": {
        "colab_type": "code",
        "id": "7gPdgWIlzhHj",
        "colab": {}
      },
      "source": [
        "clean = True"
      ],
      "execution_count": null,
      "outputs": []
    },
    {
      "cell_type": "markdown",
      "metadata": {
        "colab_type": "text",
        "id": "S1vn-G-5J18v"
      },
      "source": [
        "Please define the path to directory where data is saved below."
      ]
    },
    {
      "cell_type": "code",
      "metadata": {
        "colab_type": "code",
        "id": "KZZZ5IFQJ_SF",
        "colab": {}
      },
      "source": [
        "alldatapath = './all data'\n",
        "testdatapath = './test data'\n",
        "trainedmodelpath = './trained model'\n",
        "traininggraph = './training graph'"
      ],
      "execution_count": null,
      "outputs": []
    },
    {
      "cell_type": "code",
      "metadata": {
        "colab_type": "code",
        "id": "-p_TzrF9Ju57",
        "colab": {}
      },
      "source": [
        "base_set = pd.read_csv('{}/preprocessed.csv'.format(alldatapath)) # complete dataset\n",
        "base_set_1000 = pd.read_csv('{}/preprocessed_1000.csv'.format(alldatapath)) # complete dataset\n",
        "occupation_dict = np.array(pd.read_csv('{}/occupation.csv'.format(alldatapath), header=None)) # occupations + coded occupations\n",
        "g = np.array(base_set.iloc[round(0.7 * len(base_set)):, base_set.columns.get_loc('gender')]) # gender labels for test set\n"
      ],
      "execution_count": null,
      "outputs": []
    },
    {
      "cell_type": "markdown",
      "metadata": {
        "colab_type": "text",
        "id": "K2liOz5iJb5Z"
      },
      "source": [
        "## Summary Statistics"
      ]
    },
    {
      "cell_type": "code",
      "metadata": {
        "colab_type": "code",
        "id": "H2ChK7H0MNYZ",
        "colab": {
          "base_uri": "https://localhost:8080/",
          "height": 111
        },
        "outputId": "e36fe017-92bf-4a8d-fb82-0588c9dbd0eb"
      },
      "source": [
        "summary = pd.DataFrame({'train size': [round(0.7 * len(base_set)), round(0.7 * len(base_set_1000))],\n",
        "                        'test size': [len(base_set)-round(0.7 * len(base_set)), len(base_set_1000)-round(0.7 * len(base_set_1000))],\n",
        "                        'no. labels': [len(np.unique(base_set['label'])),len(np.unique(base_set_1000['label']))]})\n",
        "summary.index= ['original', 'reduced']\n",
        "display(summary)                                   "
      ],
      "execution_count": null,
      "outputs": [
        {
          "output_type": "display_data",
          "data": {
            "text/html": [
              "<div>\n",
              "<style scoped>\n",
              "    .dataframe tbody tr th:only-of-type {\n",
              "        vertical-align: middle;\n",
              "    }\n",
              "\n",
              "    .dataframe tbody tr th {\n",
              "        vertical-align: top;\n",
              "    }\n",
              "\n",
              "    .dataframe thead th {\n",
              "        text-align: right;\n",
              "    }\n",
              "</style>\n",
              "<table border=\"1\" class=\"dataframe\">\n",
              "  <thead>\n",
              "    <tr style=\"text-align: right;\">\n",
              "      <th></th>\n",
              "      <th>train size</th>\n",
              "      <th>test size</th>\n",
              "      <th>no. labels</th>\n",
              "    </tr>\n",
              "  </thead>\n",
              "  <tbody>\n",
              "    <tr>\n",
              "      <th>original</th>\n",
              "      <td>68459</td>\n",
              "      <td>29339</td>\n",
              "      <td>28</td>\n",
              "    </tr>\n",
              "    <tr>\n",
              "      <th>reduced</th>\n",
              "      <td>65475</td>\n",
              "      <td>28061</td>\n",
              "      <td>19</td>\n",
              "    </tr>\n",
              "  </tbody>\n",
              "</table>\n",
              "</div>"
            ],
            "text/plain": [
              "          train size  test size  no. labels\n",
              "original       68459      29339          28\n",
              "reduced        65475      28061          19"
            ]
          },
          "metadata": {
            "tags": []
          }
        }
      ]
    },
    {
      "cell_type": "markdown",
      "metadata": {
        "colab_type": "text",
        "id": "HDXkgIIWJnso"
      },
      "source": [
        "## Occupation Frequencies"
      ]
    },
    {
      "cell_type": "code",
      "metadata": {
        "colab_type": "code",
        "id": "bCjKPSJWTE-i",
        "colab": {
          "base_uri": "https://localhost:8080/",
          "height": 351
        },
        "outputId": "99f7a432-fa0f-4f89-8f7a-73695f870229"
      },
      "source": [
        "y_total = np.array(base_set['label']) # all occupation labels\n",
        "g_total = np.array(base_set['gender']) # all gender labels\n",
        "\n",
        "lbl, cnts = np.unique(y_total, return_counts=True)\n",
        "cnts_sorted, lbl_sorted = zip(*sorted(list(zip(cnts, lbl)), reverse=True))\n",
        "new_dict = dict(occupation_dict)\n",
        "plot_labels = [new_dict[label] for label in lbl_sorted]\n",
        "\n",
        "f = [i for i, x in enumerate(np.array(g_total)) if np.array(g_total)[i]=='F']\n",
        "y_total_f = y_total[f]\n",
        "\n",
        "lbl_f, cnts_f = np.unique(y_total_f, return_counts=True)  \n",
        "cnts_sorted_f_orig, lbl_sorted_f_orig = zip(*sorted(list(zip(cnts_f, lbl_f)), reverse=True))\n",
        "new_dict = dict(occupation_dict)\n",
        "plot_labels_f_orig = [new_dict[label] for label in lbl_sorted_f_orig]\n",
        "\n",
        "zipped = list(zip(plot_labels_f_orig, cnts_sorted_f_orig))\n",
        "zipped_ordered = []\n",
        "for i in range(len(plot_labels)):\n",
        "  for j in range(len(plot_labels)):\n",
        "    if plot_labels[i] in zipped[j]:\n",
        "        zipped_ordered.append(zipped[j])\n",
        "plot_labels_f, cnts_sorted_f = zip(*zipped_ordered)\n",
        "\n",
        "f, (ax, ax2) = plt.subplots(2, 1, sharex=True)\n",
        "\n",
        "# plot the same data on both axes\n",
        "total = ax.bar(range(len(plot_labels)), cnts_sorted, label = 'total')\n",
        "female = ax.bar(range(len(plot_labels_f)), cnts_sorted_f, color='r', label = 'female')\n",
        "ax2.bar(range(len(plot_labels)), cnts_sorted)\n",
        "ax2.bar(range(len(plot_labels_f)), cnts_sorted_f, color='r')\n",
        "\n",
        "# zoom-in / limit the view to different portions of the data\n",
        "ax.set_ylim(15000, 36000)  # outliers only\n",
        "ax2.set_ylim(0, 10000)  # most of the data\n",
        "\n",
        "# hide the spines between ax and ax2\n",
        "plt.xticks(range(len(plot_labels)), plot_labels, rotation=90)\n",
        "ax.spines['bottom'].set_visible(False)\n",
        "ax.xaxis.tick_top()\n",
        "ax2.spines['top'].set_visible(False)\n",
        "\n",
        "d = .015  \n",
        "kwargs = dict(transform=ax.transAxes, color='k', clip_on=False)\n",
        "ax.plot((-d, +d), (-d, +d), **kwargs)        # top-left diagonal\n",
        "ax.plot((1 - d, 1 + d), (-d, +d), **kwargs)  # top-right diagonal\n",
        "\n",
        "kwargs.update(transform=ax2.transAxes)  # switch to the bottom axes\n",
        "ax2.plot((-d, +d), (1 - d, 1 + d), **kwargs)  # bottom-left diagonal\n",
        "ax2.plot((1 - d, 1 + d), (1 - d, 1 + d), **kwargs)  # bottom-right diagonal\n",
        "\n",
        "ax.legend(loc ='upper right')\n",
        "\n",
        "plt.show()"
      ],
      "execution_count": null,
      "outputs": [
        {
          "output_type": "display_data",
          "data": {
            "image/png": "[encoded data removed]",
            "text/plain": [
              "<Figure size 432x288 with 2 Axes>"
            ]
          },
          "metadata": {
            "tags": [],
            "needs_background": "light"
          }
        }
      ]
    },
    {
      "cell_type": "markdown",
      "metadata": {
        "colab_type": "text",
        "id": "ouWBJU1vjZtP"
      },
      "source": [
        "# Utility Functions\n"
      ]
    },
    {
      "cell_type": "code",
      "metadata": {
        "colab_type": "code",
        "id": "oaOBGnysjcOk",
        "colab": {}
      },
      "source": [
        "def parse_index_file(filename):\n",
        "    \"\"\"Parse index file.\"\"\"\n",
        "    index = []\n",
        "    for line in open(filename):\n",
        "        index.append(int(line.strip()))\n",
        "    return index\n",
        "\n",
        "\n",
        "def sample_mask(idx, l):\n",
        "    \"\"\"Create mask.\"\"\"\n",
        "    mask = np.zeros(l)\n",
        "    mask[idx] = 1\n",
        "    return np.array(mask, dtype=np.bool)\n",
        "\n",
        "def load_corpus(test_data_str,train_data_str):\n",
        "    \"\"\"\n",
        "    Loads input corpus from gcn/data directory\n",
        "    ind.dataset_str.x => the feature vectors of the training docs as scipy.sparse.csr.csr_matrix object;\n",
        "    ind.dataset_str.tx => the feature vectors of the test docs as scipy.sparse.csr.csr_matrix object;\n",
        "    ind.dataset_str.allx => the feature vectors of both labeled and unlabeled training docs/words\n",
        "        (a superset of ind.dataset_str.x) as scipy.sparse.csr.csr_matrix object;\n",
        "    ind.dataset_str.y => the one-hot labels of the labeled training docs as numpy.ndarray object;\n",
        "    ind.dataset_str.ty => the one-hot labels of the test docs as numpy.ndarray object;\n",
        "    ind.dataset_str.ally => the labels for instances in ind.dataset_str.allx as numpy.ndarray object;\n",
        "    ind.dataset_str.adj => adjacency matrix of word/doc nodes as scipy.sparse.csr.csr_matrix object;\n",
        "    ind.dataset_str.train.index => the indices of training docs in original doc list.\n",
        "    All objects above must be saved using python pickle module.\n",
        "    :param dataset_str: Dataset name\n",
        "    :return: All data input files loaded (as well the training/test data).\n",
        "    \"\"\"\n",
        "\n",
        "    train_names = ['x', 'y']  # add in 'graph'\n",
        "    test_names = ['tx','ty']\n",
        "    train_names2 = ['allx', 'ally', 'adj']\n",
        "    objects = []\n",
        "    for i in range(len(train_names)):\n",
        "        with open(\"{}/ind.{}.{}\".format(traininggraph, train_data_str, train_names[i]), 'rb') as f:\n",
        "            if sys.version_info > (3, 0):\n",
        "                objects.append(pkl.load(f, encoding='latin1'))\n",
        "            else:\n",
        "                objects.append(pkl.load(f))\n",
        "    for i in range(len(test_names)):\n",
        "        with open(\"{}/ind.{}.{}\".format(testdatapath, test_data_str, test_names[i]), 'rb') as f:\n",
        "            if sys.version_info > (3, 0):\n",
        "                objects.append(pkl.load(f, encoding='latin1'))\n",
        "            else:\n",
        "                objects.append(pkl.load(f))\n",
        "    for i in range(len(train_names2)):\n",
        "      with open(\"{}/ind.{}.{}\".format(traininggraph, train_data_str, train_names2[i]), 'rb') as f:\n",
        "          if sys.version_info > (3, 0):\n",
        "              objects.append(pkl.load(f, encoding='latin1'))\n",
        "          else:\n",
        "              objects.append(pkl.load(f))\n",
        "\n",
        "    x, y, tx, ty, allx, ally, adj = tuple(objects)\n",
        "    print(x.shape, y.shape, tx.shape, ty.shape, allx.shape, ally.shape)\n",
        "\n",
        "    features = sp.vstack((allx, tx)).tolil()\n",
        "    labels = np.vstack((ally, ty))\n",
        "    print(len(labels))\n",
        "\n",
        "    train_idx_orig = parse_index_file(\"{}/{}.train.index\".format(traininggraph,train_data_str))\n",
        "    train_size = len(train_idx_orig)\n",
        "\n",
        "    val_size = train_size - x.shape[0]\n",
        "    test_size = tx.shape[0]\n",
        "\n",
        "    idx_train = range(len(y))\n",
        "    idx_val = range(len(y), len(y) + val_size)\n",
        "    idx_test = range(allx.shape[0], allx.shape[0] + test_size)\n",
        "\n",
        "    train_mask = sample_mask(idx_train, labels.shape[0])\n",
        "    val_mask = sample_mask(idx_val, labels.shape[0])\n",
        "    test_mask = sample_mask(idx_test, labels.shape[0])\n",
        "\n",
        "    y_train = np.zeros(labels.shape)\n",
        "    y_val = np.zeros(labels.shape)\n",
        "    y_test = np.zeros(labels.shape)\n",
        "    y_train[train_mask, :] = labels[train_mask, :]\n",
        "    y_val[val_mask, :] = labels[val_mask, :]\n",
        "    y_test[test_mask, :] = labels[test_mask, :]\n",
        "\n",
        "    adj = adj + adj.T.multiply(adj.T > adj) - adj.multiply(adj.T > adj)\n",
        "\n",
        "    return adj, features, y_train, y_val, y_test, train_mask, val_mask, test_mask, train_size, test_size\n",
        "\n",
        "\n",
        "def sparse_to_tuple(sparse_mx):\n",
        "    \"\"\"Convert sparse matrix to tuple representation.\"\"\"\n",
        "    def to_tuple(mx):\n",
        "        if not sp.isspmatrix_coo(mx):\n",
        "            mx = mx.tocoo()\n",
        "        coords = np.vstack((mx.row, mx.col)).transpose()\n",
        "        values = mx.data\n",
        "        shape = mx.shape\n",
        "        return coords, values, shape\n",
        "\n",
        "    if isinstance(sparse_mx, list):\n",
        "        for i in range(len(sparse_mx)):\n",
        "            sparse_mx[i] = to_tuple(sparse_mx[i])\n",
        "    else:\n",
        "        sparse_mx = to_tuple(sparse_mx)\n",
        "\n",
        "    return sparse_mx\n",
        "\n",
        "\n",
        "def preprocess_features(features):\n",
        "    \"\"\"Row-normalize feature matrix and convert to tuple representation\"\"\"\n",
        "    rowsum = np.array(features.sum(1))\n",
        "    r_inv = np.power(rowsum, -1).flatten()\n",
        "    r_inv[np.isinf(r_inv)] = 0.\n",
        "    r_mat_inv = sp.diags(r_inv)\n",
        "    features = r_mat_inv.dot(features)\n",
        "    return sparse_to_tuple(features)\n",
        "\n",
        "\n",
        "def normalize_adj(adj):\n",
        "    \"\"\"Symmetrically normalize adjacency matrix.\"\"\"\n",
        "    adj = sp.coo_matrix(adj)\n",
        "    rowsum = np.array(adj.sum(1))\n",
        "    d_inv_sqrt = np.power(rowsum, -0.5).flatten()\n",
        "    d_inv_sqrt[np.isinf(d_inv_sqrt)] = 0.\n",
        "    d_mat_inv_sqrt = sp.diags(d_inv_sqrt)\n",
        "    return adj.dot(d_mat_inv_sqrt).transpose().dot(d_mat_inv_sqrt).tocoo()\n",
        "\n",
        "\n",
        "def preprocess_adj(adj):\n",
        "    \"\"\"Preprocessing of adjacency matrix for simple GCN model and conversion to tuple representation.\"\"\"\n",
        "    adj_normalized = normalize_adj(adj + sp.eye(adj.shape[0]))\n",
        "    return sparse_to_tuple(adj_normalized)\n",
        "\n",
        "\n",
        "def construct_feed_dict(features, support, labels, labels_mask, placeholders):\n",
        "    \"\"\"Construct feed dictionary.\"\"\"\n",
        "    feed_dict = dict()\n",
        "    feed_dict.update({placeholders['labels']: labels})\n",
        "    feed_dict.update({placeholders['labels_mask']: labels_mask})\n",
        "    feed_dict.update({placeholders['features']: features})\n",
        "    feed_dict.update({placeholders['support'][i]: support[i]\n",
        "                      for i in range(len(support))})\n",
        "    feed_dict.update({placeholders['num_features_nonzero']: features[1].shape})\n",
        "    return feed_dict\n",
        "\n",
        "def clean_str(string):\n",
        "    \"\"\"\n",
        "    Tokenization/string cleaning for all datasets except for SST.\n",
        "    Original taken from https://github.com/yoonkim/CNN_sentence/blob/master/process_data.py\n",
        "    \"\"\"\n",
        "    string = re.sub(r\"[^A-Za-z0-9(),!?\\'\\`]\", \" \", string)\n",
        "    string = re.sub(r\"\\'s\", \" \\'s\", string)\n",
        "    string = re.sub(r\"\\'ve\", \" \\'ve\", string)\n",
        "    string = re.sub(r\"n\\'t\", \" n\\'t\", string)\n",
        "    string = re.sub(r\"\\'re\", \" \\'re\", string)\n",
        "    string = re.sub(r\"\\'d\", \" \\'d\", string)\n",
        "    string = re.sub(r\"\\'ll\", \" \\'ll\", string)\n",
        "    string = re.sub(r\",\", \" , \", string)\n",
        "    string = re.sub(r\"!\", \" ! \", string)\n",
        "    string = re.sub(r\"\\(\", \" \\( \", string)\n",
        "    string = re.sub(r\"\\)\", \" \\) \", string)\n",
        "    string = re.sub(r\"\\?\", \" \\? \", string)\n",
        "    string = re.sub(r\"\\s{2,}\", \" \", string)\n",
        "    return string.strip().lower()\n",
        "\n",
        "def clean_data(test_data, train_data):\n",
        "  p = open('{}/vocab.txt'.format(alldatapath), 'rb')\n",
        "  vocab = pkl.load(p)\n",
        "  p.close\n",
        "\n",
        "  doc_content_list = []\n",
        "  f = open('{}/{}.txt'.format(testdatapath, test_data), 'rb')\n",
        "  for line in f.readlines():\n",
        "      doc_content_list.append(line.strip().decode('latin1'))\n",
        "  f.close()\n",
        "\n",
        "  clean_docs = []\n",
        "  for doc_content in doc_content_list:\n",
        "      temp = clean_str(doc_content)\n",
        "      words = temp.split()\n",
        "      doc_words = []\n",
        "      for word in words:\n",
        "          if word in vocab:\n",
        "              doc_words.append(word)\n",
        "\n",
        "      doc_str = ' '.join(doc_words).strip()\n",
        "\n",
        "      clean_docs.append(doc_str)\n",
        "\n",
        "  clean_corpus_str = '\\n'.join(clean_docs)\n",
        "\n",
        "  f = open('{}/{}.clean.txt'.format(testdatapath, test_data), 'w')\n",
        "  f.write(clean_corpus_str)\n",
        "  f.close()\n",
        "\n",
        "  print('{} cleaned!'.format(test_data))\n",
        "\n",
        "def transform_test_data(test_data):\n",
        "  if(test_data == 'bio' or test_data =='scrub' or test_data =='swap'):\n",
        "    len_train = round(0.7 * len(base_set)) # length of training set\n",
        "    len_test = len(base_set)-len_train # length of test set\n",
        "  elif(test_data == 'bio_1000' or test_data =='scrub_1000' or test_data =='swap_1000'):\n",
        "    len_train = round(0.7 * len(base_set_1000)) # length of training set\n",
        "    len_test = len(base_set_1000)-len_train # length of test set\n",
        "  else: print('wrong test data')\n",
        "\n",
        "  word_embeddings_dim = 300\n",
        "  word_vector_map = {}\n",
        "  label_list = list(map(str,occupation_dict[:,0]))\n",
        "\n",
        "  doc_test_list = []\n",
        "  f = open('{}/{}_label.txt'.format(testdatapath, test_data), 'r')\n",
        "  lines = f.readlines()\n",
        "  for line in lines:\n",
        "      doc_test_list.append(line.strip())\n",
        "  f.close()\n",
        "\n",
        "  test_ids = range(len_train,len_train + len_test)\n",
        "  test_ids_str = '\\n'.join(str(index) for index in test_ids)\n",
        "  f = open('{}/{}.test.index'.format(testdatapath,test_data),'w')  \n",
        "  f.write(test_ids_str)\n",
        "  f.close()\n",
        "\n",
        "  doc_content_list = []\n",
        "  f = open('{}/{}.clean.txt'.format(testdatapath, test_data), 'r')\n",
        "  lines = f.readlines()\n",
        "  for line in lines:\n",
        "    doc_content_list.append(line.strip())\n",
        "  f.close()\n",
        "\n",
        "  # tx: feature vectors of test docs, no initial features\n",
        "  test_size = len(test_ids)\n",
        "  print(test_size)\n",
        "\n",
        "  row_tx = []\n",
        "  col_tx = []\n",
        "  data_tx = []\n",
        "  for i in range(test_size):\n",
        "      doc_vec = np.array([0.0 for k in range(word_embeddings_dim)])\n",
        "      doc_words = doc_content_list[i]\n",
        "      words = doc_words.split()\n",
        "      doc_len = len(words)\n",
        "      for word in words:\n",
        "          if word in word_vector_map:\n",
        "              word_vector = word_vector_map[word]\n",
        "              doc_vec = doc_vec + np.array(word_vector)\n",
        "\n",
        "      for j in range(word_embeddings_dim):\n",
        "          row_tx.append(i)\n",
        "          col_tx.append(j)\n",
        "          # np.random.uniform(-0.25, 0.25)\n",
        "          data_tx.append(doc_vec[j] / doc_len)  # doc_vec[j] / doc_len\n",
        "\n",
        "  # tx = sp.csr_matrix((test_size, word_embeddings_dim), dtype=np.float32)\n",
        "  tx = sp.csr_matrix((data_tx, (row_tx, col_tx)),\n",
        "                    shape=(test_size, word_embeddings_dim))\n",
        "  print(tx.shape)\n",
        "  ty = []\n",
        "  for i in range(test_size):\n",
        "      doc_meta = doc_test_list[i]\n",
        "      temp = doc_meta.split('\\t') #\n",
        "      label = temp[2]\n",
        "      one_hot = [0 for l in range(len(label_list))]\n",
        "      label_index = label_list.index(label)\n",
        "      one_hot[label_index] = 1\n",
        "      ty.append(one_hot)\n",
        "  ty = np.array(ty)\n",
        "  print(ty.shape)\n",
        "\n",
        "  f = open(\"{}/ind.{}.ty\".format(testdatapath, test_data), 'wb')\n",
        "  pkl.dump(ty, f)\n",
        "  f.close()\n",
        "  \n",
        "  f = open(\"{}/ind.{}.tx\".format(testdatapath, test_data), 'wb')\n",
        "  pkl.dump(tx, f)\n",
        "  f.close()\n",
        "\n",
        "  print('{} test data feature vectors and one hot labels saved!'.format(test_data))"
      ],
      "execution_count": null,
      "outputs": []
    },
    {
      "cell_type": "markdown",
      "metadata": {
        "colab_type": "text",
        "id": "QuqLJyWTjBLm"
      },
      "source": [
        "# Graph"
      ]
    },
    {
      "cell_type": "markdown",
      "metadata": {
        "colab_type": "text",
        "id": "KBZfrJW8uvzz"
      },
      "source": [
        "## Clean Test Dataset"
      ]
    },
    {
      "cell_type": "code",
      "metadata": {
        "colab_type": "code",
        "id": "TtQE9KQixMsu",
        "colab": {
          "base_uri": "https://localhost:8080/",
          "height": 51
        },
        "outputId": "6f575075-a519-430c-85f6-a2e3ca1e723f"
      },
      "source": [
        "if(clean == True):\n",
        "\n",
        "  start = timeit.default_timer()\n",
        "\n",
        "  clean_data('bio', 'bio') # takes a 8 mins in total\n",
        "\n",
        "  stop = timeit.default_timer()\n",
        "  print('Time: ', stop - start)  "
      ],
      "execution_count": null,
      "outputs": [
        {
          "output_type": "stream",
          "text": [
            "bio cleaned!\n",
            "Time:  417.7702201269999\n"
          ],
          "name": "stdout"
        }
      ]
    },
    {
      "cell_type": "markdown",
      "metadata": {
        "colab_type": "text",
        "id": "JKv7salguyZZ"
      },
      "source": [
        "##Build Graph"
      ]
    },
    {
      "cell_type": "code",
      "metadata": {
        "colab_type": "code",
        "id": "JSxuS-sZ7BNZ",
        "colab": {
          "base_uri": "https://localhost:8080/",
          "height": 85
        },
        "outputId": "9ada36d2-7ece-4d2a-b1a1-11e2230ba8c0"
      },
      "source": [
        "transform_test_data('bio')"
      ],
      "execution_count": null,
      "outputs": [
        {
          "output_type": "stream",
          "text": [
            "29339\n",
            "(29339, 300)\n",
            "(29339, 28)\n",
            "bio test data feature vectors and one hot labels saved!\n"
          ],
          "name": "stdout"
        }
      ]
    },
    {
      "cell_type": "markdown",
      "metadata": {
        "colab_type": "text",
        "id": "eO-XwrSb5Hps"
      },
      "source": [
        "# Model"
      ]
    },
    {
      "cell_type": "markdown",
      "metadata": {
        "colab_type": "text",
        "id": "yYwvWhg_Izbt"
      },
      "source": [
        "## Initialisations"
      ]
    },
    {
      "cell_type": "code",
      "metadata": {
        "colab_type": "code",
        "id": "VCKdEo6Y5Gns",
        "colab": {}
      },
      "source": [
        "def glorot(shape, name=None):\n",
        "    \"\"\"Glorot & Bengio (AISTATS 2010) init.\"\"\"\n",
        "    init_range = np.sqrt(6.0/(shape[0]+shape[1]))\n",
        "    initial = tf.random_uniform(shape, minval=-init_range, maxval=init_range, dtype=tf.float32)\n",
        "    return tf.Variable(initial, name=name)\n",
        "\n",
        "\n",
        "def zeros(shape, name=None):\n",
        "    \"\"\"All zeros.\"\"\"\n",
        "    initial = tf.zeros(shape, dtype=tf.float32)\n",
        "    return tf.Variable(initial, name=name)\n"
      ],
      "execution_count": null,
      "outputs": []
    },
    {
      "cell_type": "markdown",
      "metadata": {
        "colab_type": "text",
        "id": "eWB93fdx48QT"
      },
      "source": [
        "## Layers"
      ]
    },
    {
      "cell_type": "code",
      "metadata": {
        "colab_type": "code",
        "id": "s_rEzztv43lN",
        "colab": {}
      },
      "source": [
        "#from inits import *\n",
        "\n",
        "flags = tf.app.flags\n",
        "FLAGS = flags.FLAGS\n",
        "\n",
        "# global unique layer ID dictionary for layer name assignment\n",
        "_LAYER_UIDS = {}\n",
        "\n",
        "\n",
        "def get_layer_uid(layer_name=''):\n",
        "    \"\"\"Helper function, assigns unique layer IDs.\"\"\"\n",
        "    if layer_name not in _LAYER_UIDS:\n",
        "        _LAYER_UIDS[layer_name] = 1\n",
        "        return 1\n",
        "    else:\n",
        "        _LAYER_UIDS[layer_name] += 1\n",
        "        return _LAYER_UIDS[layer_name]\n",
        "\n",
        "\n",
        "def sparse_dropout(x, keep_prob, noise_shape):\n",
        "    \"\"\"Dropout for sparse tensors.\"\"\"\n",
        "    random_tensor = keep_prob\n",
        "    random_tensor += tf.random_uniform(noise_shape)\n",
        "    dropout_mask = tf.cast(tf.floor(random_tensor), dtype=tf.bool)\n",
        "    pre_out = tf.sparse_retain(x, dropout_mask)\n",
        "    return pre_out * (1./keep_prob)\n",
        "\n",
        "\n",
        "def dot(x, y, sparse=False):\n",
        "    \"\"\"Wrapper for tf.matmul (sparse vs dense).\"\"\"\n",
        "    if sparse:\n",
        "        res = tf.sparse_tensor_dense_matmul(x, y)\n",
        "    else:\n",
        "        res = tf.matmul(x, y)\n",
        "    return res\n",
        "\n",
        "\n",
        "class Layer(object):\n",
        "    \"\"\"Base layer class. Defines basic API for all layer objects.\n",
        "    Implementation inspired by keras (http://keras.io).\n",
        "    # Properties\n",
        "        name: String, defines the variable scope of the layer.\n",
        "        logging: Boolean, switches Tensorflow histogram logging on/off\n",
        "    # Methods\n",
        "        _call(inputs): Defines computation graph of layer\n",
        "            (i.e. takes input, returns output)\n",
        "        __call__(inputs): Wrapper for _call()\n",
        "        _log_vars(): Log all variables\n",
        "    \"\"\"\n",
        "\n",
        "    def __init__(self, **kwargs):\n",
        "        allowed_kwargs = {'name', 'logging'}\n",
        "        for kwarg in kwargs.keys():\n",
        "            assert kwarg in allowed_kwargs, 'Invalid keyword argument: ' + kwarg\n",
        "        name = kwargs.get('name')\n",
        "        if not name:\n",
        "            layer = self.__class__.__name__.lower()\n",
        "            name = layer + '_' + str(get_layer_uid(layer))\n",
        "        self.name = name\n",
        "        self.vars = {}\n",
        "        logging = kwargs.get('logging', False)\n",
        "        self.logging = logging\n",
        "        self.sparse_inputs = False\n",
        "\n",
        "    def _call(self, inputs):\n",
        "        return inputs\n",
        "\n",
        "    def __call__(self, inputs):\n",
        "        with tf.name_scope(self.name):\n",
        "            if self.logging and not self.sparse_inputs:\n",
        "                tf.summary.histogram(self.name + '/inputs', inputs)\n",
        "            outputs = self._call(inputs)\n",
        "            if self.logging:\n",
        "                tf.summary.histogram(self.name + '/outputs', outputs)\n",
        "            return outputs\n",
        "\n",
        "    def _log_vars(self):\n",
        "        for var in self.vars:\n",
        "            tf.summary.histogram(self.name + '/vars/' + var, self.vars[var])\n",
        "\n",
        "class GraphConvolution(Layer):\n",
        "    \"\"\"Graph convolution layer.\"\"\"\n",
        "    def __init__(self, input_dim, output_dim, placeholders, dropout=0.,\n",
        "                 sparse_inputs=False, act=tf.nn.relu, bias=False,\n",
        "                 featureless=False, **kwargs):\n",
        "        super(GraphConvolution, self).__init__(**kwargs)\n",
        "\n",
        "        if dropout:\n",
        "            self.dropout = placeholders['dropout']\n",
        "        else:\n",
        "            self.dropout = 0.\n",
        "\n",
        "        self.act = act\n",
        "        self.support = placeholders['support']\n",
        "        self.sparse_inputs = sparse_inputs\n",
        "        self.featureless = featureless\n",
        "        self.bias = bias\n",
        "\n",
        "        # helper variable for sparse dropout\n",
        "        self.num_features_nonzero = placeholders['num_features_nonzero']\n",
        "\n",
        "        with tf.variable_scope(self.name + '_vars'):\n",
        "            for i in range(len(self.support)):\n",
        "                self.vars['weights_' + str(i)] = glorot([input_dim, output_dim],\n",
        "                                                        name='weights_' + str(i))\n",
        "            if self.bias:\n",
        "                self.vars['bias'] = zeros([output_dim], name='bias')\n",
        "\n",
        "        if self.logging:\n",
        "            self._log_vars()\n",
        "\n",
        "    def _call(self, inputs):\n",
        "        x = inputs\n",
        "\n",
        "        # dropout\n",
        "        if self.sparse_inputs:\n",
        "            x = sparse_dropout(x, 1-self.dropout, self.num_features_nonzero)\n",
        "        else:\n",
        "            x = tf.nn.dropout(x, 1-self.dropout)\n",
        "\n",
        "        # convolve\n",
        "        supports = list()\n",
        "        for i in range(len(self.support)):\n",
        "            if not self.featureless:\n",
        "                pre_sup = dot(x, self.vars['weights_' + str(i)],\n",
        "                              sparse=self.sparse_inputs)\n",
        "            else:\n",
        "                pre_sup = self.vars['weights_' + str(i)]\n",
        "            support = dot(self.support[i], pre_sup, sparse=True)\n",
        "            supports.append(support)\n",
        "        output = tf.add_n(supports)\n",
        "\n",
        "        # bias\n",
        "        if self.bias:\n",
        "            output += self.vars['bias']\n",
        "        self.embedding = output #output\n",
        "        return self.act(output)\n"
      ],
      "execution_count": null,
      "outputs": []
    },
    {
      "cell_type": "markdown",
      "metadata": {
        "colab_type": "text",
        "id": "3rCsaBlQ5epy"
      },
      "source": [
        "## Training Metrics"
      ]
    },
    {
      "cell_type": "code",
      "metadata": {
        "colab_type": "code",
        "id": "oPkWExDA5dFi",
        "colab": {}
      },
      "source": [
        "def masked_softmax_cross_entropy(preds, labels, mask):\n",
        "    \"\"\"Softmax cross-entropy loss with masking.\"\"\"\n",
        "    print(preds)\n",
        "    loss = tf.nn.softmax_cross_entropy_with_logits(logits=preds, labels=labels)\n",
        "    mask = tf.cast(mask, dtype=tf.float32)\n",
        "    mask /= tf.reduce_mean(mask)\n",
        "    loss *= mask\n",
        "    return tf.reduce_mean(loss)\n",
        "\n",
        "\n",
        "def masked_accuracy(preds, labels, mask):\n",
        "    \"\"\"Accuracy with masking.\"\"\"\n",
        "    correct_prediction = tf.equal(tf.argmax(preds, 1), tf.argmax(labels, 1))\n",
        "\n",
        "    accuracy_all = tf.cast(correct_prediction, tf.float32)\n",
        "    mask = tf.cast(mask, dtype=tf.float32)\n",
        "    mask /= tf.reduce_mean(mask)\n",
        "    accuracy_all *= mask\n",
        "    return tf.reduce_mean(accuracy_all)"
      ],
      "execution_count": null,
      "outputs": []
    },
    {
      "cell_type": "markdown",
      "metadata": {
        "colab_type": "text",
        "id": "OvAWyh9bluZf"
      },
      "source": [
        "## GCN"
      ]
    },
    {
      "cell_type": "code",
      "metadata": {
        "colab_type": "code",
        "id": "nw2Lr9fglxRN",
        "colab": {}
      },
      "source": [
        "class Model(object):\n",
        "    def __init__(self, **kwargs):\n",
        "        allowed_kwargs = {'name', 'logging'}\n",
        "        for kwarg in kwargs.keys():\n",
        "            assert kwarg in allowed_kwargs, 'Invalid keyword argument: ' + kwarg\n",
        "        name = kwargs.get('name')\n",
        "        if not name:\n",
        "            name = self.__class__.__name__.lower()\n",
        "        self.name = name\n",
        "\n",
        "        logging = kwargs.get('logging', False)\n",
        "        self.logging = logging\n",
        "\n",
        "        self.vars = {}\n",
        "        self.placeholders = {}\n",
        "\n",
        "        self.layers = []\n",
        "        self.activations = []\n",
        "\n",
        "        self.inputs = None\n",
        "        self.outputs = None\n",
        "\n",
        "        self.loss = 0\n",
        "        self.accuracy = 0\n",
        "        self.optimizer = None\n",
        "        self.opt_op = None\n",
        "\n",
        "    def _build(self):\n",
        "        raise NotImplementedError\n",
        "\n",
        "    def build(self):\n",
        "        \"\"\" Wrapper for _build() \"\"\"\n",
        "        with tf.variable_scope(self.name):\n",
        "            self._build()\n",
        "\n",
        "        # Build sequential layer model\n",
        "        self.activations.append(self.inputs)\n",
        "        for layer in self.layers:\n",
        "            hidden = layer(self.activations[-1])\n",
        "            self.activations.append(hidden)\n",
        "        self.outputs = self.activations[-1]\n",
        "\n",
        "        # Store model variables for easy access\n",
        "        variables = tf.get_collection(tf.GraphKeys.GLOBAL_VARIABLES, scope=self.name)\n",
        "        self.vars = {var.name: var for var in variables}\n",
        "\n",
        "        # Build metrics\n",
        "        self._loss()\n",
        "        self._accuracy()\n",
        "\n",
        "        self.opt_op = self.optimizer.minimize(self.loss)\n",
        "\n",
        "    def predict(self):\n",
        "        pass\n",
        "\n",
        "    def _loss(self):\n",
        "        raise NotImplementedError\n",
        "\n",
        "    def _accuracy(self):\n",
        "        raise NotImplementedError\n",
        "\n",
        "    def load(self, sess=None):\n",
        "        if not sess:\n",
        "            raise AttributeError(\"TensorFlow session not provided.\")\n",
        "        saver = tf.train.Saver(self.vars)\n",
        "        save_path = trainedmodelpath+\"/%s.ckpt\" % self.name\n",
        "        saver.restore(sess, save_path)\n",
        "        print(\"Model restored from file: %s\" % save_path)\n",
        "\n",
        "\n",
        "class GCN(Model):\n",
        "    def __init__(self, placeholders, input_dim, **kwargs):\n",
        "        super(GCN, self).__init__(**kwargs)\n",
        "\n",
        "        self.inputs = placeholders['features']\n",
        "        self.input_dim = input_dim\n",
        "        # self.input_dim = self.inputs.get_shape().as_list()[1]  # To be supported in future Tensorflow versions\n",
        "        self.output_dim = placeholders['labels'].get_shape().as_list()[1]\n",
        "        self.placeholders = placeholders\n",
        "\n",
        "        self.optimizer = tf.train.AdamOptimizer(learning_rate=FLAGS.learning_rate)\n",
        "\n",
        "        self.build()\n",
        "\n",
        "    def _loss(self):\n",
        "        # Weight decay loss\n",
        "        for var in self.layers[0].vars.values():\n",
        "            self.loss += FLAGS.weight_decay * tf.nn.l2_loss(var)\n",
        "\n",
        "        # Cross entropy error\n",
        "        self.loss += masked_softmax_cross_entropy(self.outputs, self.placeholders['labels'],\n",
        "                                                  self.placeholders['labels_mask'])\n",
        "\n",
        "    def _accuracy(self):\n",
        "        self.accuracy = masked_accuracy(self.outputs, self.placeholders['labels'],\n",
        "                                        self.placeholders['labels_mask'])\n",
        "        self.pred = tf.argmax(self.outputs, 1)\n",
        "        self.labels = tf.argmax(self.placeholders['labels'], 1)\n",
        "\n",
        "    def _build(self):\n",
        "\n",
        "        self.layers.append(GraphConvolution(input_dim=self.input_dim,\n",
        "                                            output_dim=FLAGS.hidden1,\n",
        "                                            placeholders=self.placeholders,\n",
        "                                            act=tf.nn.relu,\n",
        "                                            dropout=True,\n",
        "                                            featureless=True,\n",
        "                                            sparse_inputs=True,\n",
        "                                            logging=self.logging))\n",
        "\n",
        "        self.layers.append(GraphConvolution(input_dim=FLAGS.hidden1,\n",
        "                                            output_dim=self.output_dim,\n",
        "                                            placeholders=self.placeholders,\n",
        "                                            act=lambda x: x, #\n",
        "                                            dropout=True,\n",
        "                                            logging=self.logging))\n",
        "\n",
        "    def predict(self):\n",
        "        return tf.nn.softmax(self.outputs)"
      ],
      "execution_count": null,
      "outputs": []
    },
    {
      "cell_type": "code",
      "metadata": {
        "colab_type": "code",
        "id": "Ulnb-CO2LKny",
        "colab": {}
      },
      "source": [
        "# Settings\n",
        "os.environ[\"CUDA_VISIBLE_DEVICES\"] = \"\"\n",
        "# 'cora', 'citeseer', 'pubmed'\n",
        "flags.DEFINE_string('f', '', 'kernel')\n",
        "# 'gcn', 'gcn_cheby', 'dense'\n",
        "flags.DEFINE_string('model', 'gcn', 'Model string.')\n",
        "flags.DEFINE_float('learning_rate', 0.02, 'Initial learning rate.')\n",
        "flags.DEFINE_integer('epochs', 200, 'Number of epochs to train.')\n",
        "flags.DEFINE_float('dropout', 0, 'Dropout rate (1 - keep probability).') # changed from 0.5\n",
        "flags.DEFINE_integer('hidden1', 200, 'Number of units in hidden layer 1.')\n",
        "flags.DEFINE_float('weight_decay', 0, 'Weight for L2 loss on embedding matrix.')  # 5e-4\n",
        "flags.DEFINE_integer('early_stopping', 10,'Tolerance for early stopping (# of epochs).')\n",
        "flags.DEFINE_integer('max_degree', 3, 'Maximum Chebyshev polynomial degree.')"
      ],
      "execution_count": null,
      "outputs": []
    },
    {
      "cell_type": "code",
      "metadata": {
        "colab_type": "code",
        "id": "3DL_KuLX_p_f",
        "colab": {}
      },
      "source": [
        "def del_all_flags(FLAGS):\n",
        "    flags_dict = FLAGS._flags()    \n",
        "    keys_list = [keys for keys in flags_dict]    \n",
        "    for keys in keys_list:\n",
        "        FLAGS.__delattr__(keys)\n",
        "\n",
        "#del_all_flags(tf.flags.FLAGS)"
      ],
      "execution_count": null,
      "outputs": []
    },
    {
      "cell_type": "code",
      "metadata": {
        "colab_type": "code",
        "id": "bzI9pZ7gpsZM",
        "colab": {}
      },
      "source": [
        "# Define model evaluation function\n",
        "def evaluate(features, support, labels, mask, placeholders,model):\n",
        "    t_test = time.time()\n",
        "    feed_dict_val = construct_feed_dict(\n",
        "        features, support, labels, mask, placeholders)\n",
        "    outs_val = sess.run([model.loss, model.accuracy, model.pred, model.labels], feed_dict=feed_dict_val)\n",
        "    return outs_val[0], outs_val[1], outs_val[2], outs_val[3], (time.time() - t_test)"
      ],
      "execution_count": null,
      "outputs": []
    },
    {
      "cell_type": "markdown",
      "metadata": {
        "colab_type": "text",
        "id": "F9l0gu68Jisc"
      },
      "source": [
        "# Prediction"
      ]
    },
    {
      "cell_type": "markdown",
      "metadata": {
        "colab_type": "text",
        "id": "3keDg4LvJkJw"
      },
      "source": [
        "##  Load GCN Trained on Original Dataset with Gender Indicators"
      ]
    },
    {
      "cell_type": "code",
      "metadata": {
        "colab_type": "code",
        "id": "TZHpftbGrH8r",
        "colab": {
          "base_uri": "https://localhost:8080/",
          "height": 51
        },
        "outputId": "a476ddac-7fd1-4b82-c1c5-572ed6ea31f7"
      },
      "source": [
        "num_supports = 1\n",
        "model_func = GCN\n",
        "session_conf = tf.ConfigProto(gpu_options=tf.GPUOptions(allow_growth=True))\n",
        "sess = tf.Session(config=session_conf)\n",
        "flags.DEFINE_string('test_data', 'bio', 'train_data string.')\n",
        "flags.DEFINE_string('train_data', 'bio', 'test_data string.')\n",
        "\n",
        "adj, features, y_train, y_val, y_test, train_mask, val_mask, test_mask, train_size, test_size = load_corpus(FLAGS.test_data, FLAGS.train_data)\n",
        "features = sp.identity(features.shape[0])  \n",
        "features = preprocess_features(features)\n",
        "support = [preprocess_adj(adj)]\n",
        "placeholders = {\n",
        "    'support': [tf.sparse_placeholder(tf.float32) for _ in range(num_supports)],\n",
        "    'features': tf.sparse_placeholder(tf.float32, shape=tf.constant(features[2], dtype=tf.int64)),\n",
        "    'labels': tf.placeholder(tf.float32, shape=(None, y_train.shape[1])),\n",
        "    'labels_mask': tf.placeholder(tf.int32),\n",
        "    'dropout': tf.placeholder_with_default(0., shape=()),\n",
        "    # helper variable for sparse dropout\n",
        "    'num_features_nonzero': tf.placeholder(tf.int32)\n",
        "}"
      ],
      "execution_count": null,
      "outputs": [
        {
          "output_type": "stream",
          "text": [
            "(61614, 300) (61614, 28) (29339, 300) (29339, 28) (98922, 300) (98922, 28)\n",
            "128261\n"
          ],
          "name": "stdout"
        }
      ]
    },
    {
      "cell_type": "code",
      "metadata": {
        "colab_type": "code",
        "id": "C9ehPbOOrfXA",
        "colab": {
          "base_uri": "https://localhost:8080/",
          "height": 275
        },
        "outputId": "339b6dc8-3edd-4a12-cd15-e9b5a97e09c6"
      },
      "source": [
        "train_data = 'bio'\n",
        "model1 = model_func(placeholders, input_dim=features[2][1], logging=True)\n",
        "model1.load(sess=sess)"
      ],
      "execution_count": null,
      "outputs": [
        {
          "output_type": "stream",
          "text": [
            "WARNING:tensorflow:From <ipython-input-12-68e38a831b43>:119: calling dropout (from tensorflow.python.ops.nn_ops) with keep_prob is deprecated and will be removed in a future version.\n",
            "Instructions for updating:\n",
            "Please use `rate` instead of `keep_prob`. Rate should be set to `rate = 1 - keep_prob`.\n",
            "Tensor(\"graphconvolution_2/SparseTensorDenseMatMul/SparseTensorDenseMatMul:0\", shape=(?, 28), dtype=float32)\n",
            "WARNING:tensorflow:From <ipython-input-13-25236610d06a>:4: softmax_cross_entropy_with_logits (from tensorflow.python.ops.nn_ops) is deprecated and will be removed in a future version.\n",
            "Instructions for updating:\n",
            "\n",
            "Future major versions of TensorFlow will allow gradients to flow\n",
            "into the labels input on backprop by default.\n",
            "\n",
            "See `tf.nn.softmax_cross_entropy_with_logits_v2`.\n",
            "\n",
            "INFO:tensorflow:Restoring parameters from /content/gdrive/My Drive/NLP/trained model/gcn.ckpt\n",
            "Model restored from file: /content/gdrive/My Drive/NLP/trained model/gcn.ckpt\n"
          ],
          "name": "stdout"
        }
      ]
    },
    {
      "cell_type": "markdown",
      "metadata": {
        "colab_type": "text",
        "id": "Uez4oIz2Jug8"
      },
      "source": [
        "## Predictions for Original Test Dataset"
      ]
    },
    {
      "cell_type": "code",
      "metadata": {
        "colab_type": "code",
        "id": "oAgyGXVXtKZl",
        "colab": {
          "base_uri": "https://localhost:8080/",
          "height": 731
        },
        "outputId": "f4db2dda-3fb2-4340-8bd0-9e299e215ab3"
      },
      "source": [
        "test_cost, test_acc, pred, labels, test_duration = evaluate(features, support, y_test, test_mask, placeholders,model1)\n",
        "print(\"Test set results:\", \"cost=\", \"{:.5f}\".format(test_cost),\n",
        "      \"accuracy=\", \"{:.5f}\".format(test_acc), \"time=\", \"{:.5f}\".format(test_duration))\n",
        "\n",
        "bio_test_pred = []\n",
        "test_labels = []\n",
        "print(len(test_mask))\n",
        "for i in range(len(test_mask)):\n",
        "    if test_mask[i]:\n",
        "        bio_test_pred.append(pred[i])\n",
        "        test_labels.append(labels[i])\n",
        "\n",
        "print(\"Test Precision, Recall and F1-Score...\")\n",
        "print(metrics.classification_report(test_labels, bio_test_pred, digits=4))\n",
        "print(\"Macro average Test Precision, Recall and F1-Score...\")\n",
        "print(metrics.precision_recall_fscore_support(test_labels, bio_test_pred, average='macro'))\n",
        "print(\"Micro average Test Precision, Recall and F1-Score...\")\n",
        "print(metrics.precision_recall_fscore_support(test_labels, bio_test_pred, average='micro'))"
      ],
      "execution_count": null,
      "outputs": [
        {
          "output_type": "stream",
          "text": [
            "Test set results: cost= 0.75392 accuracy= 0.77674 time= 4.10298\n",
            "128261\n",
            "Test Precision, Recall and F1-Score...\n",
            "              precision    recall  f1-score   support\n",
            "\n",
            "           0     0.7560    0.6563    0.7026       387\n",
            "           1     0.6821    0.6470    0.6641       796\n",
            "           2     0.8481    0.8582    0.8531      2686\n",
            "           3     0.9018    0.6312    0.7426       160\n",
            "           4     0.7824    0.7602    0.7711       246\n",
            "           5     0.7996    0.7425    0.7700       532\n",
            "           6     0.9385    0.8890    0.9131       721\n",
            "           7     0.7527    0.7721    0.7623       272\n",
            "           8     0.7391    0.5368    0.6220        95\n",
            "           9     0.7312    0.7300    0.7306       574\n",
            "          10     0.8438    0.4696    0.6034       115\n",
            "          11     0.6606    0.7421    0.6990      1865\n",
            "          12     0.7435    0.7155    0.7292       478\n",
            "          13     0.7003    0.6551    0.6769       838\n",
            "          14     0.7934    0.7450    0.7684       706\n",
            "          15     0.8182    0.2835    0.4211       127\n",
            "          16     0.6591    0.5370    0.5918       216\n",
            "          17     0.6494    0.5435    0.5917        92\n",
            "          18     0.8319    0.8562    0.8439      2058\n",
            "          19     0.6214    0.5505    0.5838       990\n",
            "          20     0.7371    0.6464    0.6888       707\n",
            "          21     0.8180    0.8983    0.8563     10532\n",
            "          22     0.7253    0.5512    0.6264      1250\n",
            "          23     0.8387    0.6903    0.7573       113\n",
            "          24     0.7321    0.5803    0.6474       598\n",
            "          25     0.8255    0.7287    0.7741       870\n",
            "          26     0.5351    0.5131    0.5239      1218\n",
            "          27     0.6667    0.5773    0.6188        97\n",
            "\n",
            "    accuracy                         0.7767     29339\n",
            "   macro avg     0.7547    0.6610    0.6976     29339\n",
            "weighted avg     0.7745    0.7767    0.7726     29339\n",
            "\n",
            "Macro average Test Precision, Recall and F1-Score...\n",
            "(0.7546916544690434, 0.6609595314360824, 0.6976273687502914, None)\n",
            "Micro average Test Precision, Recall and F1-Score...\n",
            "(0.7767476737448448, 0.7767476737448448, 0.7767476737448448, None)\n"
          ],
          "name": "stdout"
        }
      ]
    },
    {
      "cell_type": "markdown",
      "metadata": {
        "colab_type": "text",
        "id": "ziN1-BtaN1iN"
      },
      "source": [
        "# Analyses"
      ]
    },
    {
      "cell_type": "markdown",
      "metadata": {
        "colab_type": "text",
        "id": "0W2ncLIu5uhv"
      },
      "source": [
        "## TPR, TPR gender gap and $\\pi_{g,y}$ for the gender \"female\""
      ]
    },
    {
      "cell_type": "code",
      "metadata": {
        "colab_type": "code",
        "id": "FOn-NAGMleXn",
        "colab": {}
      },
      "source": [
        "def tpr(y_hat, y, g):\n",
        "\n",
        "  '''\n",
        "  y_hat:    list/vector of predictions\n",
        "  y:        list/vector of true labels\n",
        "  g:        list of genders ('M', 'F') corresponding to y\n",
        "\n",
        "  returns two lists of TPRs (male, female) sorted by\n",
        "  the occupation code in ascending order\n",
        "  '''\n",
        "\n",
        "  import numpy as np\n",
        "  from sklearn.metrics import confusion_matrix\n",
        "\n",
        "  # male \t\n",
        "  m = [i for i, x in enumerate(np.array(g)) if np.array(g)[i]=='M']\n",
        "  y_hat_m = np.array(y_hat)[m]\n",
        "  y_m = y[m]\n",
        "  conf_mat_m = confusion_matrix(y_m, y_hat_m)\n",
        "  tp_m = np.diag(conf_mat_m)\n",
        "  fn_m = conf_mat_m.sum(axis=1) - np.diag(conf_mat_m)\n",
        "  tpr_m = tp_m/(tp_m+fn_m)\n",
        "\n",
        "  # female\n",
        "  f= [i for i, x in enumerate(np.array(g)) if np.array(g)[i]=='F']\n",
        "  y_hat_f = np.array(y_hat)[f]\n",
        "  y_f = y[f]\n",
        "  conf_mat_f = confusion_matrix(y_f, y_hat_f)\n",
        "  tp_f = np.diag(conf_mat_f)\n",
        "  fn_f = conf_mat_f.sum(axis=1) - np.diag(conf_mat_f)\n",
        "  tpr_f = tp_f/(tp_f+fn_f)\n",
        "\n",
        "  return(tpr_m, tpr_f)\n",
        "\n",
        "def gap(tpr_m, tpr_f, gender=\"F\"):\n",
        "  \n",
        "  '''\n",
        "  tpr_m:    list of TPRs for male\n",
        "  tpr_f:    list of TPRs for female\n",
        "  gender:   string indicating whether the gap \n",
        "            should be calculated from the female\n",
        "            ('F') or male ('M') perspective with\n",
        "            default 'F'\n",
        "\n",
        "  returns a list of TPR gender gaps for the chosen\n",
        "  gender sorted by the occupation code in ascending order\n",
        "  '''\n",
        "\n",
        "  if gender==\"F\":\n",
        "    gap = tpr_f - tpr_m\n",
        "  if gender == \"M\":\n",
        "    gap = tpr_m - tpr_f\n",
        "\n",
        "  return(gap)\n",
        "\n",
        "def prob_pi(y, g, gender='F'):\n",
        "\n",
        "  '''\n",
        "  y:        list/vector of true labels\n",
        "  g:        list of genders ('M', 'F') corresponding to y\n",
        "  gender:   string indicating whether the probability \n",
        "            should be calculated from the female\n",
        "            ('F') or male ('M') perspective with\n",
        "            default 'F'\n",
        "\n",
        "  returns a list of probabilities for the chosen\n",
        "  gender given an occupation sorted by the occupation code \n",
        "  in ascending order\n",
        "  '''\n",
        "\n",
        "  from collections import Counter\n",
        "\n",
        "  # totals\n",
        "  total_g = len(g)\n",
        "  total_y = len(y)\n",
        "  arr_y = np.array(sorted(Counter(y).items()), dtype=np.dtype('int,int'))\n",
        "  arr_y.dtype.names=['codes', 'counts']\n",
        "  counts_y = arr_y['counts']\n",
        "  p_y = counts_y/total_y # P(Y=y)\n",
        "\n",
        "  # gender filter\t\n",
        "  indx = [i for i, x in enumerate(np.array(g)) if np.array(g)[i]==gender]\n",
        "  p_g = len(indx)/total_g # P(G=g)\n",
        "  y_g = np.array(y)[indx]\n",
        "  total_y_g = len(y_g)\n",
        "  arr_y_g = np.array(sorted(Counter(y_g).items()), dtype=np.dtype('int,int'))\n",
        "  arr_y_g.dtype.names=['codes', 'counts']\n",
        "  counts_y_g = arr_y_g['counts']\n",
        "  p_y_g = counts_y_g/total_y_g # P(Y=y|G=g)\n",
        "\n",
        "  # pi\n",
        "  p_g_y = (p_y_g*p_g)/p_y # P(G=g|Y=y)\n",
        "\n",
        "  return(p_g_y)"
      ],
      "execution_count": null,
      "outputs": []
    },
    {
      "cell_type": "code",
      "metadata": {
        "colab_type": "code",
        "id": "JPKlnhQn6QtD",
        "colab": {}
      },
      "source": [
        "tpr_m, tpr_f = tpr(np.array(bio_test_pred), np.array(test_labels), g)\n",
        "gap_f = gap(tpr_m, tpr_f, gender= 'F')\n",
        "prob_pi_f = prob_pi(np.array(test_labels), g, gender='F')"
      ],
      "execution_count": null,
      "outputs": []
    },
    {
      "cell_type": "markdown",
      "metadata": {
        "colab_type": "text",
        "id": "W1ALoI1Q6U-s"
      },
      "source": [
        "## Plot $\\text{Gap}_{female,y}$ against $\\pi_{female,y}$ and compute correlation"
      ]
    },
    {
      "cell_type": "code",
      "metadata": {
        "colab_type": "code",
        "id": "a9uXkQoY6xIo",
        "colab": {}
      },
      "source": [
        "def plot_gender_gap(prob_pi_g, gap_g, occupation_dict, gender='F'):\n",
        "\n",
        "  '''\n",
        "  prob_pi_g:         list of probabilities for occupations for the chosen\n",
        "                     gender\n",
        "  gap_g:             list of TPR gender gaps for the chosen\n",
        "                     gender\n",
        "  occupation_dict:   zipped list of coded occuation labels and corresponding\n",
        "                     occupation labels\n",
        "  gender:            chosen gender with 'F' as default\n",
        "\n",
        "  returns a plot of the TPR gender gaps against the probability\n",
        "  of a gender given the occupation\n",
        "  '''\n",
        "\n",
        "  import matplotlib.pyplot as plt\n",
        "\n",
        "  # scatterplot\n",
        "  plt.plot(prob_pi_g, gap_g, 'b.')\n",
        "  \n",
        "  # x and y labels\n",
        "  if gender==\"F\":\n",
        "    plt.xlabel(\"% Female\")\n",
        "  else:\n",
        "    plt.xlabel(\"% Male\")\n",
        "  plt.ylabel(\"TRP Gender Gap\")\n",
        "  \n",
        "  # add occupation labels for each point\n",
        "  _, occupation = zip(*occupation_dict)\n",
        "  coordinates = list(zip(occupation, prob_pi_g, gap_g))\n",
        "  #for x in coordinates: plt.annotate(x[0], (x[1],x[2]), textcoords=\"offset points\",xytext=(0,10),ha='left', fontsize='small')\n",
        "  plt.annotate(coordinates[0][0], (coordinates[0][1],coordinates[0][2]), textcoords=\"offset points\",xytext=(4,16),ha='left', fontsize='small')\n",
        "  plt.annotate(coordinates[1][0], (coordinates[1][1],coordinates[1][2]), textcoords=\"offset points\",xytext=(0,5),ha='left', fontsize='small')\n",
        "  plt.annotate(coordinates[2][0], (coordinates[2][1],coordinates[2][2]), textcoords=\"offset points\",xytext=(-11,10),ha='left', fontsize='small')\n",
        "  plt.annotate(coordinates[3][0], (coordinates[3][1],coordinates[3][2]), textcoords=\"offset points\",xytext=(-35,-10),ha='left', fontsize='small')\n",
        "  plt.annotate(coordinates[4][0], (coordinates[4][1],coordinates[4][2]), textcoords=\"offset points\",xytext=(-3,-9),ha='left', fontsize='small')\n",
        "  plt.annotate(coordinates[5][0], (coordinates[5][1],coordinates[5][2]), textcoords=\"offset points\",xytext=(-1,-10),ha='left', fontsize='small')\n",
        "  plt.annotate(coordinates[6][0], (coordinates[6][1],coordinates[6][2]), textcoords=\"offset points\",xytext=(-20,7),ha='left', fontsize='small')\n",
        "  plt.annotate(coordinates[7][0], (coordinates[7][1],coordinates[7][2]), textcoords=\"offset points\",xytext=(-25,7),ha='left', fontsize='small')\n",
        "  plt.annotate(coordinates[8][0], (coordinates[8][1],coordinates[8][2]), textcoords=\"offset points\",xytext=(-8,-9),ha='left', fontsize='small')\n",
        "  plt.annotate(coordinates[9][0], (coordinates[9][1],coordinates[9][2]), textcoords=\"offset points\",xytext=(-20,6),ha='left', fontsize='small')\n",
        "  plt.annotate(coordinates[10][0], (coordinates[10][1],coordinates[10][2]), textcoords=\"offset points\",xytext=(-30,-9),ha='left', fontsize='small')\n",
        "  plt.annotate(coordinates[11][0], (coordinates[11][1],coordinates[11][2]), textcoords=\"offset points\",xytext=(0,-10),ha='left', fontsize='small')\n",
        "  plt.annotate(coordinates[12][0], (coordinates[12][1],coordinates[12][2]), textcoords=\"offset points\",xytext=(-8,-9),ha='left', fontsize='small')\n",
        "  plt.annotate(coordinates[13][0], (coordinates[13][1],coordinates[13][2]), textcoords=\"offset points\",xytext=(-10,7),ha='left', fontsize='small')\n",
        "  plt.annotate(coordinates[14][0], (coordinates[14][1],coordinates[14][2]), textcoords=\"offset points\",xytext=(10,-10),ha='left', fontsize='small')\n",
        "  plt.annotate(coordinates[15][0], (coordinates[15][1],coordinates[15][2]), textcoords=\"offset points\",xytext=(0,-9),ha='left', fontsize='small')\n",
        "  plt.annotate(coordinates[16][0], (coordinates[16][1],coordinates[16][2]), textcoords=\"offset points\",xytext=(0,7),ha='left', fontsize='small')\n",
        "  plt.annotate(coordinates[17][0], (coordinates[17][1],coordinates[17][2]), textcoords=\"offset points\",xytext=(0,-9),ha='left', fontsize='small')\n",
        "  plt.annotate(coordinates[18][0], (coordinates[18][1],coordinates[18][2]), textcoords=\"offset points\",xytext=(-50,-12),ha='left', fontsize='small')\n",
        "  plt.annotate(coordinates[19][0], (coordinates[19][1],coordinates[19][2]), textcoords=\"offset points\",xytext=(5,-2),ha='left', fontsize='small')\n",
        "  plt.annotate(coordinates[20][0], (coordinates[20][1],coordinates[20][2]), textcoords=\"offset points\",xytext=(-11,-9),ha='left', fontsize='small')\n",
        "  plt.annotate(coordinates[21][0], (coordinates[21][1],coordinates[21][2]), textcoords=\"offset points\",xytext=(0,-2),ha='left', fontsize='small')\n",
        "  plt.annotate(coordinates[22][0], (coordinates[22][1],coordinates[22][2]), textcoords=\"offset points\",xytext=(-3,-9),ha='left', fontsize='small')\n",
        "  plt.annotate(coordinates[23][0], (coordinates[23][1],coordinates[23][2]), textcoords=\"offset points\",xytext=(-11,-9),ha='left', fontsize='small')\n",
        "  plt.annotate(coordinates[24][0], (coordinates[24][1],coordinates[24][2]), textcoords=\"offset points\",xytext=(-20,6),ha='left', fontsize='small')\n",
        "  plt.annotate(coordinates[25][0], (coordinates[25][1],coordinates[25][2]), textcoords=\"offset points\",xytext=(-10,-11),ha='left', fontsize='small')\n",
        "  plt.annotate(coordinates[26][0], (coordinates[26][1],coordinates[26][2]), textcoords=\"offset points\",xytext=(-8,5),ha='left', fontsize='small')\n",
        "  plt.annotate(coordinates[27][0], (coordinates[27][1],coordinates[27][2]), textcoords=\"offset points\",xytext=(-8,8),ha='left', fontsize='small')\n",
        "  \n",
        "  plt.show()"
      ],
      "execution_count": null,
      "outputs": []
    },
    {
      "cell_type": "code",
      "metadata": {
        "colab_type": "code",
        "id": "zOUIMx0d6ylf",
        "colab": {
          "base_uri": "https://localhost:8080/",
          "height": 281
        },
        "outputId": "043ede14-c8cd-4ae1-c5aa-ac1d408e8228"
      },
      "source": [
        "plot_gender_gap(prob_pi_f, gap_f, occupation_dict, 'F')"
      ],
      "execution_count": null,
      "outputs": [
        {
          "output_type": "display_data",
          "data": {
            "image/png": "[encoded data removed]",
            "text/plain": [
              "<Figure size 432x288 with 1 Axes>"
            ]
          },
          "metadata": {
            "tags": [],
            "needs_background": "light"
          }
        }
      ]
    },
    {
      "cell_type": "code",
      "metadata": {
        "colab_type": "code",
        "id": "XpDSePE_Hw35",
        "colab": {
          "base_uri": "https://localhost:8080/",
          "height": 34
        },
        "outputId": "9e504d12-0861-455b-f962-2a982b2d9c4e"
      },
      "source": [
        "corr_w = np.corrcoef(prob_pi_f, gap_f)\n",
        "print('Correlation: ', corr_w[0,1])"
      ],
      "execution_count": null,
      "outputs": [
        {
          "output_type": "stream",
          "text": [
            "Correlation:  0.74161268363547\n"
          ],
          "name": "stdout"
        }
      ]
    },
    {
      "cell_type": "markdown",
      "metadata": {
        "colab_type": "text",
        "id": "FPl891PcIW3Z"
      },
      "source": [
        "## Gender imbalance and compounding factor"
      ]
    },
    {
      "cell_type": "code",
      "metadata": {
        "colab_type": "code",
        "id": "Z-vFHX36nPWw",
        "colab": {}
      },
      "source": [
        "def g_imbalance(y, g, gender='F'):\n",
        "\n",
        "  '''\n",
        "  y:        list/vector of true labels\n",
        "  g:        list of genders ('M', 'F') corresponding to y\n",
        "  gender:   string indicating whether the imbalnce \n",
        "            should be calculated from the female\n",
        "            ('F') or male ('M') perspective with\n",
        "            default 'F'\n",
        "\n",
        "  returns a list of imbalances from the perspective of the chosen\n",
        "  gender sorted by the occupation code in ascending order\n",
        "  '''\n",
        "  \n",
        "  if gender=='F':\n",
        "    g_imbalance = prob_pi(y,g,gender='F')/prob_pi(y,g,gender='M')\n",
        "\n",
        "  if gender=='M':\n",
        "    g_imbalance = prob_pi(y,g,gender='M')/prob_pi(y,g,gender='F')\n",
        "\n",
        "  return(g_imbalance)"
      ],
      "execution_count": null,
      "outputs": []
    },
    {
      "cell_type": "code",
      "metadata": {
        "colab_type": "code",
        "id": "a4k46oo3TluO",
        "colab": {}
      },
      "source": [
        "def compounding_factor(tpr_m, tpr_f, gender='F'):\n",
        "\n",
        "  '''\n",
        "  tpr_m:    list of TPRs for male\n",
        "  tpr_f:    list of TPRs for female\n",
        "  gender:   string indicating whether the compounding  \n",
        "            factor should be calculated from the female\n",
        "            ('F') or male ('M') perspective with\n",
        "            default 'F'\n",
        "\n",
        "  returns a list of compouning factors for the chosen\n",
        "  gender sorted by the occupation code in ascending order\n",
        "  '''\n",
        "\n",
        "  if gender==\"F\":\n",
        "    comp_fac = tpr_f/tpr_m\n",
        "  if gender == \"M\":\n",
        "    comp_fac = tpr_m/tpr_f\n",
        "\n",
        "  return(comp_fac)"
      ],
      "execution_count": null,
      "outputs": []
    },
    {
      "cell_type": "code",
      "metadata": {
        "colab_type": "code",
        "id": "I7AzVKwWImZU",
        "colab": {}
      },
      "source": [
        "imbalance_f = g_imbalance(np.array(bio_test_pred), g, gender='F')\n",
        "comp_fact_f = compounding_factor(tpr_m, tpr_f, gender='F')"
      ],
      "execution_count": null,
      "outputs": []
    },
    {
      "cell_type": "code",
      "metadata": {
        "colab_type": "code",
        "id": "6DQUK-p8IqT5",
        "colab": {
          "base_uri": "https://localhost:8080/",
          "height": 934
        },
        "outputId": "73601640-c436-4d3f-99a9-ca3215611f9e"
      },
      "source": [
        "df2 = pd.DataFrame(list(zip(imbalance_f, comp_fact_f)), columns =['Gender imbalance', 'Compounding factor'])\n",
        "print('--------------- g = female ---------------')\n",
        "display(df2)"
      ],
      "execution_count": null,
      "outputs": [
        {
          "output_type": "stream",
          "text": [
            "--------------- g = female ---------------\n"
          ],
          "name": "stdout"
        },
        {
          "output_type": "display_data",
          "data": {
            "text/html": [
              "<div>\n",
              "<style scoped>\n",
              "    .dataframe tbody tr th:only-of-type {\n",
              "        vertical-align: middle;\n",
              "    }\n",
              "\n",
              "    .dataframe tbody tr th {\n",
              "        vertical-align: top;\n",
              "    }\n",
              "\n",
              "    .dataframe thead th {\n",
              "        text-align: right;\n",
              "    }\n",
              "</style>\n",
              "<table border=\"1\" class=\"dataframe\">\n",
              "  <thead>\n",
              "    <tr style=\"text-align: right;\">\n",
              "      <th></th>\n",
              "      <th>Gender imbalance</th>\n",
              "      <th>Compounding factor</th>\n",
              "    </tr>\n",
              "  </thead>\n",
              "  <tbody>\n",
              "    <tr>\n",
              "      <th>0</th>\n",
              "      <td>0.639024</td>\n",
              "      <td>1.003442</td>\n",
              "    </tr>\n",
              "    <tr>\n",
              "      <th>1</th>\n",
              "      <td>0.310764</td>\n",
              "      <td>0.996325</td>\n",
              "    </tr>\n",
              "    <tr>\n",
              "      <th>2</th>\n",
              "      <td>0.620751</td>\n",
              "      <td>0.980255</td>\n",
              "    </tr>\n",
              "    <tr>\n",
              "      <th>3</th>\n",
              "      <td>0.671642</td>\n",
              "      <td>0.919355</td>\n",
              "    </tr>\n",
              "    <tr>\n",
              "      <th>4</th>\n",
              "      <td>0.219388</td>\n",
              "      <td>0.874125</td>\n",
              "    </tr>\n",
              "    <tr>\n",
              "      <th>5</th>\n",
              "      <td>0.244332</td>\n",
              "      <td>0.935124</td>\n",
              "    </tr>\n",
              "    <tr>\n",
              "      <th>6</th>\n",
              "      <td>0.588372</td>\n",
              "      <td>1.047826</td>\n",
              "    </tr>\n",
              "    <tr>\n",
              "      <th>7</th>\n",
              "      <td>8.964286</td>\n",
              "      <td>1.358606</td>\n",
              "    </tr>\n",
              "    <tr>\n",
              "      <th>8</th>\n",
              "      <td>0.169492</td>\n",
              "      <td>0.853625</td>\n",
              "    </tr>\n",
              "    <tr>\n",
              "      <th>9</th>\n",
              "      <td>0.536193</td>\n",
              "      <td>0.951726</td>\n",
              "    </tr>\n",
              "    <tr>\n",
              "      <th>10</th>\n",
              "      <td>3.571429</td>\n",
              "      <td>1.138021</td>\n",
              "    </tr>\n",
              "    <tr>\n",
              "      <th>11</th>\n",
              "      <td>0.959775</td>\n",
              "      <td>1.061670</td>\n",
              "    </tr>\n",
              "    <tr>\n",
              "      <th>12</th>\n",
              "      <td>3.842105</td>\n",
              "      <td>2.423377</td>\n",
              "    </tr>\n",
              "    <tr>\n",
              "      <th>13</th>\n",
              "      <td>12.066667</td>\n",
              "      <td>1.674639</td>\n",
              "    </tr>\n",
              "    <tr>\n",
              "      <th>14</th>\n",
              "      <td>0.878187</td>\n",
              "      <td>0.999849</td>\n",
              "    </tr>\n",
              "    <tr>\n",
              "      <th>15</th>\n",
              "      <td>6.333333</td>\n",
              "      <td>2.056075</td>\n",
              "    </tr>\n",
              "    <tr>\n",
              "      <th>16</th>\n",
              "      <td>0.303704</td>\n",
              "      <td>0.650309</td>\n",
              "    </tr>\n",
              "    <tr>\n",
              "      <th>17</th>\n",
              "      <td>1.081081</td>\n",
              "      <td>0.947368</td>\n",
              "    </tr>\n",
              "    <tr>\n",
              "      <th>18</th>\n",
              "      <td>0.590090</td>\n",
              "      <td>0.995432</td>\n",
              "    </tr>\n",
              "    <tr>\n",
              "      <th>19</th>\n",
              "      <td>0.834728</td>\n",
              "      <td>1.080454</td>\n",
              "    </tr>\n",
              "    <tr>\n",
              "      <th>20</th>\n",
              "      <td>1.006472</td>\n",
              "      <td>1.071386</td>\n",
              "    </tr>\n",
              "    <tr>\n",
              "      <th>21</th>\n",
              "      <td>0.788741</td>\n",
              "      <td>0.990039</td>\n",
              "    </tr>\n",
              "    <tr>\n",
              "      <th>22</th>\n",
              "      <td>1.722063</td>\n",
              "      <td>1.166312</td>\n",
              "    </tr>\n",
              "    <tr>\n",
              "      <th>23</th>\n",
              "      <td>0.134146</td>\n",
              "      <td>0.922360</td>\n",
              "    </tr>\n",
              "    <tr>\n",
              "      <th>24</th>\n",
              "      <td>0.139423</td>\n",
              "      <td>0.950243</td>\n",
              "    </tr>\n",
              "    <tr>\n",
              "      <th>25</th>\n",
              "      <td>0.194401</td>\n",
              "      <td>0.770715</td>\n",
              "    </tr>\n",
              "    <tr>\n",
              "      <th>26</th>\n",
              "      <td>1.774347</td>\n",
              "      <td>1.380824</td>\n",
              "    </tr>\n",
              "    <tr>\n",
              "      <th>27</th>\n",
              "      <td>2.818182</td>\n",
              "      <td>0.908642</td>\n",
              "    </tr>\n",
              "  </tbody>\n",
              "</table>\n",
              "</div>"
            ],
            "text/plain": [
              "    Gender imbalance  Compounding factor\n",
              "0           0.639024            1.003442\n",
              "1           0.310764            0.996325\n",
              "2           0.620751            0.980255\n",
              "3           0.671642            0.919355\n",
              "4           0.219388            0.874125\n",
              "5           0.244332            0.935124\n",
              "6           0.588372            1.047826\n",
              "7           8.964286            1.358606\n",
              "8           0.169492            0.853625\n",
              "9           0.536193            0.951726\n",
              "10          3.571429            1.138021\n",
              "11          0.959775            1.061670\n",
              "12          3.842105            2.423377\n",
              "13         12.066667            1.674639\n",
              "14          0.878187            0.999849\n",
              "15          6.333333            2.056075\n",
              "16          0.303704            0.650309\n",
              "17          1.081081            0.947368\n",
              "18          0.590090            0.995432\n",
              "19          0.834728            1.080454\n",
              "20          1.006472            1.071386\n",
              "21          0.788741            0.990039\n",
              "22          1.722063            1.166312\n",
              "23          0.134146            0.922360\n",
              "24          0.139423            0.950243\n",
              "25          0.194401            0.770715\n",
              "26          1.774347            1.380824\n",
              "27          2.818182            0.908642"
            ]
          },
          "metadata": {
            "tags": []
          }
        }
      ]
    },
    {
      "cell_type": "markdown",
      "metadata": {
        "colab_type": "text",
        "id": "O47Aepf04o9t"
      },
      "source": [
        "## Load predictions on scrubbed test dataset"
      ]
    },
    {
      "cell_type": "code",
      "metadata": {
        "colab_type": "code",
        "id": "gZOaeE6y5H5F",
        "colab": {}
      },
      "source": [
        "results_scrub = pd.read_csv(alldatapath+\"/scrub.results.csv\")\n",
        "scrub_test_pred = results_scrub['predicted labels']"
      ],
      "execution_count": null,
      "outputs": []
    },
    {
      "cell_type": "markdown",
      "metadata": {
        "colab_type": "text",
        "id": "1g_58zPT5PdZ"
      },
      "source": [
        "## TPR, TPR gender gap and correlation between TPR gender gap and $\\pi_{female,y}$ on the scrubbed test dataset"
      ]
    },
    {
      "cell_type": "code",
      "metadata": {
        "colab_type": "code",
        "id": "6dyuKRE_70sC",
        "colab": {
          "base_uri": "https://localhost:8080/",
          "height": 34
        },
        "outputId": "15814202-68d0-4fa4-9f8d-b0a4b0a6e4c7"
      },
      "source": [
        "tpr_m_scrub, tpr_f_scrub = tpr(np.array(scrub_test_pred), np.array(test_labels), g)\n",
        "gap_f_scrub = gap(tpr_m_scrub, tpr_f_scrub, gender= 'F')\n",
        "corr_w = np.corrcoef(prob_pi_f, gap_f_scrub)\n",
        "print('Correlation: ', corr_w[0,1])"
      ],
      "execution_count": null,
      "outputs": [
        {
          "output_type": "stream",
          "text": [
            "Correlation:  0.689206668699241\n"
          ],
          "name": "stdout"
        }
      ]
    },
    {
      "cell_type": "markdown",
      "metadata": {
        "colab_type": "text",
        "id": "Z9GEEnAL6_1Y"
      },
      "source": [
        "## Plot $\\text{Gap}_{female,y}$ against $\\pi_{female,y}$ for original compared to scrubbed test dataset"
      ]
    },
    {
      "cell_type": "code",
      "metadata": {
        "colab_type": "code",
        "id": "fUjESrZV8ORv",
        "colab": {}
      },
      "source": [
        "def plot_gender_gap_two_sets(prob_pi_g_w, gap_g_w, prob_pi_g_wo, gap_g_wo, gender='F'):\n",
        "\n",
        "  '''\n",
        "  prob_pi_g_w:       list of probabilities for occupations for the chosen\n",
        "                     gender on the set with gender indicators\n",
        "  gap_g_w:           list of TPR gender gaps for the chosen\n",
        "                     gender on the set with gender indicators\n",
        "  prob_pi_g_wo:      list of probabilities for occupations for the chosen\n",
        "                     gender on the set without gender indicators\n",
        "  gap_g_wo:          list of TPR gender gaps for the chosen\n",
        "                     gender on the set without gender indicators\n",
        "  gender:            chosen gender with 'F' as default\n",
        "\n",
        "  returns a plot of the TPR gender gaps against the probability\n",
        "  of a gender given the occupation for both the set with and the set without\n",
        "  gender indicators including trendlines\n",
        "  '''\n",
        "\n",
        "  import matplotlib.pyplot as plt\n",
        "  from sklearn.linear_model import LinearRegression\n",
        "\n",
        "  # regressions for trendlines\n",
        "  regr_w = LinearRegression()\n",
        "  regr_w.fit(prob_pi_g_w.reshape(-1, 1), gap_g_w)\n",
        "  pred_w = regr_w.predict(prob_pi_g_w.reshape(-1, 1))\n",
        "  regr_wo = LinearRegression()\n",
        "  regr_wo.fit(prob_pi_g_wo.reshape(-1, 1), gap_g_wo)\n",
        "  pred_wo = regr_wo.predict(prob_pi_g_wo.reshape(-1, 1))\n",
        "\n",
        "  # scatterplot\n",
        "  w, = plt.plot(prob_pi_g_w, gap_g_w, 'bo', label = \"with gender indicators\")\n",
        "  plt.plot(prob_pi_g_w, pred_w, color='blue')\n",
        "  wo, = plt.plot(prob_pi_g_wo, gap_g_wo, 'c^', label = \"without gender indicators\")\n",
        "  plt.plot(prob_pi_g_wo, pred_wo, color='c')\n",
        "  \n",
        "  # x and y labels\n",
        "  if gender==\"F\":\n",
        "    plt.xlabel(\"% Female\")\n",
        "  else:\n",
        "    plt.xlabel(\"% Male\")\n",
        "  plt.ylabel(\"TRP Gender Gap\")\n",
        "\n",
        "  # add legend \n",
        "  plt.legend(loc='upper left')\n",
        "  \n",
        "  # show plot\n",
        "  plt.show()"
      ],
      "execution_count": null,
      "outputs": []
    },
    {
      "cell_type": "code",
      "metadata": {
        "colab_type": "code",
        "id": "COFOeQeg8mYx",
        "colab": {
          "base_uri": "https://localhost:8080/",
          "height": 280
        },
        "outputId": "e6ad1bcb-9442-4c48-b84a-5f972158ea29"
      },
      "source": [
        "plot_gender_gap_two_sets(prob_pi_f, gap_f, prob_pi_f, gap_f_scrub, gender='F')"
      ],
      "execution_count": null,
      "outputs": [
        {
          "output_type": "display_data",
          "data": {
            "image/png": "[encoded data removed]",
            "text/plain": [
              "<Figure size 432x288 with 1 Axes>"
            ]
          },
          "metadata": {
            "tags": [],
            "needs_background": "light"
          }
        }
      ]
    },
    {
      "cell_type": "markdown",
      "metadata": {
        "colab_type": "text",
        "id": "kLMpSX8Y9P29"
      },
      "source": [
        "Gender imbalance and compounding factor for scrubbed test dataset"
      ]
    },
    {
      "cell_type": "code",
      "metadata": {
        "colab_type": "code",
        "id": "FBNiZug89U31",
        "colab": {}
      },
      "source": [
        "imbalance_f_scrub = g_imbalance(np.array(scrub_test_pred), g, gender='F')\n",
        "comp_fact_f_scrub = compounding_factor(tpr_m_scrub, tpr_f_scrub, gender='F')"
      ],
      "execution_count": null,
      "outputs": []
    },
    {
      "cell_type": "code",
      "metadata": {
        "colab_type": "code",
        "id": "V5_R6sbn9eY_",
        "colab": {
          "base_uri": "https://localhost:8080/",
          "height": 934
        },
        "outputId": "7ccbade5-e2bf-44d6-c174-d7a236a70777"
      },
      "source": [
        "df3 = pd.DataFrame(list(zip(imbalance_f_scrub, comp_fact_f_scrub)), columns =['Gender imbalance', 'Compounding factor'])\n",
        "print('--------------- g = female ---------------')\n",
        "display(df3)"
      ],
      "execution_count": null,
      "outputs": [
        {
          "output_type": "stream",
          "text": [
            "--------------- g = female ---------------\n"
          ],
          "name": "stdout"
        },
        {
          "output_type": "display_data",
          "data": {
            "text/html": [
              "<div>\n",
              "<style scoped>\n",
              "    .dataframe tbody tr th:only-of-type {\n",
              "        vertical-align: middle;\n",
              "    }\n",
              "\n",
              "    .dataframe tbody tr th {\n",
              "        vertical-align: top;\n",
              "    }\n",
              "\n",
              "    .dataframe thead th {\n",
              "        text-align: right;\n",
              "    }\n",
              "</style>\n",
              "<table border=\"1\" class=\"dataframe\">\n",
              "  <thead>\n",
              "    <tr style=\"text-align: right;\">\n",
              "      <th></th>\n",
              "      <th>Gender imbalance</th>\n",
              "      <th>Compounding factor</th>\n",
              "    </tr>\n",
              "  </thead>\n",
              "  <tbody>\n",
              "    <tr>\n",
              "      <th>0</th>\n",
              "      <td>0.671429</td>\n",
              "      <td>1.031178</td>\n",
              "    </tr>\n",
              "    <tr>\n",
              "      <th>1</th>\n",
              "      <td>0.352324</td>\n",
              "      <td>1.061956</td>\n",
              "    </tr>\n",
              "    <tr>\n",
              "      <th>2</th>\n",
              "      <td>0.630146</td>\n",
              "      <td>1.006303</td>\n",
              "    </tr>\n",
              "    <tr>\n",
              "      <th>3</th>\n",
              "      <td>0.707692</td>\n",
              "      <td>0.910467</td>\n",
              "    </tr>\n",
              "    <tr>\n",
              "      <th>4</th>\n",
              "      <td>0.259259</td>\n",
              "      <td>0.873271</td>\n",
              "    </tr>\n",
              "    <tr>\n",
              "      <th>5</th>\n",
              "      <td>0.292566</td>\n",
              "      <td>1.008417</td>\n",
              "    </tr>\n",
              "    <tr>\n",
              "      <th>6</th>\n",
              "      <td>0.589450</td>\n",
              "      <td>1.050526</td>\n",
              "    </tr>\n",
              "    <tr>\n",
              "      <th>7</th>\n",
              "      <td>10.666667</td>\n",
              "      <td>1.411858</td>\n",
              "    </tr>\n",
              "    <tr>\n",
              "      <th>8</th>\n",
              "      <td>0.134328</td>\n",
              "      <td>0.698210</td>\n",
              "    </tr>\n",
              "    <tr>\n",
              "      <th>9</th>\n",
              "      <td>0.597484</td>\n",
              "      <td>0.999068</td>\n",
              "    </tr>\n",
              "    <tr>\n",
              "      <th>10</th>\n",
              "      <td>3.583333</td>\n",
              "      <td>1.102679</td>\n",
              "    </tr>\n",
              "    <tr>\n",
              "      <th>11</th>\n",
              "      <td>0.942122</td>\n",
              "      <td>1.021455</td>\n",
              "    </tr>\n",
              "    <tr>\n",
              "      <th>12</th>\n",
              "      <td>3.677419</td>\n",
              "      <td>2.361039</td>\n",
              "    </tr>\n",
              "    <tr>\n",
              "      <th>13</th>\n",
              "      <td>6.580952</td>\n",
              "      <td>1.353093</td>\n",
              "    </tr>\n",
              "    <tr>\n",
              "      <th>14</th>\n",
              "      <td>0.901639</td>\n",
              "      <td>0.989566</td>\n",
              "    </tr>\n",
              "    <tr>\n",
              "      <th>15</th>\n",
              "      <td>4.800000</td>\n",
              "      <td>1.532710</td>\n",
              "    </tr>\n",
              "    <tr>\n",
              "      <th>16</th>\n",
              "      <td>0.275000</td>\n",
              "      <td>0.528182</td>\n",
              "    </tr>\n",
              "    <tr>\n",
              "      <th>17</th>\n",
              "      <td>1.055556</td>\n",
              "      <td>1.116541</td>\n",
              "    </tr>\n",
              "    <tr>\n",
              "      <th>18</th>\n",
              "      <td>0.615705</td>\n",
              "      <td>1.008688</td>\n",
              "    </tr>\n",
              "    <tr>\n",
              "      <th>19</th>\n",
              "      <td>0.848485</td>\n",
              "      <td>1.080639</td>\n",
              "    </tr>\n",
              "    <tr>\n",
              "      <th>20</th>\n",
              "      <td>0.961905</td>\n",
              "      <td>1.057947</td>\n",
              "    </tr>\n",
              "    <tr>\n",
              "      <th>21</th>\n",
              "      <td>0.781955</td>\n",
              "      <td>0.981997</td>\n",
              "    </tr>\n",
              "    <tr>\n",
              "      <th>22</th>\n",
              "      <td>1.536680</td>\n",
              "      <td>1.066519</td>\n",
              "    </tr>\n",
              "    <tr>\n",
              "      <th>23</th>\n",
              "      <td>0.142857</td>\n",
              "      <td>0.761538</td>\n",
              "    </tr>\n",
              "    <tr>\n",
              "      <th>24</th>\n",
              "      <td>0.169133</td>\n",
              "      <td>1.036006</td>\n",
              "    </tr>\n",
              "    <tr>\n",
              "      <th>25</th>\n",
              "      <td>0.189831</td>\n",
              "      <td>0.777091</td>\n",
              "    </tr>\n",
              "    <tr>\n",
              "      <th>26</th>\n",
              "      <td>1.417758</td>\n",
              "      <td>1.257223</td>\n",
              "    </tr>\n",
              "    <tr>\n",
              "      <th>27</th>\n",
              "      <td>3.400000</td>\n",
              "      <td>0.928395</td>\n",
              "    </tr>\n",
              "  </tbody>\n",
              "</table>\n",
              "</div>"
            ],
            "text/plain": [
              "    Gender imbalance  Compounding factor\n",
              "0           0.671429            1.031178\n",
              "1           0.352324            1.061956\n",
              "2           0.630146            1.006303\n",
              "3           0.707692            0.910467\n",
              "4           0.259259            0.873271\n",
              "5           0.292566            1.008417\n",
              "6           0.589450            1.050526\n",
              "7          10.666667            1.411858\n",
              "8           0.134328            0.698210\n",
              "9           0.597484            0.999068\n",
              "10          3.583333            1.102679\n",
              "11          0.942122            1.021455\n",
              "12          3.677419            2.361039\n",
              "13          6.580952            1.353093\n",
              "14          0.901639            0.989566\n",
              "15          4.800000            1.532710\n",
              "16          0.275000            0.528182\n",
              "17          1.055556            1.116541\n",
              "18          0.615705            1.008688\n",
              "19          0.848485            1.080639\n",
              "20          0.961905            1.057947\n",
              "21          0.781955            0.981997\n",
              "22          1.536680            1.066519\n",
              "23          0.142857            0.761538\n",
              "24          0.169133            1.036006\n",
              "25          0.189831            0.777091\n",
              "26          1.417758            1.257223\n",
              "27          3.400000            0.928395"
            ]
          },
          "metadata": {
            "tags": []
          }
        }
      ]
    },
    {
      "cell_type": "markdown",
      "metadata": {
        "colab_type": "text",
        "id": "gUjvdj9F95hF"
      },
      "source": [
        "## Proportion of compounding factors pulled towards 1 after scrubbing"
      ]
    },
    {
      "cell_type": "code",
      "metadata": {
        "colab_type": "code",
        "id": "rWsm1s2B94w0",
        "colab": {
          "base_uri": "https://localhost:8080/",
          "height": 68
        },
        "outputId": "5aab5b5b-219c-4b69-937e-bfd40ce90d3d"
      },
      "source": [
        "# percentage of compounding factors which are pulled towards 1\n",
        "dif = comp_fact_f_scrub-comp_fact_f\n",
        "pos=0\n",
        "neg=0\n",
        "for i in range(len(comp_fact_f)):\n",
        "  if comp_fact_f[i]>1 and dif[i]<0:\n",
        "    pos = pos+1\n",
        "  if comp_fact_f[i]<1 and dif[i]>0:\n",
        "    neg = neg+1\n",
        "print('total: ', np.round(np.sum(pos+neg)/len(comp_fact_f), decimals=3))\n",
        "print('with compounding factor > 1: ', np.round(pos/len(comp_fact_f), decimals=3))\n",
        "print('with compounding factor < 1: ', np.round(neg/len(comp_fact_f), decimals=3))"
      ],
      "execution_count": null,
      "outputs": [
        {
          "output_type": "stream",
          "text": [
            "total:  0.607\n",
            "with compounding factor > 1:  0.286\n",
            "with compounding factor < 1:  0.321\n"
          ],
          "name": "stdout"
        }
      ]
    }
  ]
}
