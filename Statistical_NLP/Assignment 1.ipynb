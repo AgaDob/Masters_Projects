{
  "nbformat": 4,
  "nbformat_minor": 0,
  "metadata": {
    "colab": {
      "name": "agnieszka_dobrowolska_16034489",
      "provenance": [],
      "collapsed_sections": []
    },
    "kernelspec": {
      "name": "python3",
      "display_name": "Python 3"
    }
  },
  "cells": [
    {
      "cell_type": "markdown",
      "metadata": {
        "id": "f0DNj4zyIGKa",
        "colab_type": "text"
      },
      "source": [
        "# Assignment 1\n",
        "The first assignment has two parts. The first part concerns PyTorch and the second part is about feature engineering for a basic NLP task.\n",
        "## Instructions\n",
        "\n",
        "1.   Make a copy of this notebook \n",
        "  - Click on \"File -> Save a copy in Drive\" and open it in Colab afterwards\n",
        "  - Alternatively, download the notebook and work on it on your local machine. However, keep in mind that you will have to make sure it still runs on Colab afterwards and does not depend on any packages that you installed locally\n",
        "2.   Rename your notebook to **surname_forename_studentnumber.ipynb**\n",
        "  - Make sure to exactly follow this naming scheme (don't replace `_` with `-` or something like that)\n",
        "  - **Failure to comply with this scheme results in -10 points!**\n",
        "3.   For math exercises, use $\\LaTeX$  to typset your answer\n",
        "4.   For coding exercises, insert your code at `# TODO` statements\n",
        "5.   For multiple-choice questions, choose an answer from the drop-down list\n",
        "6.   Before submitting your notebook, **make sure that it runs without errors when executed from start to end on Colab**\n",
        "  - To check this, reload your notebook and the Python kernel, and run the notebook from the first to the last cell\n",
        "  - **If your notebook throws any errors, you will be penalized by -25 points in addition to any penalities from incorrect answers**\n",
        "  - We are not going to fix any errors (no matter how small) to make your code work\n",
        "7.  Download your notebook and submit it on Moodle\n",
        "  - Click on \"File -> Download .ipynb\"\n",
        "  \n",
        "\n"
      ]
    },
    {
      "cell_type": "markdown",
      "metadata": {
        "id": "qvB4c3R4II91",
        "colab_type": "text"
      },
      "source": [
        "## Notebook Setup [don't change!]"
      ]
    },
    {
      "cell_type": "code",
      "metadata": {
        "id": "d0w7l3EpExU6",
        "colab_type": "code",
        "outputId": "6033569d-822b-479a-dfc7-cf659ea4c4e9",
        "colab": {
          "base_uri": "https://localhost:8080/",
          "height": 36
        }
      },
      "source": [
        "%%shell\n",
        "pip install torch"
      ],
      "execution_count": 1,
      "outputs": [
        {
          "output_type": "stream",
          "text": [
            "Requirement already satisfied: torch in /usr/local/lib/python3.6/dist-packages (1.4.0)\n"
          ],
          "name": "stdout"
        },
        {
          "output_type": "execute_result",
          "data": {
            "text/plain": [
              ""
            ]
          },
          "metadata": {
            "tags": []
          },
          "execution_count": 1
        }
      ]
    },
    {
      "cell_type": "code",
      "metadata": {
        "id": "Pqig2nu9Eztp",
        "colab_type": "code",
        "outputId": "d3221c9c-bb56-42eb-fe27-8ae5abcf75fd",
        "colab": {
          "base_uri": "https://localhost:8080/",
          "height": 36
        }
      },
      "source": [
        "import torch\n",
        "from torch import nn\n",
        "torch.__version__ "
      ],
      "execution_count": 2,
      "outputs": [
        {
          "output_type": "execute_result",
          "data": {
            "text/plain": [
              "'1.4.0'"
            ]
          },
          "metadata": {
            "tags": []
          },
          "execution_count": 2
        }
      ]
    },
    {
      "cell_type": "markdown",
      "metadata": {
        "id": "hPDNBpMBGhsj",
        "colab_type": "text"
      },
      "source": [
        "# Part I: PyTorch [50 points]"
      ]
    },
    {
      "cell_type": "markdown",
      "metadata": {
        "id": "ucOi5QgPG3Jg",
        "colab_type": "text"
      },
      "source": [
        "## Linear Algebra [30 points]"
      ]
    },
    {
      "cell_type": "markdown",
      "metadata": {
        "id": "FCJ4t0Mk0jlz",
        "colab_type": "text"
      },
      "source": [
        "### PyTorch Tensors [5 points]"
      ]
    },
    {
      "cell_type": "markdown",
      "metadata": {
        "id": "gZNaDhZHKYFL",
        "colab_type": "text"
      },
      "source": [
        "#### Construct Scaled Identity Matrix [1 point]\n",
        "Given $n \\in \\mathbb{N}$ and $c \\in \\mathbb{R}$, construct a matrix $\\mathbf{X} \\in \\mathbb{R}^{n\\ \\times\\ n}$ where $\\mathbf{X}$ has $c$ on its diagonal and zeros everywhere else."
      ]
    },
    {
      "cell_type": "code",
      "metadata": {
        "id": "W_9XRLH_lPcJ",
        "colab_type": "code",
        "colab": {}
      },
      "source": [
        "# imports\n",
        "import torch\n",
        "from torch import tensor"
      ],
      "execution_count": 0,
      "outputs": []
    },
    {
      "cell_type": "code",
      "metadata": {
        "id": "xwYNaam7L0Aw",
        "colab_type": "code",
        "outputId": "b98a25a7-f30d-4ce5-a890-267a1b72c1be",
        "colab": {
          "base_uri": "https://localhost:8080/",
          "height": 91
        }
      },
      "source": [
        "def construct_scaled_identity(n, c):\n",
        "  # TODO\n",
        "  scaled_mat = c * torch.eye(n,n)\n",
        "  return scaled_mat\n",
        "\n",
        "construct_scaled_identity(4, 3.2)"
      ],
      "execution_count": 4,
      "outputs": [
        {
          "output_type": "execute_result",
          "data": {
            "text/plain": [
              "tensor([[3.2000, 0.0000, 0.0000, 0.0000],\n",
              "        [0.0000, 3.2000, 0.0000, 0.0000],\n",
              "        [0.0000, 0.0000, 3.2000, 0.0000],\n",
              "        [0.0000, 0.0000, 0.0000, 3.2000]])"
            ]
          },
          "metadata": {
            "tags": []
          },
          "execution_count": 4
        }
      ]
    },
    {
      "cell_type": "markdown",
      "metadata": {
        "id": "0LN669ufJMsq",
        "colab_type": "text"
      },
      "source": [
        "#### Mean Diagonal [1 point]\n",
        "Given a square matrix $\\mathbf{X}\\in\\mathbb{R}^{n\\ \\times\\ n}$, return the mean of its diagonal."
      ]
    },
    {
      "cell_type": "code",
      "metadata": {
        "id": "9Cqjyj6rJ6Pg",
        "colab_type": "code",
        "outputId": "173c90bd-01ba-463e-f82f-8af66d27e242",
        "colab": {
          "base_uri": "https://localhost:8080/",
          "height": 36
        }
      },
      "source": [
        "def mean_diagonal(x):\n",
        "  n = x.shape[0]\n",
        "  diag = torch.einsum('ii -> ', x)\n",
        "  \n",
        "  return diag/n\n",
        "\n",
        "x = torch.arange(0, 16, dtype=torch.float).view(4, 4)\n",
        "mean_diagonal(x)"
      ],
      "execution_count": 5,
      "outputs": [
        {
          "output_type": "execute_result",
          "data": {
            "text/plain": [
              "tensor(7.5000)"
            ]
          },
          "metadata": {
            "tags": []
          },
          "execution_count": 5
        }
      ]
    },
    {
      "cell_type": "markdown",
      "metadata": {
        "id": "Yv9v5j0AMfpO",
        "colab_type": "text"
      },
      "source": [
        "#### Indexing [1 point]\n",
        "Given a matrix $\\mathbf{X}\\in\\mathbb{R}^{n\\ \\times\\ m}$ and $i,j \\in \\mathbb{N}$, return the submatrix $\\mathbf{Y}\\in\\mathbb{R}^{i\\ \\times\\ j}$ of the last i rows and last j columns of $\\mathbf{X}$ (i.e. the bottom right submatrix of the given size). You can assume that $i \\leq n$ and $j \\leq m$."
      ]
    },
    {
      "cell_type": "code",
      "metadata": {
        "id": "DxXTcoO6Nj_n",
        "colab_type": "code",
        "outputId": "298080d6-fea4-47ee-9ab3-0f689b18f7e1",
        "colab": {
          "base_uri": "https://localhost:8080/",
          "height": 54
        }
      },
      "source": [
        "def bottom_right_matrix(x, i, j):\n",
        "  # TODO\n",
        "  y = x[-i:, -j:]\n",
        "  return y\n",
        "\n",
        "x = torch.arange(0, 12).view(3, 4)\n",
        "bottom_right_matrix(x, 2, 2)"
      ],
      "execution_count": 6,
      "outputs": [
        {
          "output_type": "execute_result",
          "data": {
            "text/plain": [
              "tensor([[ 6,  7],\n",
              "        [10, 11]])"
            ]
          },
          "metadata": {
            "tags": []
          },
          "execution_count": 6
        }
      ]
    },
    {
      "cell_type": "markdown",
      "metadata": {
        "id": "QWooDl4O0ooy",
        "colab_type": "text"
      },
      "source": [
        "#### Transpose Sum [2 points]\n",
        "Given a tensor $\\mathcal{X}\\in\\mathbb{R}^{i\\ \\times\\ j\\ \\times\\ k}$, return a transposed tensor $\\mathcal{y}\\in\\mathbb{R}^{j\\ \\times\\ i}$ whose values in the third dimension are summed up."
      ]
    },
    {
      "cell_type": "code",
      "metadata": {
        "id": "h_o8MrXj0nQu",
        "colab_type": "code",
        "outputId": "fc4a50bb-a6d7-4000-d6fc-0fe58190fa8f",
        "colab": {
          "base_uri": "https://localhost:8080/",
          "height": 73
        }
      },
      "source": [
        "def transpose_sum(x):\n",
        "  trans_sum = torch.einsum('ijk -> ji', x)\n",
        "  \n",
        "  return trans_sum\n",
        "\n",
        "x = torch.arange(0, 12).view(2, 3, 2)\n",
        "transpose_sum(x)"
      ],
      "execution_count": 7,
      "outputs": [
        {
          "output_type": "execute_result",
          "data": {
            "text/plain": [
              "tensor([[ 1, 13],\n",
              "        [ 5, 17],\n",
              "        [ 9, 21]])"
            ]
          },
          "metadata": {
            "tags": []
          },
          "execution_count": 7
        }
      ]
    },
    {
      "cell_type": "markdown",
      "metadata": {
        "id": "nhuGQ1I_klmv",
        "colab_type": "text"
      },
      "source": [
        "### Matrix-vector Multiplication [10 points]"
      ]
    },
    {
      "cell_type": "markdown",
      "metadata": {
        "id": "kJ7YPXIrIpOg",
        "colab_type": "text"
      },
      "source": [
        "Implement five unique ways for multiplying a matrix A with a vector b. **Each PyTorch function is allowed to be used in only one of the five implementations**. For instance, if you use `unsqueeze` in one of the methods, you are not allowed to use it for the other five implementations. Furthermore, functions in `torch` and in `torch.Tensor` are treated as the same function (i.e. using `torch.add(x, y)`, `x.add(y)` and `x + y` are all treated as the same function and hence are not allowed to be used in more than one implementation). Your code needs to be applicable to any matrix $A \\in \\mathbb{R}^{n\\ \\times\\ m }$ and vector $b\\in\\mathbb{R}^m$."
      ]
    },
    {
      "cell_type": "code",
      "metadata": {
        "id": "9FPwXxLEIdPL",
        "colab_type": "code",
        "colab": {}
      },
      "source": [
        "def matrixvector1(A, b):  \n",
        "  # using einsum\n",
        "  mat = torch.einsum('ij, j -> i',A ,b)\n",
        "  return mat\n",
        "\n",
        "def matrixvector2(A, b):\n",
        "  mat = (A*b).sum(axis=1)\n",
        "  return mat\n",
        "\n",
        "def matrixvector3(A, b):\n",
        "  mat = torch.mv(A, b)\n",
        "  return mat\n",
        "\n",
        "def matrixvector4(A, b):\n",
        "  mat = torch.matmul(A, b)\n",
        "  return mat\n",
        "\n",
        "def matrixvector5(A, b):\n",
        "  mat = A @ b\n",
        "  return mat"
      ],
      "execution_count": 0,
      "outputs": []
    },
    {
      "cell_type": "markdown",
      "metadata": {
        "id": "qG2Uk7oRkqeO",
        "colab_type": "text"
      },
      "source": [
        "### Backprop [15 points]"
      ]
    },
    {
      "cell_type": "markdown",
      "metadata": {
        "id": "y-AL4Dl8xJF8",
        "colab_type": "text"
      },
      "source": [
        "#### Forward [2 points]\n",
        "Implement $\\mathbf{y}\\odot\\text{tanh}\\left(\\mathbf{W}\\mathbf{x}+\\mathbf{b}\\right)$ in PyTorch without using a linear layer implementation (i.e. do the matrix-vector mulitplication and addition of a bias term yourself). Note that we are not looking for a batched implementation, so assume $\\mathbf{y},\\mathbf{b} \\in \\mathbb{R}^n, \\mathbf{x}\\in\\mathbb{R}^m$ and $\\mathbf{W}\\in\\mathbb{R}^{n\\ \\times\\ m}$\n",
        "\n"
      ]
    },
    {
      "cell_type": "code",
      "metadata": {
        "id": "mcCqnNPtv0nu",
        "colab_type": "code",
        "colab": {}
      },
      "source": [
        "def fw(y, W, x, b):\n",
        "  # TODO\n",
        "\n",
        "  # ensure types consistent\n",
        "  y = y.type(dtype=torch.float)\n",
        "  b = b.type(dtype=torch.float)\n",
        "  x = x.type(dtype=torch.float)\n",
        "  W = W.type(dtype=torch.float)\n",
        "\n",
        "  prod = y * torch.tanh(torch.matmul(W, x) + b) \n",
        "\n",
        "  return prod"
      ],
      "execution_count": 0,
      "outputs": []
    },
    {
      "cell_type": "markdown",
      "metadata": {
        "id": "Xav_9KwaxkFL",
        "colab_type": "text"
      },
      "source": [
        "#### Gradient [10 points]\n",
        "Derive $\\mathbf{z}^\\top\\frac{\\partial}{\\partial \\mathbf{x}}\\left[\\mathbf{y}\\odot\\text{tanh}\\left(\\mathbf{W}\\mathbf{x}+\\mathbf{b}\\right)\\right]$ analytically. Here $\\mathbf{z}$ is an _upstream (error) gradient_ and we are interested in calculating the _downstream gradient_ for $\\mathbf{x}$. Make sure to write down all intermediate steps and not just the final result. "
      ]
    },
    {
      "cell_type": "markdown",
      "metadata": {
        "id": "yn3Bu-y8y1Co",
        "colab_type": "text"
      },
      "source": [
        "\\begin{align}\n",
        "\\mathbf{z}^\\top\\frac{\\partial}{\\partial \\mathbf{x}}\\left[\\mathbf{y}\\odot\\text{tanh}\\left(\\mathbf{W}\\mathbf{x}+\\mathbf{b}\\right)\\right] \\\\\n",
        "= \\mathbf{z}^\\top[ \\text{tanh}\\left(\\mathbf{W}\\mathbf{x}+\\mathbf{b}\\right)  \\odot  (\\frac{\\partial}{\\partial \\mathbf{x}} \\mathbf{y} ) +  \\mathbf{y}\\odot( \\frac{\\partial}{\\partial \\mathbf{x}} \\text{tanh}\\left(\\mathbf{W}\\mathbf{x}+ \\mathbf{b}\\right) )] \\\\\n",
        "=  \\mathbf{z} \\odot \\mathbf{y}\\odot( \\frac{\\partial}{\\partial \\mathbf{x}} \\text{tanh}\\left(\\mathbf{W}\\mathbf{x}+ \\mathbf{b}\\right))  \\\\\n",
        "=  \\mathbf{z} \\odot \\mathbf{y} \\odot   ( 1 - \\text{tanh}^{2}\\left( \\mathbf{W}\\mathbf{x}+\\mathbf{b} \\right)) \\mathbf{W} \n",
        "\\end{align}\n"
      ]
    },
    {
      "cell_type": "markdown",
      "metadata": {
        "id": "by45qCyMxrBr",
        "colab_type": "text"
      },
      "source": [
        "#### Backward [3 points]\n",
        "Implement the calculation for $\\mathbf{z}^\\top\\frac{\\partial}{\\partial \\mathbf{x}}\\left[\\mathbf{y}\\odot\\text{tanh}\\left(\\mathbf{W}\\mathbf{x}+\\mathbf{b}\\right)\\right]$  in PyTorch (i.e. without using PyTorch Autograd's `.backward`) using your derivation above."
      ]
    },
    {
      "cell_type": "code",
      "metadata": {
        "id": "EqIFSUV7yd6m",
        "colab_type": "code",
        "colab": {}
      },
      "source": [
        "def bw(y, W, x, b, grad_output):\n",
        "  \n",
        "  prod = grad_output * y *(1 - torch.tanh(torch.matmul(W, x) + b)**2) @ W\n",
        "  \n",
        "  return prod"
      ],
      "execution_count": 0,
      "outputs": []
    },
    {
      "cell_type": "markdown",
      "metadata": {
        "id": "QvBLkJKhG6Rg",
        "colab_type": "text"
      },
      "source": [
        "## SortBy PyTorch Autograd Function [10 points]"
      ]
    },
    {
      "cell_type": "markdown",
      "metadata": {
        "id": "ZsLf0kvGG9W4",
        "colab_type": "text"
      },
      "source": [
        "Implement a PyTorch Autograd function `SortBy` which takes two inputs:\n",
        "- `x` is a matrix of size `m x n` \n",
        "- `s` is an accompanying vector of size `m`\n",
        "\n",
        "`SortBy` should sort the position of the row vectors in `x` using the accompanying scores in `s` in ascending order. For example, given\n",
        "$$\n",
        "\\begin{align}\n",
        "\\mathbf{X} &= \\left[\\begin{matrix}\n",
        "0.2 & -0.4 & 0.3\\\\\n",
        "1.2 & 2.3 & -2.1\\\\\n",
        "0.1 & -0.1 & 2\n",
        "\\end{matrix}\\right]\n",
        "&\\mathbf{s} &=\\left[\\begin{matrix}\n",
        "0.2\\\\\n",
        "-0.1\\\\\n",
        "3\n",
        "\\end{matrix}\\right]\n",
        "\\end{align}\n",
        "$$ the forward pass of `SortBy` should return\n",
        "$$\n",
        "\\mathbf{Y} = \\left[\\begin{matrix}\n",
        "1.2 & 2.3 & -2.1\\\\\n",
        "0.2 & -0.4 & 0.3\\\\\n",
        "0.1 & -0.1 & 2\n",
        "\\end{matrix}\\right]\n",
        "$$.\n",
        "\n",
        "Furthermore, given an upstream gradient `grad_output`  (i.e. a matrix of the same size as X), the backward pass of `SortBy` should calculate the gradient of `x`, effectively rerouting the gradient to the original position of the vectors before sorting. For example, if the first row vector of the upstream gradient  in our example above is a vector $\\mathbf{z}$, the gradient of `x` would have $\\mathbf{z}$ as its second row vector.\n",
        "\n",
        "Note that, `SortBy` will only be differentiable w.r.t. to x, and is not be differentiable w.r.t. the sorting procedure to provie a gradient for `s`. **You are not allowed to use any Python loops in your implementation. If you use Python loops for your solution, we will only give you half of the points!**\n",
        "\n",
        "Hints:\n",
        "- You are allowed to use `torch.sort` in your implementation of the forward pass.\n",
        "- Similarly to the example we had in the lecture, you can use the context `ctx` to save tensors on the forward pass that you might need to reuse on the backward pass."
      ]
    },
    {
      "cell_type": "code",
      "metadata": {
        "id": "Q-YgSz5uQI_Q",
        "colab_type": "code",
        "colab": {}
      },
      "source": [
        "from torch.autograd import Function\n",
        "\n",
        "class SortBy(Function): \n",
        "  @staticmethod\n",
        "  def forward(ctx, x, s):\n",
        "    s_sorted, indx = torch.sort(s)\n",
        "    ctx.save_for_backward(indx)\n",
        "    X_sorted = x[indx]\n",
        "\n",
        "    return X_sorted\n",
        "  \n",
        "  @staticmethod\n",
        "  def backward(ctx, grad_output):\n",
        "    indx, = ctx.saved_tensors \n",
        "    x_grad = grad_output[indx]\n",
        "\n",
        "    return x_grad, None"
      ],
      "execution_count": 0,
      "outputs": []
    },
    {
      "cell_type": "markdown",
      "metadata": {
        "id": "a_BF7G3UHFcp",
        "colab_type": "text"
      },
      "source": [
        "## Multiple Choice Quiz [10 points]\n",
        "\n",
        "Answer the following questions by selecting the correct most specific answer (or `None` in case all answers are wrong).\n",
        "\n",
        "1. Which of the following operations cannot be calculated using `@`?\n",
        "2. What is gradient checking for?\n",
        "3. Why don't we use the finite differences method of gradient checking to calculate gradients instead of using backpropagation?\n",
        "4. Which of the following operations cannot be expressed as a single einsum string?\n",
        "5. When should you prefer using `view` instead of `reshape`?\n",
        "6. Which of the following statements is true if you construct a PyTorch tensor from a NumPy array using `torch.from_numpy`?\n",
        "7. Which one is a sufficient condition for being able to broadcast an operation between two tensors?\n",
        "8. What is the difference between a torch.Tensor and a torch.nn.Parameter?\n",
        "9. Given a convex loss function and a sufficiently small learning rate, stochastic gradient descent is guaranteed to?\n",
        "10. Given a non-convex loss function and a very large learning rate, stochastic gradient descent is guaranteed to?"
      ]
    },
    {
      "cell_type": "code",
      "metadata": {
        "id": "cWbew_PsFG5u",
        "colab_type": "code",
        "cellView": "both",
        "colab": {}
      },
      "source": [
        "#@title Answers { run: \"auto\" }\n",
        "Q1 = \"None of the above\" #@param [\"Matrix-matrix multiplication\", \"Matrix-vector multiplication\", \"Vector-vector multiplication\", \"Tensor-matrix multiplication\", \"Tensor-vector multiplication\", \"None of the above\"]\n",
        "Q2 = \"It tests whether the forward pass of a function is consistent with the backward pass\" #@param [\"It tests whether the forward pass of a function is consistent with the backward pass\", \"It is used at runtime to check for numerical instabilities in the backward pass\", \"It tests wether the function and its gradient have been implemented correctly\", \"It tests whether the norm of the gradients of a function are bounded\", \"None of the above\"]\n",
        "Q3 = \"It would be too slow\" #@param [\"It cannot be used to approximate the gradient accurately enough\", \"It can only be used to calculate the gradient of single functions and not for chained functions which are commonly used in deep learning models\", \"It would be too slow\", \"None of the above\"]\n",
        "Q4 = \"None of the above\" #@param [\"The transpose of an order-three tensor\", \"The sum of the diagonal of a square matrix\", \"The outer product of two matrices\", \"None of the above\"]\n",
        "Q5 = \"When the tensor is contiguous\" #@param [\"When the tensor is non-contiguous\", \"When the tensor is contiguous\", \"None of the above\"]\n",
        "Q6 = \"They point to the same memory and altering one will change the other\" #@param [\"Gradients can be calculated using both, the PyTorch tensor and the NumPy array\", \"They point to the same memory and altering one will change the other\", \"The PyTorch tensor cannot be mapped back to a NumPy array\", \"None of the above\"]\n",
        "Q7 = \"None of the above\" #@param [\"One of the two tensors is a scalar\", \"One of the tensors has a singleton dimension\", \"The two tensors have the same number of dimensions\", \"None of the above\"]\n",
        "Q8 = \"Parameters get associated with a model when assigned to a member of the model's modules\" #@param [\"Parameters are mutable and tensors are not\", \"Parameters get associated with a model when assigned to a member of the model's modules\", \"Parameters need to be flattened into vectors whereas tensors can be high-dimensional\", \"None of the above\"]\n",
        "Q9 = \"All of the above\" #@param [\"Find a local optimum\", \"Find the global optimum\", \"All of the above\", \"None of the above\"]\n",
        "Q10 = \"None of the above\" #@param [\"Find a local optimum\", \"Find the global optimum\", \"Converge to a saddle point\", \"All of the above\", \"None of the above\"]"
      ],
      "execution_count": 0,
      "outputs": []
    },
    {
      "cell_type": "markdown",
      "metadata": {
        "id": "YZwY626nGlbb",
        "colab_type": "text"
      },
      "source": [
        "# Part II: Feature Engineering [50 points]\n",
        "\n",
        "In this section you will develop a logistic regression model for sentiment prediction.  \n",
        "\n",
        "## Setup \n",
        "First we download the [sentence polarity dataset v1.0](http://www.cs.cornell.edu/people/pabo/movie-review-data/rt-polaritydata.tar.gz) from this [website](http://www.cs.cornell.edu/people/pabo/movie-review-data/) using a few shell commands. "
      ]
    },
    {
      "cell_type": "code",
      "metadata": {
        "id": "qwR7cadCuLD3",
        "colab_type": "code",
        "outputId": "63bb60d0-042a-4295-cb14-65fcd254740a",
        "colab": {
          "base_uri": "https://localhost:8080/",
          "height": 295
        }
      },
      "source": [
        "%%shell\n",
        "wget http://www.cs.cornell.edu/People/pabo/movie-review-data/rt-polaritydata.tar.gz\n",
        "tar -xzf rt-polaritydata.tar.gz\n",
        "mv rt-polaritydata.README.1.0.txt rt-polaritydata\n",
        "cd rt-polaritydata\n",
        "iconv -f cp1252 -t utf-8 < rt-polarity.neg > rt-polarity.neg.utf8\n",
        "iconv -f cp1252 -t utf-8 < rt-polarity.pos > rt-polarity.pos.utf8\n",
        "perl -ne 'print \"neg\\t\" . $_' <  rt-polarity.neg.utf8 > rt-polarity.neg.utf8.tsv\n",
        "perl -ne 'print \"pos\\t\" . $_' <  rt-polarity.pos.utf8 > rt-polarity.pos.utf8.tsv\n",
        "cat rt-polarity.neg.utf8.tsv rt-polarity.pos.utf8.tsv > rt-polarity.utf8.tsv"
      ],
      "execution_count": 13,
      "outputs": [
        {
          "output_type": "stream",
          "text": [
            "--2020-02-07 12:42:17--  http://www.cs.cornell.edu/People/pabo/movie-review-data/rt-polaritydata.tar.gz\n",
            "Resolving www.cs.cornell.edu (www.cs.cornell.edu)... 132.236.207.20\n",
            "Connecting to www.cs.cornell.edu (www.cs.cornell.edu)|132.236.207.20|:80... connected.\n",
            "HTTP request sent, awaiting response... 301 Moved Permanently\n",
            "Location: http://www.cs.cornell.edu/people/pabo/movie-review-data/rt-polaritydata.tar.gz [following]\n",
            "--2020-02-07 12:42:17--  http://www.cs.cornell.edu/people/pabo/movie-review-data/rt-polaritydata.tar.gz\n",
            "Reusing existing connection to www.cs.cornell.edu:80.\n",
            "HTTP request sent, awaiting response... 200 OK\n",
            "Length: 487770 (476K) [application/x-gzip]\n",
            "Saving to: ‘rt-polaritydata.tar.gz.1’\n",
            "\n",
            "\rrt-polaritydata.tar   0%[                    ]       0  --.-KB/s               \rrt-polaritydata.tar  39%[======>             ] 189.45K   932KB/s               \rrt-polaritydata.tar 100%[===================>] 476.34K  1.33MB/s    in 0.3s    \n",
            "\n",
            "2020-02-07 12:42:18 (1.33 MB/s) - ‘rt-polaritydata.tar.gz.1’ saved [487770/487770]\n",
            "\n"
          ],
          "name": "stdout"
        },
        {
          "output_type": "execute_result",
          "data": {
            "text/plain": [
              ""
            ]
          },
          "metadata": {
            "tags": []
          },
          "execution_count": 13
        }
      ]
    },
    {
      "cell_type": "markdown",
      "metadata": {
        "id": "h2MTMQSMWPr9",
        "colab_type": "text"
      },
      "source": [
        "Now we install [AllenNLP](https://allennlp.org/)."
      ]
    },
    {
      "cell_type": "code",
      "metadata": {
        "id": "lf64vki1zt0k",
        "colab_type": "code",
        "outputId": "04f2dee9-715e-4fdb-b530-433e1c078fb8",
        "colab": {
          "base_uri": "https://localhost:8080/",
          "height": 1000
        }
      },
      "source": [
        "%%shell\n",
        "pip install allennlp"
      ],
      "execution_count": 14,
      "outputs": [
        {
          "output_type": "stream",
          "text": [
            "Requirement already satisfied: allennlp in /usr/local/lib/python3.6/dist-packages (0.9.0)\n",
            "Requirement already satisfied: nltk in /usr/local/lib/python3.6/dist-packages (from allennlp) (3.2.5)\n",
            "Requirement already satisfied: scikit-learn in /usr/local/lib/python3.6/dist-packages (from allennlp) (0.22.1)\n",
            "Requirement already satisfied: flaky in /usr/local/lib/python3.6/dist-packages (from allennlp) (3.6.1)\n",
            "Requirement already satisfied: boto3 in /usr/local/lib/python3.6/dist-packages (from allennlp) (1.11.9)\n",
            "Requirement already satisfied: torch>=1.2.0 in /usr/local/lib/python3.6/dist-packages (from allennlp) (1.4.0)\n",
            "Requirement already satisfied: numpy in /usr/local/lib/python3.6/dist-packages (from allennlp) (1.17.5)\n",
            "Requirement already satisfied: tqdm>=4.19 in /usr/local/lib/python3.6/dist-packages (from allennlp) (4.28.1)\n",
            "Requirement already satisfied: flask>=1.0.2 in /usr/local/lib/python3.6/dist-packages (from allennlp) (1.1.1)\n",
            "Requirement already satisfied: pytorch-transformers==1.1.0 in /usr/local/lib/python3.6/dist-packages (from allennlp) (1.1.0)\n",
            "Requirement already satisfied: scipy in /usr/local/lib/python3.6/dist-packages (from allennlp) (1.4.1)\n",
            "Requirement already satisfied: matplotlib>=2.2.3 in /usr/local/lib/python3.6/dist-packages (from allennlp) (3.1.2)\n",
            "Requirement already satisfied: editdistance in /usr/local/lib/python3.6/dist-packages (from allennlp) (0.5.3)\n",
            "Requirement already satisfied: parsimonious>=0.8.0 in /usr/local/lib/python3.6/dist-packages (from allennlp) (0.8.1)\n",
            "Requirement already satisfied: sqlparse>=0.2.4 in /usr/local/lib/python3.6/dist-packages (from allennlp) (0.3.0)\n",
            "Requirement already satisfied: conllu==1.3.1 in /usr/local/lib/python3.6/dist-packages (from allennlp) (1.3.1)\n",
            "Requirement already satisfied: spacy<2.2,>=2.1.0 in /usr/local/lib/python3.6/dist-packages (from allennlp) (2.1.9)\n",
            "Requirement already satisfied: requests>=2.18 in /usr/local/lib/python3.6/dist-packages (from allennlp) (2.21.0)\n",
            "Requirement already satisfied: h5py in /usr/local/lib/python3.6/dist-packages (from allennlp) (2.8.0)\n",
            "Requirement already satisfied: pytest in /usr/local/lib/python3.6/dist-packages (from allennlp) (3.6.4)\n",
            "Requirement already satisfied: pytorch-pretrained-bert>=0.6.0 in /usr/local/lib/python3.6/dist-packages (from allennlp) (0.6.2)\n",
            "Requirement already satisfied: flask-cors>=3.0.7 in /usr/local/lib/python3.6/dist-packages (from allennlp) (3.0.8)\n",
            "Requirement already satisfied: pytz>=2017.3 in /usr/local/lib/python3.6/dist-packages (from allennlp) (2018.9)\n",
            "Requirement already satisfied: numpydoc>=0.8.0 in /usr/local/lib/python3.6/dist-packages (from allennlp) (0.9.2)\n",
            "Requirement already satisfied: ftfy in /usr/local/lib/python3.6/dist-packages (from allennlp) (5.6)\n",
            "Requirement already satisfied: responses>=0.7 in /usr/local/lib/python3.6/dist-packages (from allennlp) (0.10.9)\n",
            "Requirement already satisfied: overrides in /usr/local/lib/python3.6/dist-packages (from allennlp) (2.8.0)\n",
            "Requirement already satisfied: word2number>=1.1 in /usr/local/lib/python3.6/dist-packages (from allennlp) (1.1)\n",
            "Requirement already satisfied: gevent>=1.3.6 in /usr/local/lib/python3.6/dist-packages (from allennlp) (1.4.0)\n",
            "Requirement already satisfied: unidecode in /usr/local/lib/python3.6/dist-packages (from allennlp) (1.1.1)\n",
            "Requirement already satisfied: tensorboardX>=1.2 in /usr/local/lib/python3.6/dist-packages (from allennlp) (2.0)\n",
            "Requirement already satisfied: jsonpickle in /usr/local/lib/python3.6/dist-packages (from allennlp) (1.2)\n",
            "Requirement already satisfied: jsonnet>=0.10.0; sys_platform != \"win32\" in /usr/local/lib/python3.6/dist-packages (from allennlp) (0.14.0)\n",
            "Requirement already satisfied: six in /usr/local/lib/python3.6/dist-packages (from nltk->allennlp) (1.12.0)\n",
            "Requirement already satisfied: joblib>=0.11 in /usr/local/lib/python3.6/dist-packages (from scikit-learn->allennlp) (0.14.1)\n",
            "Requirement already satisfied: botocore<1.15.0,>=1.14.9 in /usr/local/lib/python3.6/dist-packages (from boto3->allennlp) (1.14.9)\n",
            "Requirement already satisfied: s3transfer<0.4.0,>=0.3.0 in /usr/local/lib/python3.6/dist-packages (from boto3->allennlp) (0.3.2)\n",
            "Requirement already satisfied: jmespath<1.0.0,>=0.7.1 in /usr/local/lib/python3.6/dist-packages (from boto3->allennlp) (0.9.4)\n",
            "Requirement already satisfied: itsdangerous>=0.24 in /usr/local/lib/python3.6/dist-packages (from flask>=1.0.2->allennlp) (1.1.0)\n",
            "Requirement already satisfied: Werkzeug>=0.15 in /usr/local/lib/python3.6/dist-packages (from flask>=1.0.2->allennlp) (0.16.1)\n",
            "Requirement already satisfied: click>=5.1 in /usr/local/lib/python3.6/dist-packages (from flask>=1.0.2->allennlp) (7.0)\n",
            "Requirement already satisfied: Jinja2>=2.10.1 in /usr/local/lib/python3.6/dist-packages (from flask>=1.0.2->allennlp) (2.11.1)\n",
            "Requirement already satisfied: regex in /usr/local/lib/python3.6/dist-packages (from pytorch-transformers==1.1.0->allennlp) (2019.12.20)\n",
            "Requirement already satisfied: sentencepiece in /usr/local/lib/python3.6/dist-packages (from pytorch-transformers==1.1.0->allennlp) (0.1.85)\n",
            "Requirement already satisfied: kiwisolver>=1.0.1 in /usr/local/lib/python3.6/dist-packages (from matplotlib>=2.2.3->allennlp) (1.1.0)\n",
            "Requirement already satisfied: python-dateutil>=2.1 in /usr/local/lib/python3.6/dist-packages (from matplotlib>=2.2.3->allennlp) (2.6.1)\n",
            "Requirement already satisfied: cycler>=0.10 in /usr/local/lib/python3.6/dist-packages (from matplotlib>=2.2.3->allennlp) (0.10.0)\n",
            "Requirement already satisfied: pyparsing!=2.0.4,!=2.1.2,!=2.1.6,>=2.0.1 in /usr/local/lib/python3.6/dist-packages (from matplotlib>=2.2.3->allennlp) (2.4.6)\n",
            "Requirement already satisfied: wasabi<1.1.0,>=0.2.0 in /usr/local/lib/python3.6/dist-packages (from spacy<2.2,>=2.1.0->allennlp) (0.6.0)\n",
            "Requirement already satisfied: srsly<1.1.0,>=0.0.6 in /usr/local/lib/python3.6/dist-packages (from spacy<2.2,>=2.1.0->allennlp) (1.0.1)\n",
            "Requirement already satisfied: thinc<7.1.0,>=7.0.8 in /usr/local/lib/python3.6/dist-packages (from spacy<2.2,>=2.1.0->allennlp) (7.0.8)\n",
            "Requirement already satisfied: preshed<2.1.0,>=2.0.1 in /usr/local/lib/python3.6/dist-packages (from spacy<2.2,>=2.1.0->allennlp) (2.0.1)\n",
            "Requirement already satisfied: murmurhash<1.1.0,>=0.28.0 in /usr/local/lib/python3.6/dist-packages (from spacy<2.2,>=2.1.0->allennlp) (1.0.2)\n",
            "Requirement already satisfied: plac<1.0.0,>=0.9.6 in /usr/local/lib/python3.6/dist-packages (from spacy<2.2,>=2.1.0->allennlp) (0.9.6)\n",
            "Requirement already satisfied: blis<0.3.0,>=0.2.2 in /usr/local/lib/python3.6/dist-packages (from spacy<2.2,>=2.1.0->allennlp) (0.2.4)\n",
            "Requirement already satisfied: cymem<2.1.0,>=2.0.2 in /usr/local/lib/python3.6/dist-packages (from spacy<2.2,>=2.1.0->allennlp) (2.0.3)\n",
            "Requirement already satisfied: urllib3<1.25,>=1.21.1 in /usr/local/lib/python3.6/dist-packages (from requests>=2.18->allennlp) (1.24.3)\n",
            "Requirement already satisfied: idna<2.9,>=2.5 in /usr/local/lib/python3.6/dist-packages (from requests>=2.18->allennlp) (2.8)\n",
            "Requirement already satisfied: chardet<3.1.0,>=3.0.2 in /usr/local/lib/python3.6/dist-packages (from requests>=2.18->allennlp) (3.0.4)\n",
            "Requirement already satisfied: certifi>=2017.4.17 in /usr/local/lib/python3.6/dist-packages (from requests>=2.18->allennlp) (2019.11.28)\n",
            "Requirement already satisfied: more-itertools>=4.0.0 in /usr/local/lib/python3.6/dist-packages (from pytest->allennlp) (8.2.0)\n",
            "Requirement already satisfied: py>=1.5.0 in /usr/local/lib/python3.6/dist-packages (from pytest->allennlp) (1.8.1)\n",
            "Requirement already satisfied: setuptools in /usr/local/lib/python3.6/dist-packages (from pytest->allennlp) (45.1.0)\n",
            "Requirement already satisfied: attrs>=17.4.0 in /usr/local/lib/python3.6/dist-packages (from pytest->allennlp) (19.3.0)\n",
            "Requirement already satisfied: atomicwrites>=1.0 in /usr/local/lib/python3.6/dist-packages (from pytest->allennlp) (1.3.0)\n",
            "Requirement already satisfied: pluggy<0.8,>=0.5 in /usr/local/lib/python3.6/dist-packages (from pytest->allennlp) (0.7.1)\n",
            "Requirement already satisfied: sphinx>=1.6.5 in /usr/local/lib/python3.6/dist-packages (from numpydoc>=0.8.0->allennlp) (1.8.5)\n",
            "Requirement already satisfied: wcwidth in /usr/local/lib/python3.6/dist-packages (from ftfy->allennlp) (0.1.8)\n",
            "Requirement already satisfied: greenlet>=0.4.14; platform_python_implementation == \"CPython\" in /usr/local/lib/python3.6/dist-packages (from gevent>=1.3.6->allennlp) (0.4.15)\n",
            "Requirement already satisfied: protobuf>=3.8.0 in /usr/local/lib/python3.6/dist-packages (from tensorboardX>=1.2->allennlp) (3.10.0)\n",
            "Requirement already satisfied: docutils<0.16,>=0.10 in /usr/local/lib/python3.6/dist-packages (from botocore<1.15.0,>=1.14.9->boto3->allennlp) (0.15.2)\n",
            "Requirement already satisfied: MarkupSafe>=0.23 in /usr/local/lib/python3.6/dist-packages (from Jinja2>=2.10.1->flask>=1.0.2->allennlp) (1.1.1)\n",
            "Requirement already satisfied: Pygments>=2.0 in /usr/local/lib/python3.6/dist-packages (from sphinx>=1.6.5->numpydoc>=0.8.0->allennlp) (2.1.3)\n",
            "Requirement already satisfied: babel!=2.0,>=1.3 in /usr/local/lib/python3.6/dist-packages (from sphinx>=1.6.5->numpydoc>=0.8.0->allennlp) (2.8.0)\n",
            "Requirement already satisfied: sphinxcontrib-websupport in /usr/local/lib/python3.6/dist-packages (from sphinx>=1.6.5->numpydoc>=0.8.0->allennlp) (1.1.2)\n",
            "Requirement already satisfied: imagesize in /usr/local/lib/python3.6/dist-packages (from sphinx>=1.6.5->numpydoc>=0.8.0->allennlp) (1.2.0)\n",
            "Requirement already satisfied: packaging in /usr/local/lib/python3.6/dist-packages (from sphinx>=1.6.5->numpydoc>=0.8.0->allennlp) (20.1)\n",
            "Requirement already satisfied: snowballstemmer>=1.1 in /usr/local/lib/python3.6/dist-packages (from sphinx>=1.6.5->numpydoc>=0.8.0->allennlp) (2.0.0)\n",
            "Requirement already satisfied: alabaster<0.8,>=0.7 in /usr/local/lib/python3.6/dist-packages (from sphinx>=1.6.5->numpydoc>=0.8.0->allennlp) (0.7.12)\n"
          ],
          "name": "stdout"
        },
        {
          "output_type": "execute_result",
          "data": {
            "text/plain": [
              ""
            ]
          },
          "metadata": {
            "tags": []
          },
          "execution_count": 14
        }
      ]
    },
    {
      "cell_type": "markdown",
      "metadata": {
        "id": "bDkhShc8WX9F",
        "colab_type": "text"
      },
      "source": [
        "Next we implement a AllenNLP data loader for this data. "
      ]
    },
    {
      "cell_type": "code",
      "metadata": {
        "id": "34_HDMys1sLg",
        "colab_type": "code",
        "colab": {}
      },
      "source": [
        "\n",
        "\n",
        "from typing import Iterator, List, Dict, Optional\n",
        "import torch\n",
        "import torch.optim as optim\n",
        "import numpy as np\n",
        "from allennlp.data import Instance\n",
        "from allennlp.data.fields import TextField, SequenceLabelField, LabelField\n",
        "from allennlp.data.dataset_readers import DatasetReader\n",
        "from allennlp.common.file_utils import cached_path\n",
        "from allennlp.data.token_indexers import TokenIndexer, SingleIdTokenIndexer\n",
        "from allennlp.data.tokenizers import Token\n",
        "from allennlp.data.vocabulary import Vocabulary\n",
        "from allennlp.models import Model\n",
        "from allennlp.modules.text_field_embedders import TextFieldEmbedder, BasicTextFieldEmbedder\n",
        "from allennlp.modules.token_embedders import Embedding\n",
        "from allennlp.modules.seq2seq_encoders import Seq2SeqEncoder, PytorchSeq2SeqWrapper\n",
        "from allennlp.nn.util import get_text_field_mask, sequence_cross_entropy_with_logits\n",
        "from allennlp.training.metrics import CategoricalAccuracy\n",
        "from allennlp.data.iterators import BucketIterator\n",
        "from allennlp.training.trainer import Trainer\n",
        "from allennlp.predictors import SentenceTaggerPredictor\n",
        "\n",
        "class PolarityDatasetReader(DatasetReader):\n",
        "    \"\"\"\n",
        "    DatasetReader for polarity data like \n",
        "\n",
        "        neg\\tI had better gone to Imperial\n",
        "    \"\"\"\n",
        "    def __init__(self, token_indexers: Dict[str, TokenIndexer] = None,\n",
        "                 tokenize_and_preprocess = lambda text: text.split(\" \")) -> None:\n",
        "        super().__init__(lazy=False)\n",
        "        self.token_indexers = token_indexers or {\"tokens\": SingleIdTokenIndexer()}\n",
        "        self.tokenize_and_preprocess = tokenize_and_preprocess\n",
        "\n",
        "    def text_to_instance(self, tokens: List[Token], label: Optional[str] = None) -> Instance:\n",
        "        sentence_field = TextField(tokens, self.token_indexers)\n",
        "        fields = {\"sentence\": sentence_field}\n",
        "\n",
        "        if label:\n",
        "            label_field = LabelField(label=label)\n",
        "            fields[\"label\"] = label_field\n",
        "\n",
        "        return Instance(fields)\n",
        "\n",
        "    def _tokenize_and_preprocess(text):\n",
        "        return text.split(\" \")\n",
        "\n",
        "    def _read(self, file_path: str) -> Iterator[Instance]:\n",
        "        with open(file_path) as f:\n",
        "            for line in f:\n",
        "                label, text = line.split(\"\\t\")\n",
        "                tokens = [Token(word) for word in self.tokenize_and_preprocess(text)]\n",
        "                yield self.text_to_instance(tokens, label)\n",
        "\n",
        "\n"
      ],
      "execution_count": 0,
      "outputs": []
    },
    {
      "cell_type": "markdown",
      "metadata": {
        "id": "isDjFO7LXYf-",
        "colab_type": "text"
      },
      "source": [
        "# Preprocessing [7pts]\n",
        "\n",
        "In order to fit our model, we will need to tokenize and preprocess the data. Write a dataset loader that preprocesses the data.\n",
        "\n",
        "Tokenization is an important field of NLP, and can make a large difference to downstream performance. Luckily fo us, the dataset has already been tokenized, so we just need to split the input text by whitespace to get the tokens. The tokenization is not perfect though. Your preprocessing function should should fix all instances where \"Mr.\" have been tokenized as two tokens to instances where \"Mr.\" is a single token.\n",
        "\n",
        "Implement the above by changing and possibly extending the code below."
      ]
    },
    {
      "cell_type": "code",
      "metadata": {
        "id": "3As4zBmSyZhW",
        "colab_type": "code",
        "outputId": "0ce624e4-1dd0-42cd-ad5e-7a57d8d4e988",
        "colab": {
          "base_uri": "https://localhost:8080/",
          "height": 93
        }
      },
      "source": [
        "def collapse_mr_dot(text):\n",
        "    \"\"\"\n",
        "    Args:\n",
        "      tokens: a list of tokens\n",
        "    \"\"\"\n",
        "    \n",
        "    toks = text.split(\" \")\n",
        "\n",
        "    for i, word in enumerate(toks):\n",
        "      if toks[i] == \"mr\" and toks[i+1]=='.':\n",
        "        toks[i] = \"mr.\"\n",
        "        toks.pop(i+1)\n",
        "     \n",
        "    result = toks \n",
        "    \n",
        "    return result\n",
        "\n",
        "torch.manual_seed(1)\n",
        "reader = PolarityDatasetReader(tokenize_and_preprocess=collapse_mr_dot)\n",
        "data_pre = reader.read(cached_path(\"rt-polaritydata/rt-polarity.utf8.tsv\"))\n",
        "rt_polarity_pre = data_pre\n",
        "for instance in data_pre:\n",
        "  if \"mr.\" in [t.text for t in instance['sentence']]:\n",
        "    print(instance['sentence'][:])\n",
        "    break"
      ],
      "execution_count": 16,
      "outputs": [
        {
          "output_type": "stream",
          "text": [
            "10662it [00:00, 13477.05it/s]"
          ],
          "name": "stderr"
        },
        {
          "output_type": "stream",
          "text": [
            "[as, is, often, the, case, with, ambitious, ,, eager, first-time, filmmakers, ,, mr., murray, ,, a, prolific, director, of, music, videos, ,, stuffs, his, debut, with, more, plot, than, it, can, comfortably, hold, ., \n",
            "]\n"
          ],
          "name": "stdout"
        },
        {
          "output_type": "stream",
          "text": [
            "\n"
          ],
          "name": "stderr"
        }
      ]
    },
    {
      "cell_type": "markdown",
      "metadata": {
        "id": "I-JYoGSCDjuj",
        "colab_type": "text"
      },
      "source": [
        "## Logistic Regression\n",
        "\n",
        "Below we provide a simple implementation of a model, that combined with the corresponding loss, amounts to logistic regression.  "
      ]
    },
    {
      "cell_type": "code",
      "metadata": {
        "id": "cBogFeKugF0v",
        "colab_type": "code",
        "colab": {}
      },
      "source": [
        "import torch\n",
        "import torch.nn as nn\n",
        "\n",
        "# Model\n",
        "class LogisticRegression(nn.Module):\n",
        "    \"\"\"\n",
        "    Simple Logistic Regression implementation based on torchtext input format.\n",
        "    \"\"\"\n",
        "    def __init__(self, num_features):\n",
        "        super(LogisticRegression, self).__init__()\n",
        "        self.weights = nn.Parameter(torch.normal(torch.zeros(num_features)), \n",
        "                                requires_grad=True)\n",
        "            \n",
        "    def forward(self, sentence):\n",
        "        \"\"\"\n",
        "        Args:\n",
        "          sentence: a dictionary of ...\n",
        "        \"\"\"\n",
        "        tokens = sentence['tokens']\n",
        "        active_tokens_mask = get_text_field_mask(sentence)\n",
        "        # retrieve weights and set those to zero that come from padding cells \n",
        "        filtered = active_tokens_mask * self.weights[tokens]\n",
        "        # sum pooling along the token position dimension \n",
        "        logits = filtered.sum(dim=1)\n",
        "        return logits\n",
        "\n",
        "\n",
        "#model = LogisticRegression(vocab.get_vocab_size(\"tokens\"))\n",
        "#model.forward(sentence)"
      ],
      "execution_count": 0,
      "outputs": []
    },
    {
      "cell_type": "markdown",
      "metadata": {
        "id": "ZKGwAaYEEm0-",
        "colab_type": "text"
      },
      "source": [
        "## Formulation [5pts]\n",
        "\n",
        "In the class we have presented the model as encoder $f(\\mathbf{x})$ followed by a linear decoder\n",
        "$$s(\\mathbf{x}) = \\boldsymbol{\\theta}^T  f(\\mathbf{x}) = \\boldsymbol{\\theta}^T \\sum_{w\\in \\mathbf{x}} f(w) $$ where $f(\\mathbf{x})$ is the representation of the input text. \n",
        "\n",
        "The implementation here achieves the same output, but the calculation is performed slightly differently due to technical reasons when working with pytorch. Can you give a mathematical description of this implementation here that captures the order in which computation happens? Below $f(w)$ is a one-hot representation of a word, as per lecture 2. \n",
        "\n",
        "The candidate answers are:\n",
        "\n",
        "1. $s(\\mathbf{x}) = \\left[\\sum_{w\\in \\mathbf{x}}  f(w)  \\right]^T \\boldsymbol{\\theta} $\n",
        "2. $s(\\mathbf{x}) = \\sum_{w\\in \\mathbf{x}}  \\boldsymbol{\\theta}^T f(w)$\n",
        "3. $s(\\mathbf{x}) = \\frac{1}{|\\mathbf{x}|}\\boldsymbol{\\theta}^T \\sum_{\\mathbf{x}\\in x}  f(w)$\n",
        "4. $s(\\mathbf{x}) = \\left[\\sum_{w\\in \\mathbf{x}}  f(w)  \\right]^T \\boldsymbol{\\theta} \\frac{1}{|\\mathbf{x}|} $"
      ]
    },
    {
      "cell_type": "code",
      "metadata": {
        "id": "FjKT0eJzvyw8",
        "colab_type": "code",
        "colab": {}
      },
      "source": [
        "#@title Answers { run: \"auto\" }\n",
        "QFormulation = \"Eq 2\" #@param [\"Eq 1\", \"Eq 2\", \"Eq 3\", \"Eq 4\", \"None of the above\"]"
      ],
      "execution_count": 0,
      "outputs": []
    },
    {
      "cell_type": "markdown",
      "metadata": {
        "id": "J9ybvSIOFiLR",
        "colab_type": "text"
      },
      "source": [
        "## Mean Pooling [8pts]\n",
        "\n",
        "Create a new version of the logistic regression module, using mean pooling. "
      ]
    },
    {
      "cell_type": "code",
      "metadata": {
        "id": "IPYSGdhmFpQH",
        "colab_type": "code",
        "colab": {}
      },
      "source": [
        "# Model\n",
        "class LogisticRegressionMeanPooling(nn.Module):\n",
        "    \"\"\"\n",
        "    Simple Logistic Regression implementation based on torchtext input format.\n",
        "    \"\"\"\n",
        "    def __init__(self, num_features):\n",
        "        super(LogisticRegressionMeanPooling, self).__init__()\n",
        "        self.weights = nn.Parameter(torch.normal(torch.zeros(num_features)), \n",
        "                                requires_grad=True)\n",
        "            \n",
        "    def forward(self, sentence):\n",
        "        \"\"\"\n",
        "        Args:\n",
        "          sentence: a dictionary of ...\n",
        "        \"\"\"\n",
        "        tokens = sentence['tokens']\n",
        "        active_tokens_mask = get_text_field_mask(sentence)\n",
        "        # retrieve weights and set those to zero that come from padding cells \n",
        "        filtered = active_tokens_mask * self.weights[tokens]\n",
        "       \n",
        "        # Sum pooling along the token position dimension  \n",
        "        logits = filtered.sum(dim=1)\n",
        "        # Get the number of words in each sentence\n",
        "        n_words = active_tokens_mask.sum(dim=1)\n",
        "        # Divie by the number of words\n",
        "        mean_logits = logits/n_words\n",
        "       \n",
        "\n",
        "        return mean_logits\n",
        "       "
      ],
      "execution_count": 0,
      "outputs": []
    },
    {
      "cell_type": "markdown",
      "metadata": {
        "id": "XU9QcbnWG6PK",
        "colab_type": "text"
      },
      "source": [
        "## Add Features [20pts]\n",
        "\n",
        "Add the features below to the preprocessing pipeline shown below. \n",
        "\n",
        "### Bias Feature [6 pts]\n",
        "\n",
        "It is common practice to add a *bias* term of linear classifiers:\n",
        "\n",
        "$$s(\\mathbf{x}) = \\boldsymbol{\\theta}^T  f(\\mathbf{x}) + b $$\n",
        "\n",
        "One way to achieve this in general is to augment $f(\\mathbf{x}) $ with an extra component that is always set to $1$. In our implementation, this can be achieved by augmenting the sentence field appropriately when loading the data, and setting the `add_features` argument in the dataset loader. Implement this below.  \n",
        "\n",
        "### Bigram Feature [7 pts]\n",
        "\n",
        "Use the `add_features` pipeline to implement a feature that captures whether word *pairs* $w_1, w_2$ appear consecutively in the sentence.  This feature should be *combined* with the standard unigram and bias features.   \n",
        "\n",
        "### Max Pooling [7 pts]\n",
        "\n",
        "Use the `add_features` pipeline to implement max pooling such that any feature appearing more than once in the sentence is only counted once, as per the lecture slides of week 1. "
      ]
    },
    {
      "cell_type": "code",
      "metadata": {
        "id": "nmLgBoZFHms6",
        "colab_type": "code",
        "outputId": "89031fc9-33a8-4ac8-89f4-4e76b34b3d45",
        "colab": {
          "base_uri": "https://localhost:8080/",
          "height": 406
        }
      },
      "source": [
        "def add_features(text):\n",
        "  \"\"\"\n",
        "  Args:\n",
        "    features: a list of tokens\n",
        "  \"\"\"\n",
        "  # TODO implement this function based on instructions above. \n",
        "  toks = text.split(\" \")\n",
        "\n",
        "  # Bias Feature\n",
        "  toks.append('~~')\n",
        "  \n",
        "  # Bigram Features\n",
        "  init = len(toks)\n",
        "  for i in range(init-2):\n",
        "    toks.append(toks[i] + ' ' + toks[i+1])\n",
        "\n",
        "  # Max Pooling\n",
        "  unique_toks = sorted(set(toks), key=toks.index)\n",
        "  unique_toks = list(unique_toks)\n",
        "  return unique_toks\n",
        "\n",
        "reader = PolarityDatasetReader(tokenize_and_preprocess=add_features)\n",
        "data_pre_2 = reader.read(cached_path(\"rt-polaritydata/rt-polarity.utf8.tsv\"))\n",
        "data_pre_2[10]['sentence'][:]"
      ],
      "execution_count": 20,
      "outputs": [
        {
          "output_type": "stream",
          "text": [
            "10662it [00:01, 6180.35it/s]\n"
          ],
          "name": "stderr"
        },
        {
          "output_type": "execute_result",
          "data": {
            "text/plain": [
              "[a,\n",
              " sentimental,\n",
              " mess,\n",
              " that,\n",
              " never,\n",
              " rings,\n",
              " true,\n",
              " .,\n",
              " \n",
              ",\n",
              " ~~,\n",
              " a sentimental,\n",
              " sentimental mess,\n",
              " mess that,\n",
              " that never,\n",
              " never rings,\n",
              " rings true,\n",
              " true .,\n",
              " . \n",
              "]"
            ]
          },
          "metadata": {
            "tags": []
          },
          "execution_count": 20
        }
      ]
    },
    {
      "cell_type": "markdown",
      "metadata": {
        "id": "sy8JnMkZJQEw",
        "colab_type": "text"
      },
      "source": [
        "## Hyperparameters Search and Analysis [10 pts]\n",
        "\n",
        "### Early Stopping [5pts]\n",
        "\n",
        "Finding the right number of iterations is important (why can running to convergence be bad?). One way to to do this is to iterate for a max number K, and then choose the iteration with the largest dev set performance. But this can be slow and unnecessary if we assume that dev-set performance doesn't go up again once it starts to go down (dev set performance concave). Implement a variant of the training loop that implements this idea.  Specifically, the loop should terminate if there has been no increase in development set accuracy when comparing the current accuracy to that from 10 epochs ago. \n",
        "\n",
        "### Grid Search [5pts]\n",
        "Using all the features you developed in the above \"Add Features\" section (or the base model in case you could not address the question), find the best combination of \n",
        "\n",
        "* Learning Rate in {1.0, 0.1}\n",
        "* Number of Training epochs (via early stopping, use 1000 as maximum)\n",
        "* L2 regularisation weight in {0.001, 0.0001, 0}\n",
        "\n",
        "After grid search, the value of the variables `best_acc`, `best_l2`, `best_lr` and `best_epochs` should be appropriately. \n"
      ]
    },
    {
      "cell_type": "code",
      "metadata": {
        "id": "uwHMvGhWo6ej",
        "colab_type": "code",
        "outputId": "0ea5cd20-2b89-4da9-e32d-d211310c6203",
        "colab": {
          "base_uri": "https://localhost:8080/",
          "height": 110
        }
      },
      "source": [
        "def accuracy(dataset, model, iterator):\n",
        "  # Testing the model and returning the accuracy on the given dataset\n",
        "  total = 0\n",
        "  correct = 0\n",
        "  for batch in iterator(dataset, num_epochs=1):\n",
        "      sentence = batch['sentence']\n",
        "      label = batch['label']\n",
        "      output = model(sentence)\n",
        "      total += len(label)\n",
        "      prediction = (output > 0).long()\n",
        "      correct += (prediction == label).sum()\n",
        "\n",
        "  return float(correct) / total  \n",
        "\n",
        "def training_loop(model, iterator, train_set, dev_set, num_epochs=100,\n",
        "                  lr=0.1, weight_decay=0.0):\n",
        "  \"\"\"\n",
        "  Should return the best dev_set accuracy and the number of epochs used. \n",
        "  \"\"\"\n",
        "  criterion = torch.nn.BCEWithLogitsLoss()  \n",
        "  optimizer = torch.optim.SGD(model.parameters(), lr=lr, \n",
        "                              weight_decay=weight_decay)  \n",
        "  # Training the Model\n",
        "  epoch_accuracies = []\n",
        "  best_epoch = 0\n",
        "  best_accuracy = 0.0\n",
        "  for epoch in range(num_epochs):\n",
        "      for i, batch in enumerate(iterator(train_set,num_epochs=1)):\n",
        "          sentence = batch['sentence']\n",
        "          label = batch['label'].float()\n",
        "\n",
        "          # Forward + Backward + Optimize\n",
        "          optimizer.zero_grad()\n",
        "          logits = model(sentence)\n",
        "          loss = criterion(logits, label)\n",
        "          loss.backward()\n",
        "          optimizer.step()\n",
        "\n",
        "          if (i+1) % 100 == 0:\n",
        "              print ('Epoch: [%d/%d], Step: [%d/%d], Loss: %.4f, Dev: %.4f' \n",
        "                     % (epoch+1, num_epochs, i+1, len(train_set)//iterator._batch_size, \n",
        "                        loss.data, accuracy(dev_set, model, iterator)))\n",
        "      \n",
        "      epoch_accuracies.append(accuracy(dev_set, model, iterator))\n",
        "      if epoch_accuracies[-1] > best_accuracy:\n",
        "          best_accuracy = epoch_accuracies[-1]\n",
        "          print('updated!' + str(epoch))\n",
        "          best_epoch = epoch\n",
        "          \n",
        "      # TODO: implement early stopping here \n",
        "      if len(epoch_accuracies) > 10:\n",
        "        if epoch_accuracies[-10] >= epoch_accuracies[-1]:\n",
        "          print(\"Early Stopping\")\n",
        "          break\n",
        "                   \n",
        "  return best_accuracy, best_epoch\n",
        "\n",
        "reader = PolarityDatasetReader(tokenize_and_preprocess=add_features)\n",
        "data = reader.read(cached_path(\"rt-polaritydata/rt-polarity.utf8.tsv\"))\n",
        "training_data = data[0:-1000]\n",
        "dev_data = data[-1000:]\n",
        "vocab = Vocabulary.from_instances(training_data)\n",
        "iterator = BucketIterator(batch_size=32, sorting_keys=[(\"sentence\", \"num_tokens\")])\n",
        "iterator.index_with(vocab)\n",
        "print(len(training_data))\n",
        "print(len(dev_data))\n",
        "print(len(data))\n"
      ],
      "execution_count": 21,
      "outputs": [
        {
          "output_type": "stream",
          "text": [
            "10662it [00:01, 6037.93it/s]\n",
            "100%|██████████| 9662/9662 [00:00<00:00, 26200.67it/s]\n"
          ],
          "name": "stderr"
        },
        {
          "output_type": "stream",
          "text": [
            "9662\n",
            "1000\n",
            "10662\n"
          ],
          "name": "stdout"
        }
      ]
    },
    {
      "cell_type": "code",
      "metadata": {
        "id": "ik-_1M7Hbv3A",
        "colab_type": "code",
        "colab": {
          "base_uri": "https://localhost:8080/",
          "height": 1000
        },
        "outputId": "f7b8ac44-6091-4f0e-a885-5eca4047f9be"
      },
      "source": [
        "\n",
        "best_acc = 0.0 # best accuracy achieved \n",
        "best_lr = 0.0 # best learning rate at best accuracy \n",
        "best_l2 = 0.0 # best l2 regularizing weight\n",
        "best_epochs = 0 # best number of epochs\n",
        "# TODO: implement grid search to make sure the above 4 variable have \n",
        "\n",
        "# Grid Search\n",
        "\n",
        "for learning_rate in [1.0, 0.1]:\n",
        "  for l2 in [0.001, 0.0001, 0]:\n",
        "    model = LogisticRegression(num_features=vocab.get_vocab_size(\"tokens\"))\n",
        "    temp_acc, temp_epochs = training_loop(model, iterator, training_data, dev_data, num_epochs = 1000, lr=learning_rate, weight_decay = l2)\n",
        "    \n",
        "    if temp_acc > best_acc:\n",
        "      best_acc = temp_acc\n",
        "      best_lr = learning_rate\n",
        "      best_l2 = l2\n",
        "      best_epochs = temp_epochs"
      ],
      "execution_count": 22,
      "outputs": [
        {
          "output_type": "stream",
          "text": [
            "Epoch: [1/1000], Step: [100/301], Loss: 2.3688, Dev: 0.1180\n",
            "Epoch: [1/1000], Step: [200/301], Loss: 2.0490, Dev: 0.1090\n",
            "Epoch: [1/1000], Step: [300/301], Loss: 0.8772, Dev: 0.0760\n",
            "updated!0\n",
            "Epoch: [2/1000], Step: [100/301], Loss: 0.7541, Dev: 0.0650\n",
            "Epoch: [2/1000], Step: [200/301], Loss: 0.6475, Dev: 0.1640\n",
            "Epoch: [2/1000], Step: [300/301], Loss: 0.3607, Dev: 0.2200\n",
            "updated!1\n",
            "Epoch: [3/1000], Step: [100/301], Loss: 0.4933, Dev: 0.1410\n",
            "Epoch: [3/1000], Step: [200/301], Loss: 0.6784, Dev: 0.1620\n",
            "Epoch: [3/1000], Step: [300/301], Loss: 0.5910, Dev: 0.2420\n",
            "updated!2\n",
            "Epoch: [4/1000], Step: [100/301], Loss: 0.6565, Dev: 0.2480\n",
            "Epoch: [4/1000], Step: [200/301], Loss: 0.4829, Dev: 0.2330\n",
            "Epoch: [4/1000], Step: [300/301], Loss: 0.6221, Dev: 0.2190\n",
            "Epoch: [5/1000], Step: [100/301], Loss: 0.3257, Dev: 0.2780\n",
            "Epoch: [5/1000], Step: [200/301], Loss: 0.4258, Dev: 0.2770\n",
            "Epoch: [5/1000], Step: [300/301], Loss: 0.4252, Dev: 0.2860\n",
            "Epoch: [6/1000], Step: [100/301], Loss: 0.2582, Dev: 0.2310\n",
            "Epoch: [6/1000], Step: [200/301], Loss: 0.4240, Dev: 0.3160\n",
            "Epoch: [6/1000], Step: [300/301], Loss: 0.4286, Dev: 0.3010\n",
            "updated!5\n",
            "Epoch: [7/1000], Step: [100/301], Loss: 0.3656, Dev: 0.2010\n",
            "Epoch: [7/1000], Step: [200/301], Loss: 0.3761, Dev: 0.5120\n",
            "Epoch: [7/1000], Step: [300/301], Loss: 0.5168, Dev: 0.4250\n",
            "Epoch: [8/1000], Step: [100/301], Loss: 0.2160, Dev: 0.2420\n",
            "Epoch: [8/1000], Step: [200/301], Loss: 0.3613, Dev: 0.3920\n",
            "Epoch: [8/1000], Step: [300/301], Loss: 0.3821, Dev: 0.3240\n",
            "Epoch: [9/1000], Step: [100/301], Loss: 0.2329, Dev: 0.4620\n",
            "Epoch: [9/1000], Step: [200/301], Loss: 0.2562, Dev: 0.4450\n",
            "Epoch: [9/1000], Step: [300/301], Loss: 0.2074, Dev: 0.4910\n",
            "Epoch: [10/1000], Step: [100/301], Loss: 0.3128, Dev: 0.4770\n",
            "Epoch: [10/1000], Step: [200/301], Loss: 0.2408, Dev: 0.5550\n",
            "Epoch: [10/1000], Step: [300/301], Loss: 0.3876, Dev: 0.7060\n",
            "Epoch: [11/1000], Step: [100/301], Loss: 0.2366, Dev: 0.5480\n",
            "Epoch: [11/1000], Step: [200/301], Loss: 0.4419, Dev: 0.6430\n",
            "Epoch: [11/1000], Step: [300/301], Loss: 0.2926, Dev: 0.2530\n",
            "Epoch: [12/1000], Step: [100/301], Loss: 0.4345, Dev: 0.6810\n",
            "Epoch: [12/1000], Step: [200/301], Loss: 0.3192, Dev: 0.5160\n",
            "Epoch: [12/1000], Step: [300/301], Loss: 0.3875, Dev: 0.6050\n",
            "Epoch: [13/1000], Step: [100/301], Loss: 0.2660, Dev: 0.4270\n",
            "Epoch: [13/1000], Step: [200/301], Loss: 0.2582, Dev: 0.5510\n",
            "Epoch: [13/1000], Step: [300/301], Loss: 0.2876, Dev: 0.5430\n",
            "updated!12\n",
            "Epoch: [14/1000], Step: [100/301], Loss: 0.3482, Dev: 0.6040\n",
            "Epoch: [14/1000], Step: [200/301], Loss: 0.4118, Dev: 0.7220\n",
            "Epoch: [14/1000], Step: [300/301], Loss: 0.3516, Dev: 0.6740\n",
            "updated!13\n",
            "Epoch: [15/1000], Step: [100/301], Loss: 0.3573, Dev: 0.8350\n",
            "Epoch: [15/1000], Step: [200/301], Loss: 0.3134, Dev: 0.5820\n",
            "Epoch: [15/1000], Step: [300/301], Loss: 0.3052, Dev: 0.5010\n",
            "updated!14\n",
            "Epoch: [16/1000], Step: [100/301], Loss: 0.2609, Dev: 0.6340\n",
            "Epoch: [16/1000], Step: [200/301], Loss: 0.3251, Dev: 0.5300\n",
            "Epoch: [16/1000], Step: [300/301], Loss: 0.3522, Dev: 0.7230\n",
            "Epoch: [17/1000], Step: [100/301], Loss: 0.2546, Dev: 0.5970\n",
            "Epoch: [17/1000], Step: [200/301], Loss: 0.3185, Dev: 0.5810\n",
            "Epoch: [17/1000], Step: [300/301], Loss: 0.3084, Dev: 0.5150\n",
            "Epoch: [18/1000], Step: [100/301], Loss: 0.2376, Dev: 0.5220\n",
            "Epoch: [18/1000], Step: [200/301], Loss: 0.3408, Dev: 0.7310\n",
            "Epoch: [18/1000], Step: [300/301], Loss: 0.3085, Dev: 0.4730\n",
            "Epoch: [19/1000], Step: [100/301], Loss: 0.2995, Dev: 0.6850\n",
            "Epoch: [19/1000], Step: [200/301], Loss: 0.3235, Dev: 0.5890\n",
            "Epoch: [19/1000], Step: [300/301], Loss: 0.2318, Dev: 0.4580\n",
            "Epoch: [20/1000], Step: [100/301], Loss: 0.2732, Dev: 0.6700\n",
            "Epoch: [20/1000], Step: [200/301], Loss: 0.4188, Dev: 0.4930\n",
            "Epoch: [20/1000], Step: [300/301], Loss: 0.3873, Dev: 0.7890\n",
            "Epoch: [21/1000], Step: [100/301], Loss: 0.2096, Dev: 0.7070\n",
            "Epoch: [21/1000], Step: [200/301], Loss: 0.3705, Dev: 0.7690\n",
            "Epoch: [21/1000], Step: [300/301], Loss: 0.3057, Dev: 0.7040\n",
            "updated!20\n",
            "Epoch: [22/1000], Step: [100/301], Loss: 0.3400, Dev: 0.6740\n",
            "Epoch: [22/1000], Step: [200/301], Loss: 0.3321, Dev: 0.7430\n",
            "Epoch: [22/1000], Step: [300/301], Loss: 0.3928, Dev: 0.7820\n",
            "updated!21\n",
            "Epoch: [23/1000], Step: [100/301], Loss: 0.4571, Dev: 0.6640\n",
            "Epoch: [23/1000], Step: [200/301], Loss: 0.2800, Dev: 0.8110\n",
            "Epoch: [23/1000], Step: [300/301], Loss: 0.4037, Dev: 0.6540\n",
            "Early Stopping\n",
            "Epoch: [1/1000], Step: [100/301], Loss: 1.3499, Dev: 0.1630\n",
            "Epoch: [1/1000], Step: [200/301], Loss: 1.3695, Dev: 0.1970\n",
            "Epoch: [1/1000], Step: [300/301], Loss: 2.5680, Dev: 0.1910\n",
            "updated!0\n",
            "Epoch: [2/1000], Step: [100/301], Loss: 2.0057, Dev: 0.2290\n",
            "Epoch: [2/1000], Step: [200/301], Loss: 1.1486, Dev: 0.2890\n",
            "Epoch: [2/1000], Step: [300/301], Loss: 0.7747, Dev: 0.2400\n",
            "updated!1\n",
            "Epoch: [3/1000], Step: [100/301], Loss: 0.7818, Dev: 0.3040\n",
            "Epoch: [3/1000], Step: [200/301], Loss: 0.7566, Dev: 0.2190\n",
            "Epoch: [3/1000], Step: [300/301], Loss: 0.4980, Dev: 0.2960\n",
            "updated!2\n",
            "Epoch: [4/1000], Step: [100/301], Loss: 1.0032, Dev: 0.2000\n",
            "Epoch: [4/1000], Step: [200/301], Loss: 0.6071, Dev: 0.3080\n",
            "Epoch: [4/1000], Step: [300/301], Loss: 0.8123, Dev: 0.2720\n",
            "Epoch: [5/1000], Step: [100/301], Loss: 0.9700, Dev: 0.2420\n",
            "Epoch: [5/1000], Step: [200/301], Loss: 0.4160, Dev: 0.2970\n",
            "Epoch: [5/1000], Step: [300/301], Loss: 0.3935, Dev: 0.2900\n",
            "Epoch: [6/1000], Step: [100/301], Loss: 0.2485, Dev: 0.2470\n",
            "Epoch: [6/1000], Step: [200/301], Loss: 0.3251, Dev: 0.2800\n",
            "Epoch: [6/1000], Step: [300/301], Loss: 0.3100, Dev: 0.3250\n",
            "updated!5\n",
            "Epoch: [7/1000], Step: [100/301], Loss: 0.4665, Dev: 0.2570\n",
            "Epoch: [7/1000], Step: [200/301], Loss: 0.3318, Dev: 0.3200\n",
            "Epoch: [7/1000], Step: [300/301], Loss: 0.5941, Dev: 0.3350\n",
            "updated!6\n",
            "Epoch: [8/1000], Step: [100/301], Loss: 0.3318, Dev: 0.3320\n",
            "Epoch: [8/1000], Step: [200/301], Loss: 0.3619, Dev: 0.3580\n",
            "Epoch: [8/1000], Step: [300/301], Loss: 0.2764, Dev: 0.2440\n",
            "Epoch: [9/1000], Step: [100/301], Loss: 0.0939, Dev: 0.2730\n",
            "Epoch: [9/1000], Step: [200/301], Loss: 0.3665, Dev: 0.3020\n",
            "Epoch: [9/1000], Step: [300/301], Loss: 0.4135, Dev: 0.2580\n",
            "Epoch: [10/1000], Step: [100/301], Loss: 0.1627, Dev: 0.3140\n",
            "Epoch: [10/1000], Step: [200/301], Loss: 0.2327, Dev: 0.3130\n",
            "Epoch: [10/1000], Step: [300/301], Loss: 0.1913, Dev: 0.2890\n",
            "Epoch: [11/1000], Step: [100/301], Loss: 0.2632, Dev: 0.3340\n",
            "Epoch: [11/1000], Step: [200/301], Loss: 0.0774, Dev: 0.3010\n",
            "Epoch: [11/1000], Step: [300/301], Loss: 0.1105, Dev: 0.3140\n",
            "updated!10\n",
            "Epoch: [12/1000], Step: [100/301], Loss: 0.0945, Dev: 0.3140\n",
            "Epoch: [12/1000], Step: [200/301], Loss: 0.3367, Dev: 0.3460\n",
            "Epoch: [12/1000], Step: [300/301], Loss: 0.1678, Dev: 0.3030\n",
            "Epoch: [13/1000], Step: [100/301], Loss: 0.0799, Dev: 0.3120\n",
            "Epoch: [13/1000], Step: [200/301], Loss: 0.0843, Dev: 0.3340\n",
            "Epoch: [13/1000], Step: [300/301], Loss: 0.1324, Dev: 0.3370\n",
            "Epoch: [14/1000], Step: [100/301], Loss: 0.0720, Dev: 0.3730\n",
            "Epoch: [14/1000], Step: [200/301], Loss: 0.2187, Dev: 0.3200\n",
            "Epoch: [14/1000], Step: [300/301], Loss: 0.0875, Dev: 0.3200\n",
            "Epoch: [15/1000], Step: [100/301], Loss: 0.1159, Dev: 0.3720\n",
            "Epoch: [15/1000], Step: [200/301], Loss: 0.1161, Dev: 0.3490\n",
            "Epoch: [15/1000], Step: [300/301], Loss: 0.1428, Dev: 0.3060\n",
            "Epoch: [16/1000], Step: [100/301], Loss: 0.0983, Dev: 0.3600\n",
            "Epoch: [16/1000], Step: [200/301], Loss: 0.1190, Dev: 0.3470\n",
            "Epoch: [16/1000], Step: [300/301], Loss: 0.2078, Dev: 0.3640\n",
            "updated!15\n",
            "Epoch: [17/1000], Step: [100/301], Loss: 0.0433, Dev: 0.3720\n",
            "Epoch: [17/1000], Step: [200/301], Loss: 0.0394, Dev: 0.3550\n",
            "Epoch: [17/1000], Step: [300/301], Loss: 0.0707, Dev: 0.3810\n",
            "Epoch: [18/1000], Step: [100/301], Loss: 0.1903, Dev: 0.3200\n",
            "Epoch: [18/1000], Step: [200/301], Loss: 0.1645, Dev: 0.4140\n",
            "Epoch: [18/1000], Step: [300/301], Loss: 0.0844, Dev: 0.3790\n",
            "Epoch: [19/1000], Step: [100/301], Loss: 0.1128, Dev: 0.3720\n",
            "Epoch: [19/1000], Step: [200/301], Loss: 0.0473, Dev: 0.3710\n",
            "Epoch: [19/1000], Step: [300/301], Loss: 0.2885, Dev: 0.3470\n",
            "Epoch: [20/1000], Step: [100/301], Loss: 0.0430, Dev: 0.3950\n",
            "Epoch: [20/1000], Step: [200/301], Loss: 0.0404, Dev: 0.3840\n",
            "Epoch: [20/1000], Step: [300/301], Loss: 0.1684, Dev: 0.3810\n",
            "Epoch: [21/1000], Step: [100/301], Loss: 0.0678, Dev: 0.3830\n",
            "Epoch: [21/1000], Step: [200/301], Loss: 0.0777, Dev: 0.3670\n",
            "Epoch: [21/1000], Step: [300/301], Loss: 0.1830, Dev: 0.3270\n",
            "Epoch: [22/1000], Step: [100/301], Loss: 0.2958, Dev: 0.3360\n",
            "Epoch: [22/1000], Step: [200/301], Loss: 0.0376, Dev: 0.3630\n",
            "Epoch: [22/1000], Step: [300/301], Loss: 0.0711, Dev: 0.3720\n",
            "Epoch: [23/1000], Step: [100/301], Loss: 0.1330, Dev: 0.3660\n",
            "Epoch: [23/1000], Step: [200/301], Loss: 0.2378, Dev: 0.4040\n",
            "Epoch: [23/1000], Step: [300/301], Loss: 0.0695, Dev: 0.3710\n",
            "Epoch: [24/1000], Step: [100/301], Loss: 0.0784, Dev: 0.3860\n",
            "Epoch: [24/1000], Step: [200/301], Loss: 0.2599, Dev: 0.4180\n",
            "Epoch: [24/1000], Step: [300/301], Loss: 0.0588, Dev: 0.3860\n",
            "Epoch: [25/1000], Step: [100/301], Loss: 0.0701, Dev: 0.3650\n",
            "Epoch: [25/1000], Step: [200/301], Loss: 0.1038, Dev: 0.3920\n",
            "Epoch: [25/1000], Step: [300/301], Loss: 0.0614, Dev: 0.3820\n",
            "Early Stopping\n",
            "Epoch: [1/1000], Step: [100/301], Loss: 3.2431, Dev: 0.0850\n",
            "Epoch: [1/1000], Step: [200/301], Loss: 1.4324, Dev: 0.0870\n",
            "Epoch: [1/1000], Step: [300/301], Loss: 2.6265, Dev: 0.1110\n",
            "updated!0\n",
            "Epoch: [2/1000], Step: [100/301], Loss: 1.7175, Dev: 0.1130\n",
            "Epoch: [2/1000], Step: [200/301], Loss: 0.8881, Dev: 0.0770\n",
            "Epoch: [2/1000], Step: [300/301], Loss: 2.2495, Dev: 0.0900\n",
            "updated!1\n",
            "Epoch: [3/1000], Step: [100/301], Loss: 0.5208, Dev: 0.1020\n",
            "Epoch: [3/1000], Step: [200/301], Loss: 1.1891, Dev: 0.0820\n",
            "Epoch: [3/1000], Step: [300/301], Loss: 1.1640, Dev: 0.1150\n",
            "Epoch: [4/1000], Step: [100/301], Loss: 1.4561, Dev: 0.0820\n",
            "Epoch: [4/1000], Step: [200/301], Loss: 1.3443, Dev: 0.0990\n",
            "Epoch: [4/1000], Step: [300/301], Loss: 0.7226, Dev: 0.1140\n",
            "updated!3\n",
            "Epoch: [5/1000], Step: [100/301], Loss: 0.5073, Dev: 0.0960\n",
            "Epoch: [5/1000], Step: [200/301], Loss: 0.3983, Dev: 0.1120\n",
            "Epoch: [5/1000], Step: [300/301], Loss: 0.7573, Dev: 0.1160\n",
            "Epoch: [6/1000], Step: [100/301], Loss: 0.4518, Dev: 0.1020\n",
            "Epoch: [6/1000], Step: [200/301], Loss: 0.5396, Dev: 0.1160\n",
            "Epoch: [6/1000], Step: [300/301], Loss: 0.8228, Dev: 0.1480\n",
            "updated!5\n",
            "Epoch: [7/1000], Step: [100/301], Loss: 0.5489, Dev: 0.1430\n",
            "Epoch: [7/1000], Step: [200/301], Loss: 0.2718, Dev: 0.1170\n",
            "Epoch: [7/1000], Step: [300/301], Loss: 0.4461, Dev: 0.1070\n",
            "Epoch: [8/1000], Step: [100/301], Loss: 0.4949, Dev: 0.1450\n",
            "Epoch: [8/1000], Step: [200/301], Loss: 0.3504, Dev: 0.1420\n",
            "Epoch: [8/1000], Step: [300/301], Loss: 0.4885, Dev: 0.1280\n",
            "Epoch: [9/1000], Step: [100/301], Loss: 0.3305, Dev: 0.1080\n",
            "Epoch: [9/1000], Step: [200/301], Loss: 0.1044, Dev: 0.1280\n",
            "Epoch: [9/1000], Step: [300/301], Loss: 0.2488, Dev: 0.1320\n",
            "updated!8\n",
            "Epoch: [10/1000], Step: [100/301], Loss: 0.3329, Dev: 0.1210\n",
            "Epoch: [10/1000], Step: [200/301], Loss: 0.2863, Dev: 0.1280\n",
            "Epoch: [10/1000], Step: [300/301], Loss: 0.3305, Dev: 0.1380\n",
            "Epoch: [11/1000], Step: [100/301], Loss: 0.3353, Dev: 0.1410\n",
            "Epoch: [11/1000], Step: [200/301], Loss: 0.2379, Dev: 0.1190\n",
            "Epoch: [11/1000], Step: [300/301], Loss: 0.1342, Dev: 0.1170\n",
            "Epoch: [12/1000], Step: [100/301], Loss: 0.1832, Dev: 0.1250\n",
            "Epoch: [12/1000], Step: [200/301], Loss: 0.2307, Dev: 0.1380\n",
            "Epoch: [12/1000], Step: [300/301], Loss: 0.0670, Dev: 0.1380\n",
            "Epoch: [13/1000], Step: [100/301], Loss: 0.0619, Dev: 0.1250\n",
            "Epoch: [13/1000], Step: [200/301], Loss: 0.1536, Dev: 0.1260\n",
            "Epoch: [13/1000], Step: [300/301], Loss: 0.0892, Dev: 0.1420\n",
            "updated!12\n",
            "Epoch: [14/1000], Step: [100/301], Loss: 0.1242, Dev: 0.1310\n",
            "Epoch: [14/1000], Step: [200/301], Loss: 0.0988, Dev: 0.1260\n",
            "Epoch: [14/1000], Step: [300/301], Loss: 0.0883, Dev: 0.1340\n",
            "Epoch: [15/1000], Step: [100/301], Loss: 0.0335, Dev: 0.1300\n",
            "Epoch: [15/1000], Step: [200/301], Loss: 0.0923, Dev: 0.1220\n",
            "Epoch: [15/1000], Step: [300/301], Loss: 0.2575, Dev: 0.1200\n",
            "Epoch: [16/1000], Step: [100/301], Loss: 0.0904, Dev: 0.1280\n",
            "Epoch: [16/1000], Step: [200/301], Loss: 0.0770, Dev: 0.1200\n",
            "Epoch: [16/1000], Step: [300/301], Loss: 0.1740, Dev: 0.1430\n",
            "updated!15\n",
            "Epoch: [17/1000], Step: [100/301], Loss: 0.0474, Dev: 0.1340\n",
            "Epoch: [17/1000], Step: [200/301], Loss: 0.0335, Dev: 0.1380\n",
            "Epoch: [17/1000], Step: [300/301], Loss: 0.0530, Dev: 0.1490\n",
            "updated!16\n",
            "Epoch: [18/1000], Step: [100/301], Loss: 0.0267, Dev: 0.1240\n",
            "Epoch: [18/1000], Step: [200/301], Loss: 0.1004, Dev: 0.1650\n",
            "Epoch: [18/1000], Step: [300/301], Loss: 0.0683, Dev: 0.1330\n",
            "Epoch: [19/1000], Step: [100/301], Loss: 0.0279, Dev: 0.1450\n",
            "Epoch: [19/1000], Step: [200/301], Loss: 0.0386, Dev: 0.1370\n",
            "Epoch: [19/1000], Step: [300/301], Loss: 0.1113, Dev: 0.1440\n",
            "Epoch: [20/1000], Step: [100/301], Loss: 0.1793, Dev: 0.1390\n",
            "Epoch: [20/1000], Step: [200/301], Loss: 0.1060, Dev: 0.1410\n",
            "Epoch: [20/1000], Step: [300/301], Loss: 0.1353, Dev: 0.1450\n",
            "Epoch: [21/1000], Step: [100/301], Loss: 0.0325, Dev: 0.1550\n",
            "Epoch: [21/1000], Step: [200/301], Loss: 0.1047, Dev: 0.1370\n",
            "Epoch: [21/1000], Step: [300/301], Loss: 0.0340, Dev: 0.1340\n",
            "Epoch: [22/1000], Step: [100/301], Loss: 0.2295, Dev: 0.1510\n",
            "Epoch: [22/1000], Step: [200/301], Loss: 0.0306, Dev: 0.1550\n",
            "Epoch: [22/1000], Step: [300/301], Loss: 0.0358, Dev: 0.1410\n",
            "Epoch: [23/1000], Step: [100/301], Loss: 0.0374, Dev: 0.1470\n",
            "Epoch: [23/1000], Step: [200/301], Loss: 0.0323, Dev: 0.1540\n",
            "Epoch: [23/1000], Step: [300/301], Loss: 0.1423, Dev: 0.1530\n",
            "Epoch: [24/1000], Step: [100/301], Loss: 0.0323, Dev: 0.1570\n",
            "Epoch: [24/1000], Step: [200/301], Loss: 0.0487, Dev: 0.1450\n",
            "Epoch: [24/1000], Step: [300/301], Loss: 0.0813, Dev: 0.1450\n",
            "Epoch: [25/1000], Step: [100/301], Loss: 0.0577, Dev: 0.1530\n",
            "Epoch: [25/1000], Step: [200/301], Loss: 0.0363, Dev: 0.1550\n",
            "Epoch: [25/1000], Step: [300/301], Loss: 0.0264, Dev: 0.1540\n",
            "Epoch: [26/1000], Step: [100/301], Loss: 0.0515, Dev: 0.1540\n",
            "Epoch: [26/1000], Step: [200/301], Loss: 0.0636, Dev: 0.1510\n",
            "Epoch: [26/1000], Step: [300/301], Loss: 0.0168, Dev: 0.1580\n",
            "Early Stopping\n",
            "Epoch: [1/1000], Step: [100/301], Loss: 2.9553, Dev: 0.2740\n",
            "Epoch: [1/1000], Step: [200/301], Loss: 1.0008, Dev: 0.2530\n",
            "Epoch: [1/1000], Step: [300/301], Loss: 1.3437, Dev: 0.2540\n",
            "updated!0\n",
            "Epoch: [2/1000], Step: [100/301], Loss: 1.9989, Dev: 0.2790\n",
            "Epoch: [2/1000], Step: [200/301], Loss: 2.2823, Dev: 0.2410\n",
            "Epoch: [2/1000], Step: [300/301], Loss: 1.3147, Dev: 0.3020\n",
            "updated!1\n",
            "Epoch: [3/1000], Step: [100/301], Loss: 1.8501, Dev: 0.2970\n",
            "Epoch: [3/1000], Step: [200/301], Loss: 2.7863, Dev: 0.2720\n",
            "Epoch: [3/1000], Step: [300/301], Loss: 1.5476, Dev: 0.2550\n",
            "Epoch: [4/1000], Step: [100/301], Loss: 3.2728, Dev: 0.3110\n",
            "Epoch: [4/1000], Step: [200/301], Loss: 2.5224, Dev: 0.3290\n",
            "Epoch: [4/1000], Step: [300/301], Loss: 1.4226, Dev: 0.2990\n",
            "updated!3\n",
            "Epoch: [5/1000], Step: [100/301], Loss: 2.1267, Dev: 0.3030\n",
            "Epoch: [5/1000], Step: [200/301], Loss: 1.2323, Dev: 0.2930\n",
            "Epoch: [5/1000], Step: [300/301], Loss: 1.6573, Dev: 0.3360\n",
            "updated!4\n",
            "Epoch: [6/1000], Step: [100/301], Loss: 0.9977, Dev: 0.2920\n",
            "Epoch: [6/1000], Step: [200/301], Loss: 1.6782, Dev: 0.3110\n",
            "Epoch: [6/1000], Step: [300/301], Loss: 1.6991, Dev: 0.3120\n",
            "Epoch: [7/1000], Step: [100/301], Loss: 1.4915, Dev: 0.3210\n",
            "Epoch: [7/1000], Step: [200/301], Loss: 0.8905, Dev: 0.2850\n",
            "Epoch: [7/1000], Step: [300/301], Loss: 1.8176, Dev: 0.3000\n",
            "Epoch: [8/1000], Step: [100/301], Loss: 0.7957, Dev: 0.3100\n",
            "Epoch: [8/1000], Step: [200/301], Loss: 1.4326, Dev: 0.3050\n",
            "Epoch: [8/1000], Step: [300/301], Loss: 1.0747, Dev: 0.2820\n",
            "Epoch: [9/1000], Step: [100/301], Loss: 1.1980, Dev: 0.2930\n",
            "Epoch: [9/1000], Step: [200/301], Loss: 1.0428, Dev: 0.3460\n",
            "Epoch: [9/1000], Step: [300/301], Loss: 0.9601, Dev: 0.3130\n",
            "Epoch: [10/1000], Step: [100/301], Loss: 1.4893, Dev: 0.3320\n",
            "Epoch: [10/1000], Step: [200/301], Loss: 1.1257, Dev: 0.3100\n",
            "Epoch: [10/1000], Step: [300/301], Loss: 1.0570, Dev: 0.3100\n",
            "Epoch: [11/1000], Step: [100/301], Loss: 1.4229, Dev: 0.3280\n",
            "Epoch: [11/1000], Step: [200/301], Loss: 1.6788, Dev: 0.3070\n",
            "Epoch: [11/1000], Step: [300/301], Loss: 1.6207, Dev: 0.3210\n",
            "updated!10\n",
            "Epoch: [12/1000], Step: [100/301], Loss: 1.7850, Dev: 0.3620\n",
            "Epoch: [12/1000], Step: [200/301], Loss: 1.0039, Dev: 0.3370\n",
            "Epoch: [12/1000], Step: [300/301], Loss: 0.9223, Dev: 0.3180\n",
            "Epoch: [13/1000], Step: [100/301], Loss: 0.8279, Dev: 0.3310\n",
            "Epoch: [13/1000], Step: [200/301], Loss: 0.7840, Dev: 0.2930\n",
            "Epoch: [13/1000], Step: [300/301], Loss: 0.9348, Dev: 0.3250\n",
            "Epoch: [14/1000], Step: [100/301], Loss: 0.6443, Dev: 0.3350\n",
            "Epoch: [14/1000], Step: [200/301], Loss: 0.9717, Dev: 0.3060\n",
            "Epoch: [14/1000], Step: [300/301], Loss: 0.5611, Dev: 0.3250\n",
            "updated!13\n",
            "Epoch: [15/1000], Step: [100/301], Loss: 0.4842, Dev: 0.3390\n",
            "Epoch: [15/1000], Step: [200/301], Loss: 0.9491, Dev: 0.3290\n",
            "Epoch: [15/1000], Step: [300/301], Loss: 0.7697, Dev: 0.3390\n",
            "updated!14\n",
            "Epoch: [16/1000], Step: [100/301], Loss: 1.6777, Dev: 0.3490\n",
            "Epoch: [16/1000], Step: [200/301], Loss: 0.7187, Dev: 0.3420\n",
            "Epoch: [16/1000], Step: [300/301], Loss: 0.8466, Dev: 0.3450\n",
            "updated!15\n",
            "Epoch: [17/1000], Step: [100/301], Loss: 0.3642, Dev: 0.3370\n",
            "Epoch: [17/1000], Step: [200/301], Loss: 0.8773, Dev: 0.3420\n",
            "Epoch: [17/1000], Step: [300/301], Loss: 0.6414, Dev: 0.3170\n",
            "Epoch: [18/1000], Step: [100/301], Loss: 0.9956, Dev: 0.3360\n",
            "Epoch: [18/1000], Step: [200/301], Loss: 0.6822, Dev: 0.3310\n",
            "Epoch: [18/1000], Step: [300/301], Loss: 0.8071, Dev: 0.3490\n",
            "updated!17\n",
            "Epoch: [19/1000], Step: [100/301], Loss: 1.0780, Dev: 0.3700\n",
            "Epoch: [19/1000], Step: [200/301], Loss: 0.4632, Dev: 0.3200\n",
            "Epoch: [19/1000], Step: [300/301], Loss: 0.6028, Dev: 0.3540\n",
            "Epoch: [20/1000], Step: [100/301], Loss: 0.6229, Dev: 0.3480\n",
            "Epoch: [20/1000], Step: [200/301], Loss: 0.7143, Dev: 0.3830\n",
            "Epoch: [20/1000], Step: [300/301], Loss: 0.7497, Dev: 0.3580\n",
            "Epoch: [21/1000], Step: [100/301], Loss: 0.8279, Dev: 0.3400\n",
            "Epoch: [21/1000], Step: [200/301], Loss: 0.7014, Dev: 0.3620\n",
            "Epoch: [21/1000], Step: [300/301], Loss: 0.8057, Dev: 0.3760\n",
            "updated!20\n",
            "Epoch: [22/1000], Step: [100/301], Loss: 0.6772, Dev: 0.2930\n",
            "Epoch: [22/1000], Step: [200/301], Loss: 0.5347, Dev: 0.3530\n",
            "Epoch: [22/1000], Step: [300/301], Loss: 0.4937, Dev: 0.3760\n",
            "Epoch: [23/1000], Step: [100/301], Loss: 0.8421, Dev: 0.3770\n",
            "Epoch: [23/1000], Step: [200/301], Loss: 0.6444, Dev: 0.3780\n",
            "Epoch: [23/1000], Step: [300/301], Loss: 0.6840, Dev: 0.3670\n",
            "Epoch: [24/1000], Step: [100/301], Loss: 0.7066, Dev: 0.3770\n",
            "Epoch: [24/1000], Step: [200/301], Loss: 0.4660, Dev: 0.3940\n",
            "Epoch: [24/1000], Step: [300/301], Loss: 0.4578, Dev: 0.3890\n",
            "updated!23\n",
            "Epoch: [25/1000], Step: [100/301], Loss: 0.5093, Dev: 0.4040\n",
            "Epoch: [25/1000], Step: [200/301], Loss: 0.5430, Dev: 0.3460\n",
            "Epoch: [25/1000], Step: [300/301], Loss: 0.6407, Dev: 0.3780\n",
            "Epoch: [26/1000], Step: [100/301], Loss: 0.7654, Dev: 0.3820\n",
            "Epoch: [26/1000], Step: [200/301], Loss: 0.6422, Dev: 0.3800\n",
            "Epoch: [26/1000], Step: [300/301], Loss: 0.3947, Dev: 0.3680\n",
            "Epoch: [27/1000], Step: [100/301], Loss: 0.3306, Dev: 0.3920\n",
            "Epoch: [27/1000], Step: [200/301], Loss: 0.4924, Dev: 0.3820\n",
            "Epoch: [27/1000], Step: [300/301], Loss: 0.3859, Dev: 0.3860\n",
            "updated!26\n",
            "Epoch: [28/1000], Step: [100/301], Loss: 0.3758, Dev: 0.3660\n",
            "Epoch: [28/1000], Step: [200/301], Loss: 0.4677, Dev: 0.4190\n",
            "Epoch: [28/1000], Step: [300/301], Loss: 0.4011, Dev: 0.4020\n",
            "Epoch: [29/1000], Step: [100/301], Loss: 0.5294, Dev: 0.4040\n",
            "Epoch: [29/1000], Step: [200/301], Loss: 0.5020, Dev: 0.4330\n",
            "Epoch: [29/1000], Step: [300/301], Loss: 0.4023, Dev: 0.4070\n",
            "updated!28\n",
            "Epoch: [30/1000], Step: [100/301], Loss: 0.4353, Dev: 0.4100\n",
            "Epoch: [30/1000], Step: [200/301], Loss: 0.5227, Dev: 0.3660\n",
            "Epoch: [30/1000], Step: [300/301], Loss: 0.6158, Dev: 0.4100\n",
            "Epoch: [31/1000], Step: [100/301], Loss: 0.6894, Dev: 0.4130\n",
            "Epoch: [31/1000], Step: [200/301], Loss: 0.4609, Dev: 0.3920\n",
            "Epoch: [31/1000], Step: [300/301], Loss: 0.4317, Dev: 0.3940\n",
            "Epoch: [32/1000], Step: [100/301], Loss: 0.4543, Dev: 0.3790\n",
            "Epoch: [32/1000], Step: [200/301], Loss: 0.3805, Dev: 0.4050\n",
            "Epoch: [32/1000], Step: [300/301], Loss: 0.5415, Dev: 0.4150\n",
            "Epoch: [33/1000], Step: [100/301], Loss: 0.3480, Dev: 0.3980\n",
            "Epoch: [33/1000], Step: [200/301], Loss: 0.2925, Dev: 0.3970\n",
            "Epoch: [33/1000], Step: [300/301], Loss: 0.3745, Dev: 0.4170\n",
            "Epoch: [34/1000], Step: [100/301], Loss: 0.4585, Dev: 0.4040\n",
            "Epoch: [34/1000], Step: [200/301], Loss: 0.3416, Dev: 0.3910\n",
            "Epoch: [34/1000], Step: [300/301], Loss: 0.3306, Dev: 0.3790\n",
            "Epoch: [35/1000], Step: [100/301], Loss: 0.2556, Dev: 0.4200\n",
            "Epoch: [35/1000], Step: [200/301], Loss: 0.6019, Dev: 0.4140\n",
            "Epoch: [35/1000], Step: [300/301], Loss: 0.5158, Dev: 0.4270\n",
            "Epoch: [36/1000], Step: [100/301], Loss: 0.1710, Dev: 0.4060\n",
            "Epoch: [36/1000], Step: [200/301], Loss: 0.3065, Dev: 0.4480\n",
            "Epoch: [36/1000], Step: [300/301], Loss: 0.3951, Dev: 0.3940\n",
            "Early Stopping\n",
            "Epoch: [1/1000], Step: [100/301], Loss: 1.3211, Dev: 0.6970\n",
            "Epoch: [1/1000], Step: [200/301], Loss: 1.8968, Dev: 0.6820\n",
            "Epoch: [1/1000], Step: [300/301], Loss: 2.8859, Dev: 0.6760\n",
            "updated!0\n",
            "Epoch: [2/1000], Step: [100/301], Loss: 2.0257, Dev: 0.6860\n",
            "Epoch: [2/1000], Step: [200/301], Loss: 3.2217, Dev: 0.6940\n",
            "Epoch: [2/1000], Step: [300/301], Loss: 1.8679, Dev: 0.6930\n",
            "updated!1\n",
            "Epoch: [3/1000], Step: [100/301], Loss: 2.6410, Dev: 0.7190\n",
            "Epoch: [3/1000], Step: [200/301], Loss: 2.3598, Dev: 0.7430\n",
            "Epoch: [3/1000], Step: [300/301], Loss: 2.1246, Dev: 0.7310\n",
            "updated!2\n",
            "Epoch: [4/1000], Step: [100/301], Loss: 1.7183, Dev: 0.7150\n",
            "Epoch: [4/1000], Step: [200/301], Loss: 2.0862, Dev: 0.7120\n",
            "Epoch: [4/1000], Step: [300/301], Loss: 1.1183, Dev: 0.7280\n",
            "updated!3\n",
            "Epoch: [5/1000], Step: [100/301], Loss: 3.4619, Dev: 0.7190\n",
            "Epoch: [5/1000], Step: [200/301], Loss: 0.9504, Dev: 0.7240\n",
            "Epoch: [5/1000], Step: [300/301], Loss: 0.9481, Dev: 0.7500\n",
            "updated!4\n",
            "Epoch: [6/1000], Step: [100/301], Loss: 1.3462, Dev: 0.7300\n",
            "Epoch: [6/1000], Step: [200/301], Loss: 1.2176, Dev: 0.7610\n",
            "Epoch: [6/1000], Step: [300/301], Loss: 1.6304, Dev: 0.7710\n",
            "updated!5\n",
            "Epoch: [7/1000], Step: [100/301], Loss: 0.7767, Dev: 0.7520\n",
            "Epoch: [7/1000], Step: [200/301], Loss: 1.3041, Dev: 0.7410\n",
            "Epoch: [7/1000], Step: [300/301], Loss: 1.4918, Dev: 0.7620\n",
            "Epoch: [8/1000], Step: [100/301], Loss: 1.6148, Dev: 0.7370\n",
            "Epoch: [8/1000], Step: [200/301], Loss: 2.2874, Dev: 0.7420\n",
            "Epoch: [8/1000], Step: [300/301], Loss: 1.0792, Dev: 0.7640\n",
            "Epoch: [9/1000], Step: [100/301], Loss: 1.4729, Dev: 0.7540\n",
            "Epoch: [9/1000], Step: [200/301], Loss: 1.7503, Dev: 0.7380\n",
            "Epoch: [9/1000], Step: [300/301], Loss: 1.9737, Dev: 0.7740\n",
            "updated!8\n",
            "Epoch: [10/1000], Step: [100/301], Loss: 1.7931, Dev: 0.7860\n",
            "Epoch: [10/1000], Step: [200/301], Loss: 1.8751, Dev: 0.7570\n",
            "Epoch: [10/1000], Step: [300/301], Loss: 1.4417, Dev: 0.7550\n",
            "Epoch: [11/1000], Step: [100/301], Loss: 1.4759, Dev: 0.7570\n",
            "Epoch: [11/1000], Step: [200/301], Loss: 1.1249, Dev: 0.7820\n",
            "Epoch: [11/1000], Step: [300/301], Loss: 0.5513, Dev: 0.7630\n",
            "Epoch: [12/1000], Step: [100/301], Loss: 0.9635, Dev: 0.7480\n",
            "Epoch: [12/1000], Step: [200/301], Loss: 1.0776, Dev: 0.7920\n",
            "Epoch: [12/1000], Step: [300/301], Loss: 1.4009, Dev: 0.7880\n",
            "updated!11\n",
            "Epoch: [13/1000], Step: [100/301], Loss: 1.9432, Dev: 0.7920\n",
            "Epoch: [13/1000], Step: [200/301], Loss: 0.9222, Dev: 0.7790\n",
            "Epoch: [13/1000], Step: [300/301], Loss: 1.0909, Dev: 0.7510\n",
            "Epoch: [14/1000], Step: [100/301], Loss: 0.8661, Dev: 0.7850\n",
            "Epoch: [14/1000], Step: [200/301], Loss: 0.6156, Dev: 0.8000\n",
            "Epoch: [14/1000], Step: [300/301], Loss: 1.1994, Dev: 0.7930\n",
            "updated!13\n",
            "Epoch: [15/1000], Step: [100/301], Loss: 0.9118, Dev: 0.7930\n",
            "Epoch: [15/1000], Step: [200/301], Loss: 2.4004, Dev: 0.7730\n",
            "Epoch: [15/1000], Step: [300/301], Loss: 1.2543, Dev: 0.7700\n",
            "Early Stopping\n",
            "Epoch: [1/1000], Step: [100/301], Loss: 3.4216, Dev: 0.9210\n",
            "Epoch: [1/1000], Step: [200/301], Loss: 2.2313, Dev: 0.9340\n",
            "Epoch: [1/1000], Step: [300/301], Loss: 1.6521, Dev: 0.9510\n",
            "updated!0\n",
            "Epoch: [2/1000], Step: [100/301], Loss: 2.3635, Dev: 0.9410\n",
            "Epoch: [2/1000], Step: [200/301], Loss: 1.7508, Dev: 0.9460\n",
            "Epoch: [2/1000], Step: [300/301], Loss: 2.0222, Dev: 0.9480\n",
            "Epoch: [3/1000], Step: [100/301], Loss: 2.5916, Dev: 0.9390\n",
            "Epoch: [3/1000], Step: [200/301], Loss: 1.7009, Dev: 0.9480\n",
            "Epoch: [3/1000], Step: [300/301], Loss: 3.1381, Dev: 0.9460\n",
            "Epoch: [4/1000], Step: [100/301], Loss: 1.6025, Dev: 0.9540\n",
            "Epoch: [4/1000], Step: [200/301], Loss: 2.7826, Dev: 0.9610\n",
            "Epoch: [4/1000], Step: [300/301], Loss: 1.8471, Dev: 0.9480\n",
            "Epoch: [5/1000], Step: [100/301], Loss: 1.0700, Dev: 0.9510\n",
            "Epoch: [5/1000], Step: [200/301], Loss: 2.6839, Dev: 0.9530\n",
            "Epoch: [5/1000], Step: [300/301], Loss: 2.3368, Dev: 0.9550\n",
            "updated!4\n",
            "Epoch: [6/1000], Step: [100/301], Loss: 2.1794, Dev: 0.9540\n",
            "Epoch: [6/1000], Step: [200/301], Loss: 1.6802, Dev: 0.9510\n",
            "Epoch: [6/1000], Step: [300/301], Loss: 1.2634, Dev: 0.9530\n",
            "updated!5\n",
            "Epoch: [7/1000], Step: [100/301], Loss: 1.5521, Dev: 0.9650\n",
            "Epoch: [7/1000], Step: [200/301], Loss: 1.1075, Dev: 0.9550\n",
            "Epoch: [7/1000], Step: [300/301], Loss: 2.1147, Dev: 0.9610\n",
            "updated!6\n",
            "Epoch: [8/1000], Step: [100/301], Loss: 1.1598, Dev: 0.9620\n",
            "Epoch: [8/1000], Step: [200/301], Loss: 1.1563, Dev: 0.9620\n",
            "Epoch: [8/1000], Step: [300/301], Loss: 1.4782, Dev: 0.9610\n",
            "Epoch: [9/1000], Step: [100/301], Loss: 1.7675, Dev: 0.9610\n",
            "Epoch: [9/1000], Step: [200/301], Loss: 2.4452, Dev: 0.9570\n",
            "Epoch: [9/1000], Step: [300/301], Loss: 0.8412, Dev: 0.9610\n",
            "Epoch: [10/1000], Step: [100/301], Loss: 1.1504, Dev: 0.9650\n",
            "Epoch: [10/1000], Step: [200/301], Loss: 1.6758, Dev: 0.9630\n",
            "Epoch: [10/1000], Step: [300/301], Loss: 1.6370, Dev: 0.9610\n",
            "Epoch: [11/1000], Step: [100/301], Loss: 1.2219, Dev: 0.9610\n",
            "Epoch: [11/1000], Step: [200/301], Loss: 1.6742, Dev: 0.9660\n",
            "Epoch: [11/1000], Step: [300/301], Loss: 1.1117, Dev: 0.9620\n",
            "updated!10\n",
            "Epoch: [12/1000], Step: [100/301], Loss: 0.5684, Dev: 0.9610\n",
            "Epoch: [12/1000], Step: [200/301], Loss: 1.1048, Dev: 0.9600\n",
            "Epoch: [12/1000], Step: [300/301], Loss: 1.4859, Dev: 0.9610\n",
            "Epoch: [13/1000], Step: [100/301], Loss: 0.6889, Dev: 0.9660\n",
            "Epoch: [13/1000], Step: [200/301], Loss: 1.3147, Dev: 0.9640\n",
            "Epoch: [13/1000], Step: [300/301], Loss: 0.7268, Dev: 0.9640\n",
            "Epoch: [14/1000], Step: [100/301], Loss: 2.1434, Dev: 0.9680\n",
            "Epoch: [14/1000], Step: [200/301], Loss: 1.8362, Dev: 0.9690\n",
            "Epoch: [14/1000], Step: [300/301], Loss: 1.4540, Dev: 0.9640\n",
            "Epoch: [15/1000], Step: [100/301], Loss: 1.0533, Dev: 0.9660\n",
            "Epoch: [15/1000], Step: [200/301], Loss: 1.0630, Dev: 0.9670\n",
            "Epoch: [15/1000], Step: [300/301], Loss: 1.5158, Dev: 0.9640\n",
            "Epoch: [16/1000], Step: [100/301], Loss: 1.1944, Dev: 0.9690\n",
            "Epoch: [16/1000], Step: [200/301], Loss: 0.9560, Dev: 0.9690\n",
            "Epoch: [16/1000], Step: [300/301], Loss: 1.0802, Dev: 0.9680\n",
            "updated!15\n",
            "Epoch: [17/1000], Step: [100/301], Loss: 0.9015, Dev: 0.9660\n",
            "Epoch: [17/1000], Step: [200/301], Loss: 0.8811, Dev: 0.9680\n",
            "Epoch: [17/1000], Step: [300/301], Loss: 1.1884, Dev: 0.9680\n",
            "Epoch: [18/1000], Step: [100/301], Loss: 1.2337, Dev: 0.9680\n",
            "Epoch: [18/1000], Step: [200/301], Loss: 1.2720, Dev: 0.9690\n",
            "Epoch: [18/1000], Step: [300/301], Loss: 0.8300, Dev: 0.9690\n",
            "updated!17\n",
            "Epoch: [19/1000], Step: [100/301], Loss: 0.7806, Dev: 0.9690\n",
            "Epoch: [19/1000], Step: [200/301], Loss: 1.3152, Dev: 0.9690\n",
            "Epoch: [19/1000], Step: [300/301], Loss: 1.0220, Dev: 0.9690\n",
            "Epoch: [20/1000], Step: [100/301], Loss: 2.0871, Dev: 0.9690\n",
            "Epoch: [20/1000], Step: [200/301], Loss: 0.7436, Dev: 0.9690\n",
            "Epoch: [20/1000], Step: [300/301], Loss: 1.0002, Dev: 0.9690\n",
            "Epoch: [21/1000], Step: [100/301], Loss: 0.8257, Dev: 0.9690\n",
            "Epoch: [21/1000], Step: [200/301], Loss: 1.5185, Dev: 0.9690\n",
            "Epoch: [21/1000], Step: [300/301], Loss: 0.4160, Dev: 0.9700\n",
            "updated!20\n",
            "Epoch: [22/1000], Step: [100/301], Loss: 1.0586, Dev: 0.9690\n",
            "Epoch: [22/1000], Step: [200/301], Loss: 1.0939, Dev: 0.9700\n",
            "Epoch: [22/1000], Step: [300/301], Loss: 0.7733, Dev: 0.9700\n",
            "Epoch: [23/1000], Step: [100/301], Loss: 0.9452, Dev: 0.9700\n",
            "Epoch: [23/1000], Step: [200/301], Loss: 1.2335, Dev: 0.9700\n",
            "Epoch: [23/1000], Step: [300/301], Loss: 0.4678, Dev: 0.9700\n",
            "Epoch: [24/1000], Step: [100/301], Loss: 0.6319, Dev: 0.9700\n",
            "Epoch: [24/1000], Step: [200/301], Loss: 1.7379, Dev: 0.9690\n",
            "Epoch: [24/1000], Step: [300/301], Loss: 0.7510, Dev: 0.9700\n",
            "Epoch: [25/1000], Step: [100/301], Loss: 0.5284, Dev: 0.9690\n",
            "Epoch: [25/1000], Step: [200/301], Loss: 0.8788, Dev: 0.9700\n",
            "Epoch: [25/1000], Step: [300/301], Loss: 1.2543, Dev: 0.9700\n",
            "Epoch: [26/1000], Step: [100/301], Loss: 0.8094, Dev: 0.9700\n",
            "Epoch: [26/1000], Step: [200/301], Loss: 0.6426, Dev: 0.9690\n",
            "Epoch: [26/1000], Step: [300/301], Loss: 0.5732, Dev: 0.9690\n",
            "Epoch: [27/1000], Step: [100/301], Loss: 0.9178, Dev: 0.9690\n",
            "Epoch: [27/1000], Step: [200/301], Loss: 0.9592, Dev: 0.9690\n",
            "Epoch: [27/1000], Step: [300/301], Loss: 0.3195, Dev: 0.9700\n",
            "Epoch: [28/1000], Step: [100/301], Loss: 1.0170, Dev: 0.9690\n",
            "Epoch: [28/1000], Step: [200/301], Loss: 1.2797, Dev: 0.9700\n",
            "Epoch: [28/1000], Step: [300/301], Loss: 0.5328, Dev: 0.9700\n",
            "Epoch: [29/1000], Step: [100/301], Loss: 0.7070, Dev: 0.9700\n",
            "Epoch: [29/1000], Step: [200/301], Loss: 0.8295, Dev: 0.9710\n",
            "Epoch: [29/1000], Step: [300/301], Loss: 1.5932, Dev: 0.9690\n",
            "Early Stopping\n"
          ],
          "name": "stdout"
        }
      ]
    },
    {
      "cell_type": "code",
      "metadata": {
        "id": "Y0Te-vSyNJzf",
        "colab_type": "code",
        "outputId": "ad72d500-0771-4382-9a8c-3e7dbe07af5f",
        "colab": {
          "base_uri": "https://localhost:8080/",
          "height": 36
        }
      },
      "source": [
        "best_acc, best_epochs, best_lr, best_l2, "
      ],
      "execution_count": 23,
      "outputs": [
        {
          "output_type": "execute_result",
          "data": {
            "text/plain": [
              "(0.97, 20, 0.1, 0)"
            ]
          },
          "metadata": {
            "tags": []
          },
          "execution_count": 23
        }
      ]
    },
    {
      "cell_type": "markdown",
      "metadata": {
        "id": "O--3ZdbKob33",
        "colab_type": "text"
      },
      "source": [
        "(0.97, 20, 0.1, 0)"
      ]
    },
    {
      "cell_type": "markdown",
      "metadata": {
        "id": "jRUlRGIWiqW9",
        "colab_type": "text"
      },
      "source": [
        "# Evaluation"
      ]
    },
    {
      "cell_type": "markdown",
      "metadata": {
        "id": "6zDrPphzsTBf",
        "colab_type": "text"
      },
      "source": [
        "## Validity Check\n",
        "This is a way for you to check whether you accidentially renamed answer variables or functions that we will use for automatic evaluation. Note that this is not a comprehensive list and we do not check here whether you accidentially changed the function signatures, so failing this validity check is only a sufficient condition for telling you something went wrong."
      ]
    },
    {
      "cell_type": "code",
      "metadata": {
        "id": "VEnoXoVjsVQ_",
        "colab_type": "code",
        "colab": {}
      },
      "source": [
        "for answer in [Q1, Q2, Q3, Q4, Q5, Q6, Q7, Q8, Q9, Q10, QFormulation]:\n",
        "  assert isinstance(answer, str)\n",
        "\n",
        "for fun in [\n",
        "    construct_scaled_identity, \n",
        "    mean_diagonal, \n",
        "    bottom_right_matrix,\n",
        "    transpose_sum,\n",
        "    matrixvector1,\n",
        "    matrixvector2,\n",
        "    matrixvector3,\n",
        "    matrixvector4,\n",
        "    matrixvector5,\n",
        "    fw,\n",
        "    bw,\n",
        "    SortBy,\n",
        "    collapse_mr_dot,\n",
        "    LogisticRegressionMeanPooling,\n",
        "    add_features,\n",
        "    accuracy,\n",
        "    training_loop\n",
        "    ]:\n",
        "  assert callable(fun)"
      ],
      "execution_count": 0,
      "outputs": []
    },
    {
      "cell_type": "code",
      "metadata": {
        "id": "gI5k7Ij99gE1",
        "colab_type": "code",
        "colab": {}
      },
      "source": [
        ""
      ],
      "execution_count": 0,
      "outputs": []
    }
  ]
}